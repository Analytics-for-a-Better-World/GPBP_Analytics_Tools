{
  "cells": [
    {
      "cell_type": "markdown",
      "metadata": {
        "id": "dDH6tkBm7NDG"
      },
      "source": [
        "# About improving on a greedy way to increment toward to long term optimum\n",
        "\n",
        "Joaquim Gromicho, March 2024\n",
        "\n",
        "## Recall the Timor-Leste assignment from AABW"
      ]
    },
    {
      "cell_type": "code",
      "execution_count": null,
      "metadata": {
        "id": "aAmnHTstl6zv"
      },
      "outputs": [],
      "source": [
        "!curl -s -H 'Cache-Control: no-cache, no-store' https://raw.githubusercontent.com/gromicho/data/main/AABW/util_AABW.py > util.py"
      ]
    },
    {
      "cell_type": "code",
      "execution_count": null,
      "metadata": {
        "id": "VuZwqAPRl6zw"
      },
      "outputs": [],
      "source": [
        "import util"
      ]
    },
    {
      "cell_type": "code",
      "execution_count": null,
      "metadata": {
        "id": "kcu4okYyl6zx"
      },
      "outputs": [],
      "source": [
        "data_file = 'DataErmeraTimorLeste.xlsx'\n",
        "assert util.RetrieveDataSet(data_file)\n",
        "data = util.ReadWorkbookIntoNamedTuple(data_file,idx_col=0)\n",
        "\n",
        "distances = data.Distances\n",
        "homes     = data.Homes\n",
        "locations = data.PotentialLocations"
      ]
    },
    {
      "cell_type": "markdown",
      "metadata": {
        "id": "vpg5vQDxl6zx"
      },
      "source": [
        "# Ensure preconditions"
      ]
    },
    {
      "cell_type": "code",
      "execution_count": null,
      "metadata": {
        "id": "ISZ0G-YrdrmJ"
      },
      "outputs": [],
      "source": [
        "import subprocess, sys, shutil"
      ]
    },
    {
      "cell_type": "code",
      "execution_count": null,
      "metadata": {
        "id": "nFHg5E5VgS3e"
      },
      "outputs": [],
      "source": [
        "def GetListOfInstalledPackages():\n",
        "    res = subprocess.check_output([sys.executable, '-m', 'pip', 'freeze'])\n",
        "    return { r.decode().split('==')[0] for r in res.split() }"
      ]
    },
    {
      "cell_type": "code",
      "execution_count": null,
      "metadata": {
        "id": "AQVLJ6CMqJxf"
      },
      "outputs": [],
      "source": [
        "def EnsurePreConditionsAtColab():\n",
        "    at_colab = \"google.colab\" in sys.modules\n",
        "    if at_colab:\n",
        "        installed = GetListOfInstalledPackages()\n",
        "        if not 'pyomo' in installed:\n",
        "            %pip install -q pyomo\n",
        "        if not 'highspy' in installed:\n",
        "            %pip install -q highspy\n",
        "        if not shutil.which('/usr/bin/cbc'):\n",
        "            !apt-get install -y -qq coinor-cbc\n",
        "            assert(shutil.which('/usr/bin/cbc'))\n",
        "    return at_colab"
      ]
    },
    {
      "cell_type": "code",
      "execution_count": null,
      "metadata": {
        "colab": {
          "base_uri": "https://localhost:8080/"
        },
        "id": "VLMXasCYqJxf",
        "outputId": "e259b4ca-2506-40e4-e565-eb27cbd4271c"
      },
      "outputs": [],
      "source": [
        "at_colab = EnsurePreConditionsAtColab()"
      ]
    },
    {
      "cell_type": "code",
      "execution_count": null,
      "metadata": {
        "id": "7xMMKNQQdrmJ"
      },
      "outputs": [],
      "source": [
        "from pathlib import Path\n",
        "import itertools as it\n",
        "from time import perf_counter as pc\n",
        "import numpy as np\n",
        "import pandas as pd\n",
        "import matplotlib.pyplot as plt\n",
        "import pyomo.environ as pyo"
      ]
    },
    {
      "cell_type": "code",
      "execution_count": null,
      "metadata": {
        "id": "VW3K8Cu37NDK"
      },
      "outputs": [],
      "source": [
        "def ListAvailableSolvers():\n",
        "    shell_command = \"pyomo help --solvers\"\n",
        "    output = subprocess.check_output(shell_command, shell=True).decode()\n",
        "    return [\n",
        "        line.strip()[1:]\n",
        "        for line in output.split()\n",
        "        if line.strip().startswith(\"+\") and not line.strip().endswith(\")\")\n",
        "    ]"
      ]
    },
    {
      "cell_type": "code",
      "execution_count": null,
      "metadata": {
        "id": "dJjRfZSq7NDK"
      },
      "outputs": [],
      "source": [
        "available_solvers = ListAvailableSolvers()"
      ]
    },
    {
      "cell_type": "code",
      "execution_count": null,
      "metadata": {
        "colab": {
          "base_uri": "https://localhost:8080/"
        },
        "id": "V8S7AMwwl6zy",
        "outputId": "3a6d09d8-fc1d-4361-dbe7-7afdf3b02578"
      },
      "outputs": [],
      "source": [
        "distances.shape"
      ]
    },
    {
      "cell_type": "markdown",
      "metadata": {
        "id": "cWIJqRb0l6zy"
      },
      "source": [
        "# Visualize the data"
      ]
    },
    {
      "cell_type": "code",
      "execution_count": null,
      "metadata": {
        "id": "Bwa4kCHll6zz"
      },
      "outputs": [],
      "source": [
        "def ShowFacilityLocation( xC, yC, xF, yF, X=[], Y=[], file_name=None ):\n",
        "    plt.plot( xC,yC, '.', color='lightgray' )\n",
        "    plt.plot( xF,yF, 's', mfc='none', color='cyan' )\n",
        "    plt.plot( xC[Y],yC[Y], 'o', color='g' )\n",
        "    plt.plot( xF[X],yF[X], 's', color='y' )\n",
        "    plt.xticks([])\n",
        "    plt.yticks([])\n",
        "    plt.axis('equal')\n",
        "    if file_name:\n",
        "        plt.savefig(file_name, bbox_inches='tight')\n",
        "    plt.show()"
      ]
    },
    {
      "cell_type": "code",
      "execution_count": null,
      "metadata": {
        "colab": {
          "base_uri": "https://localhost:8080/",
          "height": 406
        },
        "id": "F5QY7K1al6zz",
        "outputId": "55e6b8b7-9e76-419d-b8b9-35c09db25ed5"
      },
      "outputs": [],
      "source": [
        "xC = homes['lon']\n",
        "yC = homes['lat']\n",
        "xF = locations['lon']\n",
        "yF = locations['lat']\n",
        "ShowFacilityLocation( xC, yC, xF, yF, file_name='dataTL.pdf' )"
      ]
    },
    {
      "cell_type": "markdown",
      "metadata": {
        "id": "pgqPB3XEl6zz"
      },
      "source": [
        "# Prepare the data for optimization\n",
        "\n",
        "*_In preparing the data prior to building the optimization model we differ from the resolution given in AABW!_*\n",
        "\n",
        "Let us denote by $J$ the set of possible locations for health facilities and by $I$ the set of household locations: in our Ermera data set $|J| = 94$ and $|I| = 1084$.\n",
        "\n",
        "The `homes` and the `distances` are indexed in $I$ while the `locations` are indexed in $J$ which are also the columns of `distances`.\n",
        "\n",
        "After choosing $t$ a threshold on the distance, we define $J_i = \\{j \\in J : d_{ij} \\leq t\\}$ as the set of those $j \\in J$ for which $d_{ij} \\leq t$.\n",
        "These are the (potential) facilities within reach of each household.\n",
        "\n",
        "We store these sets as a `dict` called `JI` with keys $i \\in I$ and #J_i$ as values stored as `np.array` of unique `integers`.\n",
        "\n",
        "We also revert the logic to define `IJ` as being the households within the threshold of each (potential) facility. We can see `IJ` as the _catchment areas_ for that threshold."
      ]
    },
    {
      "cell_type": "code",
      "execution_count": null,
      "metadata": {
        "id": "_vlIQt2el6zz"
      },
      "outputs": [],
      "source": [
        "def catchment(distances, threshold):\n",
        "    return {\n",
        "        i: distances.columns[np.where(row <= threshold)[0]].values\n",
        "                    for i, row in distances.iterrows()\n",
        "    }"
      ]
    },
    {
      "cell_type": "code",
      "execution_count": null,
      "metadata": {
        "id": "msRXAzbXl6zz"
      },
      "outputs": [],
      "source": [
        "def reverse( mapping ):\n",
        "    from collections import defaultdict\n",
        "    result = defaultdict(set)\n",
        "    for x, Y in mapping.items():\n",
        "        for y in Y:\n",
        "            result[y].add(x)\n",
        "    return { y : np.array(sorted(result[y]),dtype=int) for y in sorted(result.keys()) }"
      ]
    },
    {
      "cell_type": "code",
      "execution_count": null,
      "metadata": {
        "id": "NGe2Yc_Al6zz"
      },
      "outputs": [],
      "source": [
        "def PrepareOptimizationData( locations, homes, distances, threshold):\n",
        "\n",
        "    assert all( homes.index == distances.index )\n",
        "    assert all( locations.index == distances.columns )\n",
        "\n",
        "    I = homes.index.values\n",
        "    J = locations.index.values\n",
        "\n",
        "    JI = catchment( distances, threshold )\n",
        "    IJ = reverse(JI)\n",
        "\n",
        "    assert set(JI.keys()).issubset( set(I) )\n",
        "    assert set(IJ.keys()).issubset( set(J) )\n",
        "    assert set(np.concatenate(list(IJ.values()))).issubset( set(I) )\n",
        "    assert set(np.concatenate(list(JI.values()))).issubset( set(J) )\n",
        "\n",
        "    return I, J, IJ, JI"
      ]
    },
    {
      "cell_type": "code",
      "execution_count": null,
      "metadata": {
        "id": "bRBC51q8l6zz"
      },
      "outputs": [],
      "source": [
        "I, J, IJ, JI = PrepareOptimizationData( locations, homes, distances, 3 )\n",
        "w = np.ones_like(I)"
      ]
    },
    {
      "cell_type": "markdown",
      "metadata": {
        "id": "7zbXcrXlqJxk"
      },
      "source": [
        "### Model `maximal covering` as in the paper by [Church and ReVelle](http://www.geog.ucsb.edu/~forest/G294download/MAX_COVER_RLC_CSR.pdf)\n",
        "\n",
        "This model defines variables $z_i$ for each household $i\\in I$ to indicate if that household can be served by a hospital that is opened.\n",
        "\n",
        "\\begin{align*}\n",
        "    \\max\\quad & \\sum_{i\\in I} v_iz_i  \\\\\n",
        "    \\text{subject to}\\quad & z_i \\leq \\sum_{j\\in J_i } x_j & \\forall i \\in I \\\\\n",
        "    & \\sum_{j \\in J} x_j \\leq p \\\\\n",
        "    & x_j \\in \\{0,1\\} & \\forall j \\in J \\\\\n",
        "    & z_i \\in \\{0,1\\} & \\forall i \\in I\n",
        "\\end{align*}"
      ]
    },
    {
      "cell_type": "code",
      "execution_count": null,
      "metadata": {
        "id": "q7C_3PfOqJxk"
      },
      "outputs": [],
      "source": [
        "def model_max_covering(w, I, J, JI, p):\n",
        "    m = pyo.ConcreteModel('ModelMaxCovering')\n",
        "\n",
        "    m.p = pyo.Param(mutable=True, default=p)\n",
        "    m.I = pyo.Set(initialize=I)\n",
        "    m.J = pyo.Set(initialize=J)\n",
        "\n",
        "    @m.Param(m.I)\n",
        "    def w(m, i):\n",
        "        return w[i]\n",
        "\n",
        "    @m.Param(m.I, within=pyo.Any)\n",
        "    def JI(m, i):\n",
        "        return JI[i]\n",
        "\n",
        "    m.x = pyo.Var(m.J, within=pyo.Binary)\n",
        "    m.z = pyo.Var(m.I, within=pyo.Binary)\n",
        "\n",
        "    @m.Objective(sense=pyo.maximize)\n",
        "    def obj(m):\n",
        "        return pyo.quicksum(m.w[i] * m.z[i] for i in m.I)\n",
        "\n",
        "    @m.Constraint()\n",
        "    def budget(m):\n",
        "        return pyo.quicksum(m.x[j] for j in m.J) <= m.p\n",
        "\n",
        "    @m.Constraint(m.I)\n",
        "    def serve_if_reachable_and_open(m, i):\n",
        "        return m.z[i] <= pyo.quicksum(m.x[j] for j in m.JI[i])\n",
        "\n",
        "    return m"
      ]
    },
    {
      "cell_type": "code",
      "execution_count": null,
      "metadata": {
        "id": "rafqb8K6l6z0"
      },
      "outputs": [],
      "source": [
        "def get_selected(x):\n",
        "    return [j for j, v in x.items() if v() > 0.5]"
      ]
    },
    {
      "cell_type": "code",
      "execution_count": null,
      "metadata": {
        "colab": {
          "base_uri": "https://localhost:8080/"
        },
        "id": "VkJMi97z7NDM",
        "outputId": "d00e0f80-5d3f-479e-e653-75490511bd9b"
      },
      "outputs": [],
      "source": [
        "if at_colab:\n",
        "    solvers = ['cbc','appsi_highs']\n",
        "else:\n",
        "    solvers = [\n",
        "         'gurobi_direct'\n",
        "        ,'mosek_direct'\n",
        "        ,'cplex_direct'\n",
        "        ,'cbc'\n",
        "        ,'glpk'\n",
        "        ,'appsi_highs'\n",
        "    ]\n",
        "\n",
        "solvers =sorted(set(solvers) & set(available_solvers) )\n",
        "solvers"
      ]
    },
    {
      "cell_type": "code",
      "execution_count": null,
      "metadata": {
        "colab": {
          "base_uri": "https://localhost:8080/"
        },
        "id": "8sYZ5Tmfjv8L",
        "outputId": "ba1838d6-a6e9-4214-8afb-5193cb0298d8"
      },
      "outputs": [],
      "source": [
        "t = pc()\n",
        "m = model_max_covering( w, I, J, JI, 5 )\n",
        "t = pc()-t\n",
        "print(f\"{'-'*50}\\n{model_max_covering.__name__:>30s} {t:5.2f}\")\n",
        "time_per_solver = dict()\n",
        "for solver in solvers:\n",
        "    t = pc()\n",
        "    r = pyo.SolverFactory(solver).solve(m)\n",
        "    t = pc()-t\n",
        "    time_per_solver[solver] = t\n",
        "    print(f'{solver:>30s} {t:5.2f} {m.obj():6.1f}')"
      ]
    },
    {
      "cell_type": "code",
      "execution_count": null,
      "metadata": {
        "colab": {
          "base_uri": "https://localhost:8080/",
          "height": 35
        },
        "id": "FkdiYHnXtMYz",
        "outputId": "e679dcda-e511-4f9f-cc59-6831576bf527"
      },
      "outputs": [],
      "source": [
        "fastest_solver = min(time_per_solver, key=time_per_solver.get)\n",
        "fastest_solver"
      ]
    },
    {
      "cell_type": "markdown",
      "metadata": {
        "id": "qUsTElWnmIji"
      },
      "source": []
    },
    {
      "cell_type": "code",
      "execution_count": null,
      "metadata": {
        "colab": {
          "base_uri": "https://localhost:8080/",
          "height": 406
        },
        "id": "PBjfTpljqJxl",
        "outputId": "454c3f93-a121-4189-9656-d3a622f9b972"
      },
      "outputs": [],
      "source": [
        "ShowFacilityLocation( xC, yC, xF, yF, get_selected( m.x ), get_selected( m.z ) )"
      ]
    },
    {
      "cell_type": "markdown",
      "metadata": {
        "id": "GOwmusH67NDO"
      },
      "source": [
        "## Pareto frontiers\n",
        "\n",
        "One can see the maximization of the covering and the budget allocation as somehow multiple objectives: the highest covering for the lowest budget.\n",
        "\n",
        "In fact, so far, the budget was given as a fact. But, in reality, the decision makers make tradeoffs.\n",
        "\n",
        "We will not dwell into multi-objective optimization now, but let us use the generation of a Pareto frontier as an illustration for mutable `pyomo` parameters."
      ]
    },
    {
      "cell_type": "code",
      "execution_count": null,
      "metadata": {
        "id": "wp904Vt_l6z0"
      },
      "outputs": [],
      "source": [
        "def ComputePareto( w, I, J, JI, p_max, solver, progress=lambda x : x ):\n",
        "    result = dict()\n",
        "    start = pc()\n",
        "    model = model_max_covering( w, I, J, JI, p_max )\n",
        "    for model.p in progress(range(p_max)):\n",
        "        modeling = pc()-start\n",
        "        start = pc()\n",
        "        solver_result = solver.solve(model, tee=False)\n",
        "        solving = pc()-start\n",
        "        result[model.p()] = dict(\n",
        "            modeling=modeling,\n",
        "            solving=solving,\n",
        "            value=model.obj(),\n",
        "            solution=get_selected( model.x ),\n",
        "            termination=solver_result.solver.termination_condition,\n",
        "            upper=solver_result.problem.upper_bound)\n",
        "        start = pc()\n",
        "    return result"
      ]
    },
    {
      "cell_type": "code",
      "execution_count": null,
      "metadata": {
        "id": "vTaH4UUnl6z0"
      },
      "outputs": [],
      "source": [
        "from tqdm.notebook import tqdm"
      ]
    },
    {
      "cell_type": "code",
      "execution_count": null,
      "metadata": {
        "colab": {
          "base_uri": "https://localhost:8080/",
          "height": 49,
          "referenced_widgets": [
            "89b36cb5af7a42ad8f836537039d08bd",
            "a39b85afe1424da8804723a440ad16eb",
            "227d1a73276841cd96f4cc1ff0b18131",
            "cf4c7289f89d4cc6a7b9d5d4ac53cc34",
            "459480a03d7e420f8be46801e8b853a3",
            "0c5c6cdaaf3044d79be3d11cb7829736",
            "5ae743627bb24a24a4be95cfbf10e7d5",
            "dbefc3d3d0274cdfbca4e17bc37dbd9c",
            "78f20e2a2ef24465bd4001eb880b9524",
            "91ced394008642448bc970b5276e9e69",
            "659293b7e1934350aebdce043f30fbe1"
          ]
        },
        "id": "7M08QqlS7NDS",
        "outputId": "b189509d-6bcc-454c-8a46-206e540be133"
      },
      "outputs": [],
      "source": [
        "result_pareto = ComputePareto( w, I, J, JI, p_max = len(locations), solver=pyo.SolverFactory(fastest_solver), progress=tqdm )"
      ]
    },
    {
      "cell_type": "code",
      "execution_count": null,
      "metadata": {
        "colab": {
          "base_uri": "https://localhost:8080/",
          "height": 308
        },
        "id": "Pd8ox3ok7NDT",
        "outputId": "6ceff6f9-6b6c-4583-d89e-6ae5165e6514"
      },
      "outputs": [],
      "source": [
        "opt_results = pd.DataFrame.from_dict( result_pareto, orient='index' )\n",
        "total_population = w.sum()\n",
        "opt_results['coverage'] = opt_results['value'] / total_population * 100\n",
        "opt_results[['coverage']].plot(style='.-',figsize=(10,3))"
      ]
    },
    {
      "cell_type": "markdown",
      "metadata": {
        "id": "PxI4tPLttMY0"
      },
      "source": [
        "# A fast implementation of `Greedy`\n",
        "\n",
        "Note that the implementation below is very efficient and improves on the implementation described in the [thesis by Fleur](https://www.vvsor.nl/articles/jan-hemelrijk-award-winner-2023/)."
      ]
    },
    {
      "cell_type": "code",
      "execution_count": null,
      "metadata": {
        "id": "o1D6lseDWf3Y"
      },
      "outputs": [],
      "source": [
        "def fast_greedy(w, JI, IJ):\n",
        "    J = list(IJ.keys())\n",
        "\n",
        "    gain = np.zeros(max(J)+1)\n",
        "    coverage = np.zeros_like(w, dtype=np.uint16)\n",
        "\n",
        "    related = { j : np.unique(np.concatenate([JI[i] for i in IJ[j]]))\n",
        "                for j in J if len(IJ[j])\n",
        "    }\n",
        "\n",
        "    def mutation( w, cov, IJ, J, v ):\n",
        "        return np.array( [w[IJ[j][cov[IJ[j]]==v]].sum() for j in J] )\n",
        "\n",
        "    sol = []\n",
        "    gain[J] = mutation( w, coverage, IJ, J, 0 )\n",
        "    while True:\n",
        "        s = gain.argmax()\n",
        "        if gain[s] <= 0:\n",
        "            break\n",
        "        coverage[IJ[s]] += 1\n",
        "        gain[related[s]] = mutation( w, coverage, IJ, related[s], 0 )\n",
        "        sol.append(s)\n",
        "    return np.array(sol)"
      ]
    },
    {
      "cell_type": "code",
      "execution_count": null,
      "metadata": {
        "id": "_DS9iJsQXpUD"
      },
      "outputs": [],
      "source": [
        "greedy_sequence = fast_greedy( w, JI, IJ)"
      ]
    },
    {
      "cell_type": "code",
      "execution_count": null,
      "metadata": {
        "id": "DG1lqwIvtMY0"
      },
      "outputs": [],
      "source": [
        "def add_greedy_columns( results, greedy_sequence, IJ, w, prefix ):\n",
        "    results[f'{prefix}_value'] = [\n",
        "            w[np.unique( np.concatenate(\n",
        "                            [IJ[j] for j in greedy_sequence[:i] ]\n",
        "                        ) )\n",
        "              ].sum() if i else 0 for i in results.index\n",
        "        ]\n",
        "\n",
        "    results[f'{prefix}_coverage'] = results[f'{prefix}_value'] / w.sum() * 100\n",
        "    return results"
      ]
    },
    {
      "cell_type": "code",
      "execution_count": null,
      "metadata": {
        "id": "GGwezAJQtMY0"
      },
      "outputs": [],
      "source": [
        "opt_results = add_greedy_columns( opt_results, greedy_sequence, IJ, w, 'greedy' )"
      ]
    },
    {
      "cell_type": "code",
      "execution_count": null,
      "metadata": {
        "colab": {
          "base_uri": "https://localhost:8080/",
          "height": 308
        },
        "id": "n85IIzektMY4",
        "outputId": "41b37547-17c0-4f31-e51c-d7be8d6a6ac4"
      },
      "outputs": [],
      "source": [
        "opt_results[['coverage','greedy_coverage']].plot(style='.-',figsize=(10,3))"
      ]
    },
    {
      "cell_type": "code",
      "execution_count": null,
      "metadata": {
        "colab": {
          "base_uri": "https://localhost:8080/"
        },
        "id": "MOhq0m0Zl6z1",
        "outputId": "7c336b89-9cfe-48b8-a78a-a4181bc03fa8"
      },
      "outputs": [],
      "source": [
        "( opt_results.coverage - opt_results.greedy_coverage ).max()"
      ]
    },
    {
      "cell_type": "markdown",
      "metadata": {
        "id": "bZNFntA97NDT"
      },
      "source": [
        "## Is Greedy always optimal?\n",
        "\n",
        "One example may be misleading!\n",
        "\n",
        "This is the moment that you think again: is $P = NP$ after all?\n",
        "\n",
        "Of course not. A simple example will do:"
      ]
    },
    {
      "cell_type": "code",
      "execution_count": null,
      "metadata": {
        "id": "ZyjZSltal6z1"
      },
      "outputs": [],
      "source": [
        "def FinishInstance( homes, locations ):\n",
        "    from scipy.spatial.distance import cdist\n",
        "    distances = pd.DataFrame(cdist(homes,locations)) / 100\n",
        "    homes = pd.DataFrame(homes,columns=['lat','lon'])\n",
        "    locations = pd.DataFrame(locations,columns=['lat','lon'])\n",
        "    xC = homes['lon']\n",
        "    yC = homes['lat']\n",
        "    xF = locations['lon']\n",
        "    yF = locations['lat']\n",
        "    return distances,homes,locations, xC, yC, xF, yF"
      ]
    },
    {
      "cell_type": "code",
      "execution_count": null,
      "metadata": {
        "colab": {
          "base_uri": "https://localhost:8080/",
          "height": 191
        },
        "id": "o9rZlVz77NDT",
        "outputId": "be20874b-a045-4b88-a0d7-c13744621254"
      },
      "outputs": [],
      "source": [
        "homes = [\n",
        "     [2,0]\n",
        "    ,[2,2]\n",
        "    ,[2,4]\n",
        "    ,[2,6]\n",
        "    ,[1,1]\n",
        "    ,[1,3]\n",
        "    ,[1,5]\n",
        "    ,[3,1]\n",
        "    ,[3,3]\n",
        "    ,[3,5]\n",
        "]\n",
        "\n",
        "locations = [\n",
        "     [2,1]\n",
        "    ,[2,3]\n",
        "    ,[2,5]\n",
        "]\n",
        "distances,homes,locations, xC, yC, xF, yF = FinishInstance( homes, locations )\n",
        "distances *= 100\n",
        "with plt.rc_context({'figure.figsize': (2, 2)}):\n",
        "  ShowFacilityLocation( xC, yC, xF, yF )"
      ]
    },
    {
      "cell_type": "code",
      "execution_count": null,
      "metadata": {
        "id": "Pr8PPgvnl6z5"
      },
      "outputs": [],
      "source": [
        "I, J, IJ, JI = PrepareOptimizationData( locations, homes, distances, 2.5 )\n",
        "w = np.ones_like(I)"
      ]
    },
    {
      "cell_type": "code",
      "execution_count": null,
      "metadata": {
        "colab": {
          "base_uri": "https://localhost:8080/",
          "height": 49,
          "referenced_widgets": [
            "cd46ec7164964158a91017dc822197e1",
            "6e5760785c1d4608b2df0341f62fb22c",
            "3c1cadbda7da47be9b2667e4dd52fccd",
            "3f55e5984c894ce3b23c89ba79973922",
            "5869df2d134f4a37979b23c69ea3c759",
            "3de3113581964cb3affe3bff83fff1b7",
            "9c0e5b99726946249c00eff40267dda8",
            "aa78414781644a0e9caaa8521a65a448",
            "10f38bf3bb8d44dfbf1f37ca26c1ac68",
            "2782f8c2dd78411abfcf645a72752e58",
            "29df8cabae934b70b61fe0016c38388c"
          ]
        },
        "id": "AXjhOqrDl6z5",
        "outputId": "b23d9023-61ce-4f2f-85fc-3ee27ed304e5"
      },
      "outputs": [],
      "source": [
        "result_pareto = ComputePareto( w, I, J, JI, p_max = len(locations), solver=pyo.SolverFactory(fastest_solver), progress=tqdm )"
      ]
    },
    {
      "cell_type": "code",
      "execution_count": null,
      "metadata": {
        "colab": {
          "base_uri": "https://localhost:8080/",
          "height": 308
        },
        "id": "5kGgIuVQl6z5",
        "outputId": "cdab45ab-6277-4ea1-e22b-3d1131f04004"
      },
      "outputs": [],
      "source": [
        "opt_results = pd.DataFrame.from_dict( result_pareto, orient='index' )\n",
        "total_population = w.sum()\n",
        "opt_results['coverage'] = opt_results['value'] / total_population * 100\n",
        "opt_results[['coverage']].plot(style='.-',figsize=(10,3))"
      ]
    },
    {
      "cell_type": "code",
      "execution_count": null,
      "metadata": {
        "id": "41Go8LYNl6z5"
      },
      "outputs": [],
      "source": [
        "greedy_sequence = fast_greedy( w, JI, IJ)"
      ]
    },
    {
      "cell_type": "code",
      "execution_count": null,
      "metadata": {
        "id": "B1kdaTk2tMY5"
      },
      "outputs": [],
      "source": [
        "opt_results = add_greedy_columns( opt_results, greedy_sequence, IJ, w, 'greedy' )"
      ]
    },
    {
      "cell_type": "code",
      "execution_count": null,
      "metadata": {
        "colab": {
          "base_uri": "https://localhost:8080/",
          "height": 308
        },
        "id": "sBMUOPuhtMY5",
        "outputId": "3600edd8-35ba-4a3c-8351-4a1ffdc2fc9b"
      },
      "outputs": [],
      "source": [
        "opt_results[['coverage','greedy_coverage']].plot(style='.-',figsize=(10,3))"
      ]
    },
    {
      "cell_type": "markdown",
      "metadata": {
        "id": "1mYnG9PVtMY5"
      },
      "source": [
        "# The approach mentioned in the Nepal paper\n",
        "\n",
        " 1. Reduce the instance to the solution that is considered optimal in the long term\n",
        " 1. Apply Greedy to this smaller instance"
      ]
    },
    {
      "cell_type": "code",
      "execution_count": null,
      "metadata": {
        "id": "53QH1bi_l6z5"
      },
      "outputs": [],
      "source": [
        "best = opt_results.solution.values[-1]"
      ]
    },
    {
      "cell_type": "code",
      "execution_count": null,
      "metadata": {
        "id": "RAI2g5cql6z5"
      },
      "outputs": [],
      "source": [
        "def reduce_to( I, J, IJ, JI, best ):\n",
        "    J = np.array(best)\n",
        "    IJ = { j : IJ[j] for j in J }\n",
        "    I = np.unique( np.concatenate( list(IJ.values()) ))\n",
        "    JI = { i : np.array(sorted(set(J).intersection(set(j)))) for i,j in JI.items() }\n",
        "    return I, J, IJ, JI"
      ]
    },
    {
      "cell_type": "code",
      "execution_count": null,
      "metadata": {
        "id": "h0-oNOJ4l6z5"
      },
      "outputs": [],
      "source": [
        "I, J, IJ, JI = reduce_to( I, J, IJ, JI, best )"
      ]
    },
    {
      "cell_type": "code",
      "execution_count": null,
      "metadata": {
        "id": "_ubDzms8l6z6"
      },
      "outputs": [],
      "source": [
        "new_greedy_sequence = fast_greedy( w, JI, IJ)"
      ]
    },
    {
      "cell_type": "code",
      "execution_count": null,
      "metadata": {
        "id": "FgmD5hI1tMY6"
      },
      "outputs": [],
      "source": [
        "opt_results = add_greedy_columns( opt_results, new_greedy_sequence, IJ, w, 'new_greedy' )"
      ]
    },
    {
      "cell_type": "code",
      "execution_count": null,
      "metadata": {
        "colab": {
          "base_uri": "https://localhost:8080/",
          "height": 308
        },
        "id": "GGLI5B-il6z6",
        "outputId": "0d7cb677-65ca-47cd-87b5-e1acad112f11"
      },
      "outputs": [],
      "source": [
        "opt_results[['coverage','greedy_coverage', 'new_greedy_coverage']].plot(style='.-',figsize=(10,3))"
      ]
    },
    {
      "cell_type": "code",
      "execution_count": null,
      "metadata": {
        "colab": {
          "base_uri": "https://localhost:8080/",
          "height": 291
        },
        "id": "M6XlqAazrlTW",
        "outputId": "05356b12-898f-4a0c-b12a-eecf395ef577"
      },
      "outputs": [],
      "source": [
        "ax = opt_results[['coverage','new_greedy_coverage']].rename(columns={'coverage':'Pareto','new_greedy_coverage':'Greedy deployment'}).plot(style='.-',figsize=(10,3))\n",
        "ax.set_xticks(range(3))\n",
        "plt.show()"
      ]
    },
    {
      "cell_type": "markdown",
      "metadata": {
        "id": "Wvm2wmB2tMY6"
      },
      "source": [
        "The research concerns the area between `new_greedy_coverage` and `coverage`."
      ]
    },
    {
      "cell_type": "markdown",
      "metadata": {},
      "source": []
    },
    {
      "cell_type": "markdown",
      "metadata": {},
      "source": []
    }
  ],
  "metadata": {
    "colab": {
      "provenance": []
    },
    "kernelspec": {
      "display_name": "Python 3",
      "name": "python3"
    },
    "language_info": {
      "codemirror_mode": {
        "name": "ipython",
        "version": 3
      },
      "file_extension": ".py",
      "mimetype": "text/x-python",
      "name": "python",
      "nbconvert_exporter": "python",
      "pygments_lexer": "ipython3",
      "version": "3.10.11"
    },
    "widgets": {
      "application/vnd.jupyter.widget-state+json": {
        "0c5c6cdaaf3044d79be3d11cb7829736": {
          "model_module": "@jupyter-widgets/base",
          "model_module_version": "1.2.0",
          "model_name": "LayoutModel",
          "state": {
            "_model_module": "@jupyter-widgets/base",
            "_model_module_version": "1.2.0",
            "_model_name": "LayoutModel",
            "_view_count": null,
            "_view_module": "@jupyter-widgets/base",
            "_view_module_version": "1.2.0",
            "_view_name": "LayoutView",
            "align_content": null,
            "align_items": null,
            "align_self": null,
            "border": null,
            "bottom": null,
            "display": null,
            "flex": null,
            "flex_flow": null,
            "grid_area": null,
            "grid_auto_columns": null,
            "grid_auto_flow": null,
            "grid_auto_rows": null,
            "grid_column": null,
            "grid_gap": null,
            "grid_row": null,
            "grid_template_areas": null,
            "grid_template_columns": null,
            "grid_template_rows": null,
            "height": null,
            "justify_content": null,
            "justify_items": null,
            "left": null,
            "margin": null,
            "max_height": null,
            "max_width": null,
            "min_height": null,
            "min_width": null,
            "object_fit": null,
            "object_position": null,
            "order": null,
            "overflow": null,
            "overflow_x": null,
            "overflow_y": null,
            "padding": null,
            "right": null,
            "top": null,
            "visibility": null,
            "width": null
          }
        },
        "10f38bf3bb8d44dfbf1f37ca26c1ac68": {
          "model_module": "@jupyter-widgets/controls",
          "model_module_version": "1.5.0",
          "model_name": "ProgressStyleModel",
          "state": {
            "_model_module": "@jupyter-widgets/controls",
            "_model_module_version": "1.5.0",
            "_model_name": "ProgressStyleModel",
            "_view_count": null,
            "_view_module": "@jupyter-widgets/base",
            "_view_module_version": "1.2.0",
            "_view_name": "StyleView",
            "bar_color": null,
            "description_width": ""
          }
        },
        "227d1a73276841cd96f4cc1ff0b18131": {
          "model_module": "@jupyter-widgets/controls",
          "model_module_version": "1.5.0",
          "model_name": "FloatProgressModel",
          "state": {
            "_dom_classes": [],
            "_model_module": "@jupyter-widgets/controls",
            "_model_module_version": "1.5.0",
            "_model_name": "FloatProgressModel",
            "_view_count": null,
            "_view_module": "@jupyter-widgets/controls",
            "_view_module_version": "1.5.0",
            "_view_name": "ProgressView",
            "bar_style": "success",
            "description": "",
            "description_tooltip": null,
            "layout": "IPY_MODEL_dbefc3d3d0274cdfbca4e17bc37dbd9c",
            "max": 94,
            "min": 0,
            "orientation": "horizontal",
            "style": "IPY_MODEL_78f20e2a2ef24465bd4001eb880b9524",
            "value": 94
          }
        },
        "2782f8c2dd78411abfcf645a72752e58": {
          "model_module": "@jupyter-widgets/base",
          "model_module_version": "1.2.0",
          "model_name": "LayoutModel",
          "state": {
            "_model_module": "@jupyter-widgets/base",
            "_model_module_version": "1.2.0",
            "_model_name": "LayoutModel",
            "_view_count": null,
            "_view_module": "@jupyter-widgets/base",
            "_view_module_version": "1.2.0",
            "_view_name": "LayoutView",
            "align_content": null,
            "align_items": null,
            "align_self": null,
            "border": null,
            "bottom": null,
            "display": null,
            "flex": null,
            "flex_flow": null,
            "grid_area": null,
            "grid_auto_columns": null,
            "grid_auto_flow": null,
            "grid_auto_rows": null,
            "grid_column": null,
            "grid_gap": null,
            "grid_row": null,
            "grid_template_areas": null,
            "grid_template_columns": null,
            "grid_template_rows": null,
            "height": null,
            "justify_content": null,
            "justify_items": null,
            "left": null,
            "margin": null,
            "max_height": null,
            "max_width": null,
            "min_height": null,
            "min_width": null,
            "object_fit": null,
            "object_position": null,
            "order": null,
            "overflow": null,
            "overflow_x": null,
            "overflow_y": null,
            "padding": null,
            "right": null,
            "top": null,
            "visibility": null,
            "width": null
          }
        },
        "29df8cabae934b70b61fe0016c38388c": {
          "model_module": "@jupyter-widgets/controls",
          "model_module_version": "1.5.0",
          "model_name": "DescriptionStyleModel",
          "state": {
            "_model_module": "@jupyter-widgets/controls",
            "_model_module_version": "1.5.0",
            "_model_name": "DescriptionStyleModel",
            "_view_count": null,
            "_view_module": "@jupyter-widgets/base",
            "_view_module_version": "1.2.0",
            "_view_name": "StyleView",
            "description_width": ""
          }
        },
        "3c1cadbda7da47be9b2667e4dd52fccd": {
          "model_module": "@jupyter-widgets/controls",
          "model_module_version": "1.5.0",
          "model_name": "FloatProgressModel",
          "state": {
            "_dom_classes": [],
            "_model_module": "@jupyter-widgets/controls",
            "_model_module_version": "1.5.0",
            "_model_name": "FloatProgressModel",
            "_view_count": null,
            "_view_module": "@jupyter-widgets/controls",
            "_view_module_version": "1.5.0",
            "_view_name": "ProgressView",
            "bar_style": "success",
            "description": "",
            "description_tooltip": null,
            "layout": "IPY_MODEL_aa78414781644a0e9caaa8521a65a448",
            "max": 3,
            "min": 0,
            "orientation": "horizontal",
            "style": "IPY_MODEL_10f38bf3bb8d44dfbf1f37ca26c1ac68",
            "value": 3
          }
        },
        "3de3113581964cb3affe3bff83fff1b7": {
          "model_module": "@jupyter-widgets/base",
          "model_module_version": "1.2.0",
          "model_name": "LayoutModel",
          "state": {
            "_model_module": "@jupyter-widgets/base",
            "_model_module_version": "1.2.0",
            "_model_name": "LayoutModel",
            "_view_count": null,
            "_view_module": "@jupyter-widgets/base",
            "_view_module_version": "1.2.0",
            "_view_name": "LayoutView",
            "align_content": null,
            "align_items": null,
            "align_self": null,
            "border": null,
            "bottom": null,
            "display": null,
            "flex": null,
            "flex_flow": null,
            "grid_area": null,
            "grid_auto_columns": null,
            "grid_auto_flow": null,
            "grid_auto_rows": null,
            "grid_column": null,
            "grid_gap": null,
            "grid_row": null,
            "grid_template_areas": null,
            "grid_template_columns": null,
            "grid_template_rows": null,
            "height": null,
            "justify_content": null,
            "justify_items": null,
            "left": null,
            "margin": null,
            "max_height": null,
            "max_width": null,
            "min_height": null,
            "min_width": null,
            "object_fit": null,
            "object_position": null,
            "order": null,
            "overflow": null,
            "overflow_x": null,
            "overflow_y": null,
            "padding": null,
            "right": null,
            "top": null,
            "visibility": null,
            "width": null
          }
        },
        "3f55e5984c894ce3b23c89ba79973922": {
          "model_module": "@jupyter-widgets/controls",
          "model_module_version": "1.5.0",
          "model_name": "HTMLModel",
          "state": {
            "_dom_classes": [],
            "_model_module": "@jupyter-widgets/controls",
            "_model_module_version": "1.5.0",
            "_model_name": "HTMLModel",
            "_view_count": null,
            "_view_module": "@jupyter-widgets/controls",
            "_view_module_version": "1.5.0",
            "_view_name": "HTMLView",
            "description": "",
            "description_tooltip": null,
            "layout": "IPY_MODEL_2782f8c2dd78411abfcf645a72752e58",
            "placeholder": "​",
            "style": "IPY_MODEL_29df8cabae934b70b61fe0016c38388c",
            "value": " 3/3 [00:00&lt;00:00,  7.75it/s]"
          }
        },
        "459480a03d7e420f8be46801e8b853a3": {
          "model_module": "@jupyter-widgets/base",
          "model_module_version": "1.2.0",
          "model_name": "LayoutModel",
          "state": {
            "_model_module": "@jupyter-widgets/base",
            "_model_module_version": "1.2.0",
            "_model_name": "LayoutModel",
            "_view_count": null,
            "_view_module": "@jupyter-widgets/base",
            "_view_module_version": "1.2.0",
            "_view_name": "LayoutView",
            "align_content": null,
            "align_items": null,
            "align_self": null,
            "border": null,
            "bottom": null,
            "display": null,
            "flex": null,
            "flex_flow": null,
            "grid_area": null,
            "grid_auto_columns": null,
            "grid_auto_flow": null,
            "grid_auto_rows": null,
            "grid_column": null,
            "grid_gap": null,
            "grid_row": null,
            "grid_template_areas": null,
            "grid_template_columns": null,
            "grid_template_rows": null,
            "height": null,
            "justify_content": null,
            "justify_items": null,
            "left": null,
            "margin": null,
            "max_height": null,
            "max_width": null,
            "min_height": null,
            "min_width": null,
            "object_fit": null,
            "object_position": null,
            "order": null,
            "overflow": null,
            "overflow_x": null,
            "overflow_y": null,
            "padding": null,
            "right": null,
            "top": null,
            "visibility": null,
            "width": null
          }
        },
        "5869df2d134f4a37979b23c69ea3c759": {
          "model_module": "@jupyter-widgets/base",
          "model_module_version": "1.2.0",
          "model_name": "LayoutModel",
          "state": {
            "_model_module": "@jupyter-widgets/base",
            "_model_module_version": "1.2.0",
            "_model_name": "LayoutModel",
            "_view_count": null,
            "_view_module": "@jupyter-widgets/base",
            "_view_module_version": "1.2.0",
            "_view_name": "LayoutView",
            "align_content": null,
            "align_items": null,
            "align_self": null,
            "border": null,
            "bottom": null,
            "display": null,
            "flex": null,
            "flex_flow": null,
            "grid_area": null,
            "grid_auto_columns": null,
            "grid_auto_flow": null,
            "grid_auto_rows": null,
            "grid_column": null,
            "grid_gap": null,
            "grid_row": null,
            "grid_template_areas": null,
            "grid_template_columns": null,
            "grid_template_rows": null,
            "height": null,
            "justify_content": null,
            "justify_items": null,
            "left": null,
            "margin": null,
            "max_height": null,
            "max_width": null,
            "min_height": null,
            "min_width": null,
            "object_fit": null,
            "object_position": null,
            "order": null,
            "overflow": null,
            "overflow_x": null,
            "overflow_y": null,
            "padding": null,
            "right": null,
            "top": null,
            "visibility": null,
            "width": null
          }
        },
        "5ae743627bb24a24a4be95cfbf10e7d5": {
          "model_module": "@jupyter-widgets/controls",
          "model_module_version": "1.5.0",
          "model_name": "DescriptionStyleModel",
          "state": {
            "_model_module": "@jupyter-widgets/controls",
            "_model_module_version": "1.5.0",
            "_model_name": "DescriptionStyleModel",
            "_view_count": null,
            "_view_module": "@jupyter-widgets/base",
            "_view_module_version": "1.2.0",
            "_view_name": "StyleView",
            "description_width": ""
          }
        },
        "659293b7e1934350aebdce043f30fbe1": {
          "model_module": "@jupyter-widgets/controls",
          "model_module_version": "1.5.0",
          "model_name": "DescriptionStyleModel",
          "state": {
            "_model_module": "@jupyter-widgets/controls",
            "_model_module_version": "1.5.0",
            "_model_name": "DescriptionStyleModel",
            "_view_count": null,
            "_view_module": "@jupyter-widgets/base",
            "_view_module_version": "1.2.0",
            "_view_name": "StyleView",
            "description_width": ""
          }
        },
        "6e5760785c1d4608b2df0341f62fb22c": {
          "model_module": "@jupyter-widgets/controls",
          "model_module_version": "1.5.0",
          "model_name": "HTMLModel",
          "state": {
            "_dom_classes": [],
            "_model_module": "@jupyter-widgets/controls",
            "_model_module_version": "1.5.0",
            "_model_name": "HTMLModel",
            "_view_count": null,
            "_view_module": "@jupyter-widgets/controls",
            "_view_module_version": "1.5.0",
            "_view_name": "HTMLView",
            "description": "",
            "description_tooltip": null,
            "layout": "IPY_MODEL_3de3113581964cb3affe3bff83fff1b7",
            "placeholder": "​",
            "style": "IPY_MODEL_9c0e5b99726946249c00eff40267dda8",
            "value": "100%"
          }
        },
        "78f20e2a2ef24465bd4001eb880b9524": {
          "model_module": "@jupyter-widgets/controls",
          "model_module_version": "1.5.0",
          "model_name": "ProgressStyleModel",
          "state": {
            "_model_module": "@jupyter-widgets/controls",
            "_model_module_version": "1.5.0",
            "_model_name": "ProgressStyleModel",
            "_view_count": null,
            "_view_module": "@jupyter-widgets/base",
            "_view_module_version": "1.2.0",
            "_view_name": "StyleView",
            "bar_color": null,
            "description_width": ""
          }
        },
        "89b36cb5af7a42ad8f836537039d08bd": {
          "model_module": "@jupyter-widgets/controls",
          "model_module_version": "1.5.0",
          "model_name": "HBoxModel",
          "state": {
            "_dom_classes": [],
            "_model_module": "@jupyter-widgets/controls",
            "_model_module_version": "1.5.0",
            "_model_name": "HBoxModel",
            "_view_count": null,
            "_view_module": "@jupyter-widgets/controls",
            "_view_module_version": "1.5.0",
            "_view_name": "HBoxView",
            "box_style": "",
            "children": [
              "IPY_MODEL_a39b85afe1424da8804723a440ad16eb",
              "IPY_MODEL_227d1a73276841cd96f4cc1ff0b18131",
              "IPY_MODEL_cf4c7289f89d4cc6a7b9d5d4ac53cc34"
            ],
            "layout": "IPY_MODEL_459480a03d7e420f8be46801e8b853a3"
          }
        },
        "91ced394008642448bc970b5276e9e69": {
          "model_module": "@jupyter-widgets/base",
          "model_module_version": "1.2.0",
          "model_name": "LayoutModel",
          "state": {
            "_model_module": "@jupyter-widgets/base",
            "_model_module_version": "1.2.0",
            "_model_name": "LayoutModel",
            "_view_count": null,
            "_view_module": "@jupyter-widgets/base",
            "_view_module_version": "1.2.0",
            "_view_name": "LayoutView",
            "align_content": null,
            "align_items": null,
            "align_self": null,
            "border": null,
            "bottom": null,
            "display": null,
            "flex": null,
            "flex_flow": null,
            "grid_area": null,
            "grid_auto_columns": null,
            "grid_auto_flow": null,
            "grid_auto_rows": null,
            "grid_column": null,
            "grid_gap": null,
            "grid_row": null,
            "grid_template_areas": null,
            "grid_template_columns": null,
            "grid_template_rows": null,
            "height": null,
            "justify_content": null,
            "justify_items": null,
            "left": null,
            "margin": null,
            "max_height": null,
            "max_width": null,
            "min_height": null,
            "min_width": null,
            "object_fit": null,
            "object_position": null,
            "order": null,
            "overflow": null,
            "overflow_x": null,
            "overflow_y": null,
            "padding": null,
            "right": null,
            "top": null,
            "visibility": null,
            "width": null
          }
        },
        "9c0e5b99726946249c00eff40267dda8": {
          "model_module": "@jupyter-widgets/controls",
          "model_module_version": "1.5.0",
          "model_name": "DescriptionStyleModel",
          "state": {
            "_model_module": "@jupyter-widgets/controls",
            "_model_module_version": "1.5.0",
            "_model_name": "DescriptionStyleModel",
            "_view_count": null,
            "_view_module": "@jupyter-widgets/base",
            "_view_module_version": "1.2.0",
            "_view_name": "StyleView",
            "description_width": ""
          }
        },
        "a39b85afe1424da8804723a440ad16eb": {
          "model_module": "@jupyter-widgets/controls",
          "model_module_version": "1.5.0",
          "model_name": "HTMLModel",
          "state": {
            "_dom_classes": [],
            "_model_module": "@jupyter-widgets/controls",
            "_model_module_version": "1.5.0",
            "_model_name": "HTMLModel",
            "_view_count": null,
            "_view_module": "@jupyter-widgets/controls",
            "_view_module_version": "1.5.0",
            "_view_name": "HTMLView",
            "description": "",
            "description_tooltip": null,
            "layout": "IPY_MODEL_0c5c6cdaaf3044d79be3d11cb7829736",
            "placeholder": "​",
            "style": "IPY_MODEL_5ae743627bb24a24a4be95cfbf10e7d5",
            "value": "100%"
          }
        },
        "aa78414781644a0e9caaa8521a65a448": {
          "model_module": "@jupyter-widgets/base",
          "model_module_version": "1.2.0",
          "model_name": "LayoutModel",
          "state": {
            "_model_module": "@jupyter-widgets/base",
            "_model_module_version": "1.2.0",
            "_model_name": "LayoutModel",
            "_view_count": null,
            "_view_module": "@jupyter-widgets/base",
            "_view_module_version": "1.2.0",
            "_view_name": "LayoutView",
            "align_content": null,
            "align_items": null,
            "align_self": null,
            "border": null,
            "bottom": null,
            "display": null,
            "flex": null,
            "flex_flow": null,
            "grid_area": null,
            "grid_auto_columns": null,
            "grid_auto_flow": null,
            "grid_auto_rows": null,
            "grid_column": null,
            "grid_gap": null,
            "grid_row": null,
            "grid_template_areas": null,
            "grid_template_columns": null,
            "grid_template_rows": null,
            "height": null,
            "justify_content": null,
            "justify_items": null,
            "left": null,
            "margin": null,
            "max_height": null,
            "max_width": null,
            "min_height": null,
            "min_width": null,
            "object_fit": null,
            "object_position": null,
            "order": null,
            "overflow": null,
            "overflow_x": null,
            "overflow_y": null,
            "padding": null,
            "right": null,
            "top": null,
            "visibility": null,
            "width": null
          }
        },
        "cd46ec7164964158a91017dc822197e1": {
          "model_module": "@jupyter-widgets/controls",
          "model_module_version": "1.5.0",
          "model_name": "HBoxModel",
          "state": {
            "_dom_classes": [],
            "_model_module": "@jupyter-widgets/controls",
            "_model_module_version": "1.5.0",
            "_model_name": "HBoxModel",
            "_view_count": null,
            "_view_module": "@jupyter-widgets/controls",
            "_view_module_version": "1.5.0",
            "_view_name": "HBoxView",
            "box_style": "",
            "children": [
              "IPY_MODEL_6e5760785c1d4608b2df0341f62fb22c",
              "IPY_MODEL_3c1cadbda7da47be9b2667e4dd52fccd",
              "IPY_MODEL_3f55e5984c894ce3b23c89ba79973922"
            ],
            "layout": "IPY_MODEL_5869df2d134f4a37979b23c69ea3c759"
          }
        },
        "cf4c7289f89d4cc6a7b9d5d4ac53cc34": {
          "model_module": "@jupyter-widgets/controls",
          "model_module_version": "1.5.0",
          "model_name": "HTMLModel",
          "state": {
            "_dom_classes": [],
            "_model_module": "@jupyter-widgets/controls",
            "_model_module_version": "1.5.0",
            "_model_name": "HTMLModel",
            "_view_count": null,
            "_view_module": "@jupyter-widgets/controls",
            "_view_module_version": "1.5.0",
            "_view_name": "HTMLView",
            "description": "",
            "description_tooltip": null,
            "layout": "IPY_MODEL_91ced394008642448bc970b5276e9e69",
            "placeholder": "​",
            "style": "IPY_MODEL_659293b7e1934350aebdce043f30fbe1",
            "value": " 94/94 [00:33&lt;00:00,  3.31it/s]"
          }
        },
        "dbefc3d3d0274cdfbca4e17bc37dbd9c": {
          "model_module": "@jupyter-widgets/base",
          "model_module_version": "1.2.0",
          "model_name": "LayoutModel",
          "state": {
            "_model_module": "@jupyter-widgets/base",
            "_model_module_version": "1.2.0",
            "_model_name": "LayoutModel",
            "_view_count": null,
            "_view_module": "@jupyter-widgets/base",
            "_view_module_version": "1.2.0",
            "_view_name": "LayoutView",
            "align_content": null,
            "align_items": null,
            "align_self": null,
            "border": null,
            "bottom": null,
            "display": null,
            "flex": null,
            "flex_flow": null,
            "grid_area": null,
            "grid_auto_columns": null,
            "grid_auto_flow": null,
            "grid_auto_rows": null,
            "grid_column": null,
            "grid_gap": null,
            "grid_row": null,
            "grid_template_areas": null,
            "grid_template_columns": null,
            "grid_template_rows": null,
            "height": null,
            "justify_content": null,
            "justify_items": null,
            "left": null,
            "margin": null,
            "max_height": null,
            "max_width": null,
            "min_height": null,
            "min_width": null,
            "object_fit": null,
            "object_position": null,
            "order": null,
            "overflow": null,
            "overflow_x": null,
            "overflow_y": null,
            "padding": null,
            "right": null,
            "top": null,
            "visibility": null,
            "width": null
          }
        }
      }
    }
  },
  "nbformat": 4,
  "nbformat_minor": 0
}
