{
 "cells": [
  {
   "cell_type": "code",
   "execution_count": null,
   "metadata": {
    "id": "rvACvv254h-2"
   },
   "outputs": [],
   "source": [
    "%pip install gadm hdx-python-api\n",
    "%pip install geopandas --upgrade\n",
    "%pip install pyomo\n",
    "%pip install highspy\n",
    "%pip install chart_studio\n",
    "%pip install h5netcdf"
   ]
  },
  {
   "cell_type": "code",
   "execution_count": null,
   "metadata": {
    "executionInfo": {
     "elapsed": 3880,
     "status": "ok",
     "timestamp": 1715175734887,
     "user": {
      "displayName": "Parvathy Krishnan",
      "userId": "07607340780720232615"
     },
     "user_tz": -120
    },
    "id": "TW1YwqMt8wFw"
   },
   "outputs": [],
   "source": [
    "import folium as fl\n",
    "import pandas as pd\n",
    "import geopandas as gpd\n",
    "from hdx.api.configuration import Configuration\n",
    "from hdx.data.resource import Resource\n",
    "import urllib.request\n",
    "import requests\n",
    "import json\n",
    "import requests\n",
    "import itertools\n",
    "\n",
    "from shapely.geometry import Polygon,MultiPolygon\n",
    "from shapely.ops import unary_union\n",
    "\n",
    "from gadm import GADMDownloader\n",
    "import numpy as np\n",
    "\n",
    "import xarray as xr\n",
    "import plotly.graph_objects as go\n",
    "import chart_studio\n",
    "import chart_studio.plotly as py\n",
    "\n",
    "import matplotlib.pyplot as plt"
   ]
  },
  {
   "cell_type": "code",
   "execution_count": null,
   "metadata": {
    "colab": {
     "base_uri": "https://localhost:8080/",
     "height": 99
    },
    "executionInfo": {
     "elapsed": 23367,
     "status": "ok",
     "timestamp": 1715175758252,
     "user": {
      "displayName": "Parvathy Krishnan",
      "userId": "07607340780720232615"
     },
     "user_tz": -120
    },
    "id": "RGmbvLHygNbA",
    "outputId": "eb1534c1-3c7c-4480-f92c-d15dada5402b"
   },
   "outputs": [],
   "source": [
    "# Initialize the GADMDownloader with the specified version (in this case, version 4.0)\n",
    "downloader = GADMDownloader(version=\"4.0\")\n",
    "\n",
    "# Define the country name for which you want to retrieve administrative boundary data\n",
    "country_name = \"Serbia\"\n",
    "\n",
    "# Specify the administrative level you are interested in (e.g., 1 for districts or provinces)\n",
    "ad_level = 0\n",
    "\n",
    "# Retrieve the geospatial data for the selected country and administrative level\n",
    "gdf = downloader.get_shape_data_by_country_name(country_name=country_name, ad_level=ad_level)\n",
    "\n",
    "# Display the first 2 rows of the obtained geospatial data for a quick preview\n",
    "gdf.head(2)\n"
   ]
  },
  {
   "cell_type": "code",
   "execution_count": null,
   "metadata": {
    "colab": {
     "base_uri": "https://localhost:8080/",
     "height": 1000
    },
    "executionInfo": {
     "elapsed": 911,
     "status": "ok",
     "timestamp": 1715175764729,
     "user": {
      "displayName": "Parvathy Krishnan",
      "userId": "07607340780720232615"
     },
     "user_tz": -120
    },
    "id": "q_lepeEG4hgJ",
    "outputId": "4b81feda-1952-47c9-8183-9b253962cf6c"
   },
   "outputs": [],
   "source": [
    "# Create a Folium map (m) with an initial zoom level of 10 and using OpenStreetMap tiles as the basemap\n",
    "m = fl.Map(location=[44.0165, 21.0059], zoom_start=8, tiles=\"OpenStreetMap\")\n",
    "\n",
    "# Iterate through each row in the geospatial data (gdf) representing administrative boundaries\n",
    "for _, r in gdf.iterrows():\n",
    "    # Simplify the geometry of the current boundary with a specified tolerance\n",
    "    sim_geo = gpd.GeoSeries(r[\"geometry\"]).simplify(tolerance=0.00001)\n",
    "\n",
    "    # Convert the simplified geometry to JSON format\n",
    "    geo_j = sim_geo.to_json()\n",
    "\n",
    "    # Create a GeoJson layer from the JSON geometry, and style it with an orange fill color\n",
    "    geo_j = fl.GeoJson(data=geo_j, style_function=lambda x: {\"fillColor\": \"orange\"})\n",
    "\n",
    "    # Add a popup with the NAME_1 attribute (administrative region name) to the GeoJson layer\n",
    "    fl.Popup(r[\"COUNTRY\"]).add_to(geo_j)\n",
    "\n",
    "    # Add the styled GeoJson layer to the Folium map (m)\n",
    "    geo_j.add_to(m)\n",
    "\n",
    "# Display the Folium map (m) with the administrative boundaries and popups\n",
    "#m\n"
   ]
  },
  {
   "cell_type": "code",
   "execution_count": null,
   "metadata": {
    "executionInfo": {
     "elapsed": 1,
     "status": "ok",
     "timestamp": 1715175776120,
     "user": {
      "displayName": "Parvathy Krishnan",
      "userId": "07607340780720232615"
     },
     "user_tz": -120
    },
    "id": "ilzeEb4vLIRe"
   },
   "outputs": [],
   "source": [
    "selected_gadm = gdf"
   ]
  },
  {
   "cell_type": "code",
   "execution_count": null,
   "metadata": {
    "executionInfo": {
     "elapsed": 1658,
     "status": "ok",
     "timestamp": 1715175779358,
     "user": {
      "displayName": "Parvathy Krishnan",
      "userId": "07607340780720232615"
     },
     "user_tz": -120
    },
    "id": "BLa0qyYF5s8b"
   },
   "outputs": [],
   "source": [
    "population = pd.read_csv('ppp_SRB_2020_1km_Aggregated.csv')"
   ]
  },
  {
   "cell_type": "code",
   "execution_count": null,
   "metadata": {
    "colab": {
     "base_uri": "https://localhost:8080/"
    },
    "executionInfo": {
     "elapsed": 240,
     "status": "ok",
     "timestamp": 1715175779597,
     "user": {
      "displayName": "Parvathy Krishnan",
      "userId": "07607340780720232615"
     },
     "user_tz": -120
    },
    "id": "ITgYhRgvKJ-_",
    "outputId": "71606ded-ac26-4335-c008-a91a65256faa"
   },
   "outputs": [],
   "source": [
    "print('Total Population:',round(population['Z'].sum()/1000000,2),'million')\n",
    "population = gpd.GeoDataFrame(\n",
    "    population, geometry=gpd.points_from_xy(population.X, population.Y)\n",
    ")\n",
    "\n",
    "population = population.set_crs(selected_gadm.crs)"
   ]
  },
  {
   "cell_type": "code",
   "execution_count": null,
   "metadata": {
    "colab": {
     "base_uri": "https://localhost:8080/"
    },
    "executionInfo": {
     "elapsed": 26704,
     "status": "ok",
     "timestamp": 1715175806821,
     "user": {
      "displayName": "Parvathy Krishnan",
      "userId": "07607340780720232615"
     },
     "user_tz": -120
    },
    "id": "FNC9Jqc16_HG",
    "outputId": "b5e9e900-b13d-4e5a-87a0-a101b95290b3",
    "scrolled": true
   },
   "outputs": [],
   "source": [
    "# Perform a spatial join to find population within the selected administrative boundary\n",
    "population_aoi = gpd.sjoin(population, selected_gadm)[['X','Y','Z','geometry']]\n",
    "population_aoi.columns = ['Longitude','Latitude','Population','geometry']\n",
    "population_aoi = population_aoi.reset_index().reset_index()\n",
    "del population_aoi['index']\n",
    "population_aoi = population_aoi.rename(columns={'level_0':'ID'})\n",
    "print('Total Population:',round(population_aoi['Population'].sum()))"
   ]
  },
  {
   "cell_type": "markdown",
   "metadata": {
    "id": "bKvy9v6lVFQG"
   },
   "source": [
    "### This code segment retrieves and analyzes healthcare facility data (hospitals and clinics) in Serbia within a specified area of interest (AOI). Here's a brief summary of what it does:\n",
    "\n",
    "- It uses the Overpass API to query OpenStreetMap data for hospitals in Timor-Leste, retrieves the data in JSON format, and converts it into a DataFrame (`df_hospitals`).\n",
    "\n",
    "- It extracts relevant information, such as the hospital's name, latitude, and longitude, from the OpenStreetMap data.\n",
    "\n",
    "- Similarly, it queries OpenStreetMap data for clinics in Timor-Leste, retrieves the data, and processes it into a DataFrame (`df_clinics`), extracting relevant information.\n",
    "\n",
    "- The code then combines the hospital and clinic data into a single GeoDataFrame (`df_health_osm`) and converts latitude and longitude coordinates into a geometry column.\n",
    "\n",
    "- It prints the number of hospitals and clinics extracted from the data.\n",
    "\n",
    "- Finally, it performs a spatial join to determine how many hospitals and clinics fall within the specified administrative region of interest (AOI) and prints the result.\n",
    "\n",
    "This code segment is a critical step in assessing healthcare accessibility in a specific region of Timor-Leste, as it identifies and quantifies the healthcare facilities within the chosen area."
   ]
  },
  {
   "cell_type": "code",
   "execution_count": null,
   "metadata": {
    "colab": {
     "base_uri": "https://localhost:8080/"
    },
    "executionInfo": {
     "elapsed": 3849,
     "status": "ok",
     "timestamp": 1715175868771,
     "user": {
      "displayName": "Parvathy Krishnan",
      "userId": "07607340780720232615"
     },
     "user_tz": -120
    },
    "id": "7mKYoRX9DvO1",
    "outputId": "9bf5ccf9-23ed-4d98-9027-f7b883ecec33"
   },
   "outputs": [],
   "source": [
    "%%time\n",
    "\n",
    "overpass_url = \"http://overpass-api.de/api/interpreter\"\n",
    "overpass_query = \"\"\"\n",
    "[out:json];\n",
    "area[\"ISO3166-1\"=\"RS\"];\n",
    "(node[\"amenity\"=\"hospital\"](area);\n",
    " way[\"amenity\"=\"hospital\"](area);\n",
    " rel[\"amenity\"=\"hospital\"](area);\n",
    ");\n",
    "out center;\n",
    "\"\"\"\n",
    "response = requests.get(overpass_url,\n",
    "                        params={'data': overpass_query})\n",
    "data = response.json()\n",
    "\n",
    "df_hospitals = pd.DataFrame(data['elements'])\n",
    "\n",
    "df_hospitals['name'] = df_hospitals['tags'].apply(lambda x:x['name'] if 'name' in list(x.keys()) else None)\n",
    "\n",
    "df_hospitals = df_hospitals[['id','lat','lon','name']].drop_duplicates()\n",
    "\n",
    "overpass_url = \"http://overpass-api.de/api/interpreter\"\n",
    "overpass_query = \"\"\"\n",
    "[out:json];\n",
    "area[\"ISO3166-1\"=\"RS\"];\n",
    "(node[\"amenity\"=\"clinic\"](area);\n",
    " way[\"amenity\"=\"clinic\"](area);\n",
    " rel[\"amenity\"=\"clinic\"](area);\n",
    ");\n",
    "out center;\n",
    "\"\"\"\n",
    "response = requests.get(overpass_url,\n",
    "                        params={'data': overpass_query})\n",
    "data = response.json()\n",
    "\n",
    "df_clinics = pd.DataFrame(data['elements'])\n",
    "df_clinics['name'] = df_clinics['tags'].apply(lambda x:x['name'] if 'name' in list(x.keys()) else None)\n",
    "df_clinics['amenity'] = df_clinics['tags'].apply(lambda x:x['healthcare'] if 'healthcare' in list(x.keys()) else None)\n",
    "\n",
    "df_clinics = df_clinics[['id','lat','lon','name','amenity']].drop_duplicates()\n",
    "\n",
    "df_health_osm = pd.concat([df_hospitals,df_clinics])\n",
    "df_health_osm = gpd.GeoDataFrame(df_health_osm, geometry=gpd.points_from_xy(df_health_osm.lon, df_health_osm.lat))\n",
    "df_health_osm = df_health_osm[['id','name','geometry']]\n",
    "\n",
    "print('Number of hospitals and clinics extracted:',len(df_health_osm))\n",
    "df_health_osm = df_health_osm.set_crs(selected_gadm.crs)\n",
    "selected_hosp = gpd.sjoin(df_health_osm, selected_gadm, predicate='within')\n",
    "print('Number of hospitals and clinics in Serbia',len(selected_hosp))"
   ]
  },
  {
   "cell_type": "code",
   "execution_count": null,
   "metadata": {
    "colab": {
     "base_uri": "https://localhost:8080/"
    },
    "executionInfo": {
     "elapsed": 2,
     "status": "ok",
     "timestamp": 1715175872412,
     "user": {
      "displayName": "Parvathy Krishnan",
      "userId": "07607340780720232615"
     },
     "user_tz": -120
    },
    "id": "-SkgGpMONxFP",
    "outputId": "e2c38f3e-929c-418c-aaed-be9ea01c1fe7"
   },
   "outputs": [],
   "source": [
    "len(selected_hosp)"
   ]
  },
  {
   "cell_type": "code",
   "execution_count": null,
   "metadata": {},
   "outputs": [],
   "source": [
    "selected_hosp.head()"
   ]
  },
  {
   "cell_type": "code",
   "execution_count": null,
   "metadata": {
    "executionInfo": {
     "elapsed": 265,
     "status": "ok",
     "timestamp": 1715175876508,
     "user": {
      "displayName": "Parvathy Krishnan",
      "userId": "07607340780720232615"
     },
     "user_tz": -120
    },
    "id": "dJir2lmF-aVk"
   },
   "outputs": [],
   "source": [
    "def get_isochrone_osm (each_hosp,travel_time_secs):\n",
    "  body = {\"locations\":[[each_hosp.x,each_hosp.y]],\"range\":[travel_time_secs],\"range_type\":'time'}\n",
    "  headers = {\n",
    "      'Accept': 'application/json, application/geo+json, application/gpx+xml, img/png; charset=utf-8',\n",
    "      'Authorization': '5b3ce3597851110001cf62487e439dfd168049a694bf909262583588',\n",
    "      'Content-Type': 'application/json; charset=utf-8'\n",
    "  }\n",
    "  call = requests.post('https://api.openrouteservice.org/v2/isochrones/driving-car', json=body, headers=headers)\n",
    "  if(call.status_code==200):\n",
    "    geom = (json.loads(call.text)['features'][0]['geometry'])\n",
    "    polygon_geom = Polygon(geom['coordinates'][0])\n",
    "    return polygon_geom\n",
    "  else:\n",
    "    return None"
   ]
  },
  {
   "cell_type": "code",
   "execution_count": null,
   "metadata": {},
   "outputs": [],
   "source": [
    "selected_hosp['cachment_area_osm'] = selected_hosp['geometry'].apply(get_isochrone_osm,travel_time_secs=3600)\n"
   ]
  },
  {
   "cell_type": "code",
   "execution_count": null,
   "metadata": {},
   "outputs": [],
   "source": [
    "selected_hosp.head()"
   ]
  },
  {
   "cell_type": "code",
   "execution_count": null,
   "metadata": {
    "id": "OTZwBil6RBDk"
   },
   "outputs": [],
   "source": [
    "quartile_labels = [0.1, 0.25, 0.5, 1.0]\n",
    "population_aoi['opacity'] = pd.qcut(population_aoi['Population'], 4, labels=quartile_labels)"
   ]
  },
  {
   "cell_type": "code",
   "execution_count": null,
   "metadata": {
    "id": "Hi4yfsamQgG9"
   },
   "outputs": [],
   "source": [
    "selected_hosp['cachment_area'] = selected_hosp['cachment_area_osm']"
   ]
  },
  {
   "cell_type": "code",
   "execution_count": null,
   "metadata": {
    "id": "d9OrvAr6KeK6"
   },
   "outputs": [],
   "source": [
    "def get_pop_count(cachment,pop_data):\n",
    "  if(cachment!=None):\n",
    "    pop_access = pop_data[pop_data.within(cachment)]\n",
    "    id_values = (pop_access['ID'].values)\n",
    "    pop_with_access = (pop_access['Population'].sum().round())\n",
    "    return id_values,pop_with_access\n",
    "  else:\n",
    "    return [None,None]\n",
    "\n",
    "selected_hosp['id_with_access'], selected_hosp['pop_with_access'] = zip(*selected_hosp['cachment_area'].apply(get_pop_count, pop_data=population_aoi))\n"
   ]
  },
  {
   "cell_type": "code",
   "execution_count": null,
   "metadata": {
    "colab": {
     "base_uri": "https://localhost:8080/",
     "height": 147
    },
    "executionInfo": {
     "elapsed": 6,
     "status": "ok",
     "timestamp": 1715174327797,
     "user": {
      "displayName": "Parvathy Krishnan",
      "userId": "07607340780720232615"
     },
     "user_tz": -120
    },
    "id": "WLJVXauvPwYF",
    "outputId": "ebd13279-030c-4bfe-cd90-7ad02a48ced2",
    "scrolled": true
   },
   "outputs": [],
   "source": [
    "selected_hosp.head(2)"
   ]
  },
  {
   "cell_type": "code",
   "execution_count": null,
   "metadata": {
    "id": "sV6IvDPFP3tS"
   },
   "outputs": [],
   "source": [
    "selected_hosp = selected_hosp.dropna()"
   ]
  },
  {
   "cell_type": "code",
   "execution_count": null,
   "metadata": {
    "colab": {
     "base_uri": "https://localhost:8080/"
    },
    "executionInfo": {
     "elapsed": 11,
     "status": "ok",
     "timestamp": 1715174352519,
     "user": {
      "displayName": "Parvathy Krishnan",
      "userId": "07607340780720232615"
     },
     "user_tz": -120
    },
    "id": "KoGLkv1IPBdr",
    "outputId": "9015cc81-979a-43dd-8a41-fcbf0ac704b0"
   },
   "outputs": [],
   "source": [
    "list_ids_access = [ids if ids is not None else [] for ids in selected_hosp['id_with_access']]\n",
    "list_ids_access = list(itertools.chain.from_iterable(list_ids_access))\n",
    "pop_with_access = population_aoi[population_aoi['ID'].isin(list_ids_access)]\n",
    "pop_without_access = population_aoi[~population_aoi['ID'].isin(list_ids_access)]\n",
    "\n",
    "original_access = round(pop_with_access['Population'].sum()*100/population_aoi['Population'].sum(),2)\n",
    "\n",
    "print('Population with Access:',round(pop_with_access['Population'].sum()*100/population_aoi['Population'].sum(),2),'%')"
   ]
  },
  {
   "cell_type": "code",
   "execution_count": null,
   "metadata": {
    "colab": {
     "base_uri": "https://localhost:8080/",
     "height": 1000,
     "output_embedded_package_id": "1SN01NXYxgrJsdw00vimerKoWi2uJb256"
    },
    "executionInfo": {
     "elapsed": 12774,
     "status": "ok",
     "timestamp": 1715174583601,
     "user": {
      "displayName": "Parvathy Krishnan",
      "userId": "07607340780720232615"
     },
     "user_tz": -120
    },
    "id": "picus2lwJy6L",
    "outputId": "85ca0f6f-c214-4278-ffd1-e0117dddb1fd"
   },
   "outputs": [],
   "source": [
    "folium_map = fl.Map(location=[44.0165, 21.0059], zoom_start=8, tiles=\"OpenStreetMap\")\n",
    "\n",
    "geo_adm = fl.GeoJson(data=selected_gadm.iloc[0]['geometry'],style_function=lambda x:{'color': 'orange'})\n",
    "geo_adm.add_to(folium_map)\n",
    "\n",
    "for i in range(0,len(selected_hosp)):\n",
    "    fl.Marker([selected_hosp.iloc[i]['geometry'].y, selected_hosp.iloc[i]['geometry'].x],\n",
    "                        color='blue',popup=selected_hosp.iloc[i]['name']).add_to(folium_map)\n",
    "\n",
    "for i in range(0,len(pop_with_access)):\n",
    "  fl.CircleMarker(\n",
    "        location=[pop_with_access.iloc[i]['Latitude'], pop_with_access.iloc[i]['Longitude']],\n",
    "        radius=5,\n",
    "        color=None,\n",
    "        fill=True,\n",
    "        fill_color='green',\n",
    "        fill_opacity=pop_without_access.iloc[i]['opacity']).add_to(folium_map)\n",
    "\n",
    "folium_map\n"
   ]
  },
  {
   "cell_type": "code",
   "execution_count": null,
   "metadata": {
    "executionInfo": {
     "elapsed": 1,
     "status": "ok",
     "timestamp": 1715175887100,
     "user": {
      "displayName": "Parvathy Krishnan",
      "userId": "07607340780720232615"
     },
     "user_tz": -120
    },
    "id": "-Bh0DcFQTp7k"
   },
   "outputs": [],
   "source": [
    "historic_data_path = 'SRB_historical_ERA5-Land_1981-2023_v1.nc'\n",
    "prediction_data_path = 'SRB_projection_ISIMIP_2015-2100_v1.nc'"
   ]
  },
  {
   "cell_type": "code",
   "execution_count": null,
   "metadata": {
    "executionInfo": {
     "elapsed": 361,
     "status": "ok",
     "timestamp": 1715176483129,
     "user": {
      "displayName": "Parvathy Krishnan",
      "userId": "07607340780720232615"
     },
     "user_tz": -120
    },
    "id": "C8Nl2ZRiXDG5"
   },
   "outputs": [],
   "source": [
    "ncdf_data_history = xr.open_dataset(historic_data_path, engine='netcdf4')\n",
    "ncdf_data_future = xr.open_dataset(prediction_data_path, engine='netcdf4')"
   ]
  },
  {
   "cell_type": "code",
   "execution_count": null,
   "metadata": {},
   "outputs": [],
   "source": [
    "ncdf_data_history = ncdf_data_history.to_dataframe().dropna().reset_index()[['lat','lon','time','pr','sfcwind','tas','tasmax','tasmin']]\n",
    "ncdf_data_future = ncdf_data_future.to_dataframe().dropna().reset_index()[['lat','lon','time','pr','sfcwind','tas','tasmax','tasmin']]\n"
   ]
  },
  {
   "cell_type": "code",
   "execution_count": null,
   "metadata": {},
   "outputs": [],
   "source": [
    "ncdf_data_history.head()"
   ]
  },
  {
   "cell_type": "code",
   "execution_count": null,
   "metadata": {
    "executionInfo": {
     "elapsed": 10163,
     "status": "ok",
     "timestamp": 1715177032429,
     "user": {
      "displayName": "Parvathy Krishnan",
      "userId": "07607340780720232615"
     },
     "user_tz": -120
    },
    "id": "sAVUps3_eyxb"
   },
   "outputs": [],
   "source": [
    "ncdf_geo_data_history = gpd.GeoDataFrame(ncdf_data_history,\n",
    "                                     geometry=gpd.points_from_xy(ncdf_data_history.lon, ncdf_data_history.lat))"
   ]
  },
  {
   "cell_type": "code",
   "execution_count": null,
   "metadata": {
    "executionInfo": {
     "elapsed": 112924,
     "status": "ok",
     "timestamp": 1715177145334,
     "user": {
      "displayName": "Parvathy Krishnan",
      "userId": "07607340780720232615"
     },
     "user_tz": -120
    },
    "id": "LS7fvbr7c00P"
   },
   "outputs": [],
   "source": [
    "ncdf_geo_data_history['grid'] = ncdf_geo_data_history['geometry'].buffer(0.05, cap_style = 3)\n",
    "gridded_data = ncdf_geo_data_history.set_crs('EPSG:4326')"
   ]
  },
  {
   "cell_type": "code",
   "execution_count": null,
   "metadata": {
    "executionInfo": {
     "elapsed": 261,
     "status": "ok",
     "timestamp": 1715181144123,
     "user": {
      "displayName": "Parvathy Krishnan",
      "userId": "07607340780720232615"
     },
     "user_tz": -120
    },
    "id": "XTdkBd22aBHh"
   },
   "outputs": [],
   "source": [
    "def data_from_geometry(geometry_file,gridded_data,sel_crs):\n",
    "    unique_grid = gridded_data['grid'].unique()\n",
    "    result_grid = []\n",
    "\n",
    "    x = 0\n",
    "    for each_grid in unique_grid:\n",
    "        grid_id = 'grid'+str(x+1)\n",
    "        for each_val in geometry_file['geometry'].values:\n",
    "            if (each_val.intersects(each_grid)):\n",
    "                result_grid.append([each_grid,grid_id])\n",
    "                x = x+1\n",
    "\n",
    "    result_df = pd.DataFrame(result_grid)\n",
    "    result_df.columns = ['grid','grid_id']\n",
    "    result_gdf = gpd.GeoDataFrame(result_df,geometry='grid')\n",
    "    result_gdf = result_gdf.set_crs(sel_crs)\n",
    "\n",
    "    extracted_data = result_gdf.merge(gridded_data,on='grid')\n",
    "    return extracted_data"
   ]
  },
  {
   "cell_type": "code",
   "execution_count": null,
   "metadata": {
    "executionInfo": {
     "elapsed": 1,
     "status": "ok",
     "timestamp": 1715181145990,
     "user": {
      "displayName": "Parvathy Krishnan",
      "userId": "07607340780720232615"
     },
     "user_tz": -120
    },
    "id": "MVfTwbiiZytp"
   },
   "outputs": [],
   "source": [
    "df = pd.DataFrame(\n",
    "    {'name': ['Natus E&S'],\n",
    "     'Latitude': [21.69775],\n",
    "     'Longitude': [43.51355]})\n",
    "\n",
    "geometry_file = gpd.GeoDataFrame(\n",
    "    df, geometry=gpd.points_from_xy(df.Longitude, df.Latitude))"
   ]
  },
  {
   "cell_type": "code",
   "execution_count": null,
   "metadata": {
    "colab": {
     "base_uri": "https://localhost:8080/",
     "height": 293
    },
    "executionInfo": {
     "elapsed": 22263,
     "status": "error",
     "timestamp": 1715181170331,
     "user": {
      "displayName": "Parvathy Krishnan",
      "userId": "07607340780720232615"
     },
     "user_tz": -120
    },
    "id": "JWwiZ0R_YdvG",
    "outputId": "9cd8563e-2bcf-446a-d4df-74b062128ad0"
   },
   "outputs": [],
   "source": [
    "extracted_data = data_from_geometry(geometry_file,gridded_data,'EPSG:4326')"
   ]
  },
  {
   "cell_type": "code",
   "execution_count": null,
   "metadata": {
    "executionInfo": {
     "elapsed": 4,
     "status": "aborted",
     "timestamp": 1715181170332,
     "user": {
      "displayName": "Parvathy Krishnan",
      "userId": "07607340780720232615"
     },
     "user_tz": -120
    },
    "id": "2r_b2hokbTec"
   },
   "outputs": [],
   "source": [
    "extracted_data"
   ]
  },
  {
   "cell_type": "code",
   "execution_count": null,
   "metadata": {},
   "outputs": [],
   "source": []
  }
 ],
 "metadata": {
  "colab": {
   "machine_shape": "hm",
   "provenance": [
    {
     "file_id": "1_FCb8CPfgjZknMiLASlw1wF5_L3_sRPA",
     "timestamp": 1697459805627
    }
   ]
  },
  "kernelspec": {
   "display_name": "Python 3 (ipykernel)",
   "language": "python",
   "name": "python3"
  },
  "language_info": {
   "codemirror_mode": {
    "name": "ipython",
    "version": 3
   },
   "file_extension": ".py",
   "mimetype": "text/x-python",
   "name": "python",
   "nbconvert_exporter": "python",
   "pygments_lexer": "ipython3",
   "version": "3.11.5"
  }
 },
 "nbformat": 4,
 "nbformat_minor": 4
}
