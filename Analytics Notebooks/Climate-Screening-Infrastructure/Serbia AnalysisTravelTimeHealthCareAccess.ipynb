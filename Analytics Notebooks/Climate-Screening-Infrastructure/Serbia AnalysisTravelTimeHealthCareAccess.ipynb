{
 "cells": [
  {
   "cell_type": "code",
   "execution_count": null,
   "metadata": {
    "id": "rvACvv254h-2"
   },
   "outputs": [],
   "source": [
    "%pip install gadm hdx-python-api\n",
    "%pip install geopandas --upgrade\n",
    "%pip install pyomo\n",
    "%pip install highspy\n",
    "%pip install chart_studio\n",
    "%pip install h5netcdf"
   ]
  },
  {
   "cell_type": "code",
   "execution_count": 3,
   "metadata": {
    "executionInfo": {
     "elapsed": 3880,
     "status": "ok",
     "timestamp": 1715175734887,
     "user": {
      "displayName": "Parvathy Krishnan",
      "userId": "07607340780720232615"
     },
     "user_tz": -120
    },
    "id": "TW1YwqMt8wFw"
   },
   "outputs": [],
   "source": [
    "import folium as fl\n",
    "import pandas as pd\n",
    "import geopandas as gpd\n",
    "from hdx.api.configuration import Configuration\n",
    "from hdx.data.resource import Resource\n",
    "import urllib.request\n",
    "import requests\n",
    "import json\n",
    "import requests\n",
    "import itertools\n",
    "\n",
    "from shapely.geometry import Polygon,MultiPolygon\n",
    "from shapely.ops import unary_union\n",
    "\n",
    "from gadm import GADMDownloader\n",
    "import numpy as np\n",
    "\n",
    "import xarray as xr\n",
    "import plotly.graph_objects as go\n",
    "import chart_studio\n",
    "import chart_studio.plotly as py\n",
    "\n",
    "import matplotlib.pyplot as plt"
   ]
  },
  {
   "cell_type": "code",
   "execution_count": 4,
   "metadata": {
    "colab": {
     "base_uri": "https://localhost:8080/",
     "height": 99
    },
    "executionInfo": {
     "elapsed": 23367,
     "status": "ok",
     "timestamp": 1715175758252,
     "user": {
      "displayName": "Parvathy Krishnan",
      "userId": "07607340780720232615"
     },
     "user_tz": -120
    },
    "id": "RGmbvLHygNbA",
    "outputId": "eb1534c1-3c7c-4480-f92c-d15dada5402b"
   },
   "outputs": [
    {
     "data": {
      "text/html": [
       "<div>\n",
       "<style scoped>\n",
       "    .dataframe tbody tr th:only-of-type {\n",
       "        vertical-align: middle;\n",
       "    }\n",
       "\n",
       "    .dataframe tbody tr th {\n",
       "        vertical-align: top;\n",
       "    }\n",
       "\n",
       "    .dataframe thead th {\n",
       "        text-align: right;\n",
       "    }\n",
       "</style>\n",
       "<table border=\"1\" class=\"dataframe\">\n",
       "  <thead>\n",
       "    <tr style=\"text-align: right;\">\n",
       "      <th></th>\n",
       "      <th>COUNTRY</th>\n",
       "      <th>ID_0</th>\n",
       "      <th>geometry</th>\n",
       "    </tr>\n",
       "  </thead>\n",
       "  <tbody>\n",
       "    <tr>\n",
       "      <th>0</th>\n",
       "      <td>Serbia</td>\n",
       "      <td>SRB</td>\n",
       "      <td>MULTIPOLYGON (((22.12066 42.30355, 22.10080 42...</td>\n",
       "    </tr>\n",
       "  </tbody>\n",
       "</table>\n",
       "</div>"
      ],
      "text/plain": [
       "  COUNTRY ID_0                                           geometry\n",
       "0  Serbia  SRB  MULTIPOLYGON (((22.12066 42.30355, 22.10080 42..."
      ]
     },
     "execution_count": 4,
     "metadata": {},
     "output_type": "execute_result"
    }
   ],
   "source": [
    "# Initialize the GADMDownloader with the specified version (in this case, version 4.0)\n",
    "downloader = GADMDownloader(version=\"4.0\")\n",
    "\n",
    "# Define the country name for which you want to retrieve administrative boundary data\n",
    "country_name = \"Serbia\"\n",
    "\n",
    "# Specify the administrative level you are interested in (e.g., 1 for districts or provinces)\n",
    "ad_level = 0\n",
    "\n",
    "# Retrieve the geospatial data for the selected country and administrative level\n",
    "gdf = downloader.get_shape_data_by_country_name(country_name=country_name, ad_level=ad_level)\n",
    "\n",
    "# Display the first 2 rows of the obtained geospatial data for a quick preview\n",
    "gdf.head(2)\n"
   ]
  },
  {
   "cell_type": "code",
   "execution_count": 5,
   "metadata": {
    "colab": {
     "base_uri": "https://localhost:8080/",
     "height": 1000
    },
    "executionInfo": {
     "elapsed": 911,
     "status": "ok",
     "timestamp": 1715175764729,
     "user": {
      "displayName": "Parvathy Krishnan",
      "userId": "07607340780720232615"
     },
     "user_tz": -120
    },
    "id": "q_lepeEG4hgJ",
    "outputId": "4b81feda-1952-47c9-8183-9b253962cf6c"
   },
   "outputs": [],
   "source": [
    "# Create a Folium map (m) with an initial zoom level of 10 and using OpenStreetMap tiles as the basemap\n",
    "m = fl.Map(location=[44.0165, 21.0059], zoom_start=8, tiles=\"OpenStreetMap\")\n",
    "\n",
    "# Iterate through each row in the geospatial data (gdf) representing administrative boundaries\n",
    "for _, r in gdf.iterrows():\n",
    "    # Simplify the geometry of the current boundary with a specified tolerance\n",
    "    sim_geo = gpd.GeoSeries(r[\"geometry\"]).simplify(tolerance=0.00001)\n",
    "\n",
    "    # Convert the simplified geometry to JSON format\n",
    "    geo_j = sim_geo.to_json()\n",
    "\n",
    "    # Create a GeoJson layer from the JSON geometry, and style it with an orange fill color\n",
    "    geo_j = fl.GeoJson(data=geo_j, style_function=lambda x: {\"fillColor\": \"orange\"})\n",
    "\n",
    "    # Add a popup with the NAME_1 attribute (administrative region name) to the GeoJson layer\n",
    "    fl.Popup(r[\"COUNTRY\"]).add_to(geo_j)\n",
    "\n",
    "    # Add the styled GeoJson layer to the Folium map (m)\n",
    "    geo_j.add_to(m)\n",
    "\n",
    "# Display the Folium map (m) with the administrative boundaries and popups\n",
    "#m\n"
   ]
  },
  {
   "cell_type": "code",
   "execution_count": 6,
   "metadata": {
    "executionInfo": {
     "elapsed": 1,
     "status": "ok",
     "timestamp": 1715175776120,
     "user": {
      "displayName": "Parvathy Krishnan",
      "userId": "07607340780720232615"
     },
     "user_tz": -120
    },
    "id": "ilzeEb4vLIRe"
   },
   "outputs": [],
   "source": [
    "selected_gadm = gdf"
   ]
  },
  {
   "cell_type": "code",
   "execution_count": 7,
   "metadata": {
    "executionInfo": {
     "elapsed": 1658,
     "status": "ok",
     "timestamp": 1715175779358,
     "user": {
      "displayName": "Parvathy Krishnan",
      "userId": "07607340780720232615"
     },
     "user_tz": -120
    },
    "id": "BLa0qyYF5s8b"
   },
   "outputs": [],
   "source": [
    "population = pd.read_csv('ppp_SRB_2020_1km_Aggregated.csv')"
   ]
  },
  {
   "cell_type": "code",
   "execution_count": 8,
   "metadata": {
    "colab": {
     "base_uri": "https://localhost:8080/"
    },
    "executionInfo": {
     "elapsed": 240,
     "status": "ok",
     "timestamp": 1715175779597,
     "user": {
      "displayName": "Parvathy Krishnan",
      "userId": "07607340780720232615"
     },
     "user_tz": -120
    },
    "id": "ITgYhRgvKJ-_",
    "outputId": "71606ded-ac26-4335-c008-a91a65256faa"
   },
   "outputs": [
    {
     "name": "stdout",
     "output_type": "stream",
     "text": [
      "Total Population: 6.98 million\n"
     ]
    }
   ],
   "source": [
    "print('Total Population:',round(population['Z'].sum()/1000000,2),'million')\n",
    "population = gpd.GeoDataFrame(\n",
    "    population, geometry=gpd.points_from_xy(population.X, population.Y)\n",
    ")\n",
    "\n",
    "population = population.set_crs(selected_gadm.crs)"
   ]
  },
  {
   "cell_type": "code",
   "execution_count": 9,
   "metadata": {
    "colab": {
     "base_uri": "https://localhost:8080/"
    },
    "executionInfo": {
     "elapsed": 26704,
     "status": "ok",
     "timestamp": 1715175806821,
     "user": {
      "displayName": "Parvathy Krishnan",
      "userId": "07607340780720232615"
     },
     "user_tz": -120
    },
    "id": "FNC9Jqc16_HG",
    "outputId": "b5e9e900-b13d-4e5a-87a0-a101b95290b3",
    "scrolled": true
   },
   "outputs": [
    {
     "name": "stdout",
     "output_type": "stream",
     "text": [
      "Total Population: 6968863\n"
     ]
    }
   ],
   "source": [
    "# Perform a spatial join to find population within the selected administrative boundary\n",
    "population_aoi = gpd.sjoin(population, selected_gadm)[['X','Y','Z','geometry']]\n",
    "population_aoi.columns = ['Longitude','Latitude','Population','geometry']\n",
    "population_aoi = population_aoi.reset_index().reset_index()\n",
    "del population_aoi['index']\n",
    "population_aoi = population_aoi.rename(columns={'level_0':'ID'})\n",
    "print('Total Population:',round(population_aoi['Population'].sum()))"
   ]
  },
  {
   "cell_type": "markdown",
   "metadata": {
    "id": "bKvy9v6lVFQG"
   },
   "source": [
    "### This code segment retrieves and analyzes healthcare facility data (hospitals and clinics) in Serbia within a specified area of interest (AOI). Here's a brief summary of what it does:\n",
    "\n",
    "- It uses the Overpass API to query OpenStreetMap data for hospitals in Timor-Leste, retrieves the data in JSON format, and converts it into a DataFrame (`df_hospitals`).\n",
    "\n",
    "- It extracts relevant information, such as the hospital's name, latitude, and longitude, from the OpenStreetMap data.\n",
    "\n",
    "- Similarly, it queries OpenStreetMap data for clinics in Timor-Leste, retrieves the data, and processes it into a DataFrame (`df_clinics`), extracting relevant information.\n",
    "\n",
    "- The code then combines the hospital and clinic data into a single GeoDataFrame (`df_health_osm`) and converts latitude and longitude coordinates into a geometry column.\n",
    "\n",
    "- It prints the number of hospitals and clinics extracted from the data.\n",
    "\n",
    "- Finally, it performs a spatial join to determine how many hospitals and clinics fall within the specified administrative region of interest (AOI) and prints the result.\n",
    "\n",
    "This code segment is a critical step in assessing healthcare accessibility in a specific region of Timor-Leste, as it identifies and quantifies the healthcare facilities within the chosen area."
   ]
  },
  {
   "cell_type": "code",
   "execution_count": 10,
   "metadata": {
    "colab": {
     "base_uri": "https://localhost:8080/"
    },
    "executionInfo": {
     "elapsed": 3849,
     "status": "ok",
     "timestamp": 1715175868771,
     "user": {
      "displayName": "Parvathy Krishnan",
      "userId": "07607340780720232615"
     },
     "user_tz": -120
    },
    "id": "7mKYoRX9DvO1",
    "outputId": "9bf5ccf9-23ed-4d98-9027-f7b883ecec33"
   },
   "outputs": [
    {
     "name": "stdout",
     "output_type": "stream",
     "text": [
      "Number of hospitals and clinics extracted: 569\n",
      "Number of hospitals and clinics in Serbia 233\n",
      "CPU times: total: 46.9 ms\n",
      "Wall time: 2.68 s\n"
     ]
    }
   ],
   "source": [
    "%%time\n",
    "\n",
    "overpass_url = \"http://overpass-api.de/api/interpreter\"\n",
    "overpass_query = \"\"\"\n",
    "[out:json];\n",
    "area[\"ISO3166-1\"=\"RS\"];\n",
    "(node[\"amenity\"=\"hospital\"](area);\n",
    " way[\"amenity\"=\"hospital\"](area);\n",
    " rel[\"amenity\"=\"hospital\"](area);\n",
    ");\n",
    "out center;\n",
    "\"\"\"\n",
    "response = requests.get(overpass_url,\n",
    "                        params={'data': overpass_query})\n",
    "data = response.json()\n",
    "\n",
    "df_hospitals = pd.DataFrame(data['elements'])\n",
    "\n",
    "df_hospitals['name'] = df_hospitals['tags'].apply(lambda x:x['name'] if 'name' in list(x.keys()) else None)\n",
    "\n",
    "df_hospitals = df_hospitals[['id','lat','lon','name']].drop_duplicates()\n",
    "\n",
    "overpass_url = \"http://overpass-api.de/api/interpreter\"\n",
    "overpass_query = \"\"\"\n",
    "[out:json];\n",
    "area[\"ISO3166-1\"=\"RS\"];\n",
    "(node[\"amenity\"=\"clinic\"](area);\n",
    " way[\"amenity\"=\"clinic\"](area);\n",
    " rel[\"amenity\"=\"clinic\"](area);\n",
    ");\n",
    "out center;\n",
    "\"\"\"\n",
    "response = requests.get(overpass_url,\n",
    "                        params={'data': overpass_query})\n",
    "data = response.json()\n",
    "\n",
    "df_clinics = pd.DataFrame(data['elements'])\n",
    "df_clinics['name'] = df_clinics['tags'].apply(lambda x:x['name'] if 'name' in list(x.keys()) else None)\n",
    "df_clinics['amenity'] = df_clinics['tags'].apply(lambda x:x['healthcare'] if 'healthcare' in list(x.keys()) else None)\n",
    "\n",
    "df_clinics = df_clinics[['id','lat','lon','name','amenity']].drop_duplicates()\n",
    "\n",
    "df_health_osm = pd.concat([df_hospitals,df_clinics])\n",
    "df_health_osm = gpd.GeoDataFrame(df_health_osm, geometry=gpd.points_from_xy(df_health_osm.lon, df_health_osm.lat))\n",
    "df_health_osm = df_health_osm[['id','name','geometry']]\n",
    "\n",
    "print('Number of hospitals and clinics extracted:',len(df_health_osm))\n",
    "df_health_osm = df_health_osm.set_crs(selected_gadm.crs)\n",
    "selected_hosp = gpd.sjoin(df_health_osm, selected_gadm, predicate='within')\n",
    "print('Number of hospitals and clinics in Serbia',len(selected_hosp))"
   ]
  },
  {
   "cell_type": "code",
   "execution_count": 11,
   "metadata": {
    "colab": {
     "base_uri": "https://localhost:8080/"
    },
    "executionInfo": {
     "elapsed": 2,
     "status": "ok",
     "timestamp": 1715175872412,
     "user": {
      "displayName": "Parvathy Krishnan",
      "userId": "07607340780720232615"
     },
     "user_tz": -120
    },
    "id": "-SkgGpMONxFP",
    "outputId": "e2c38f3e-929c-418c-aaed-be9ea01c1fe7"
   },
   "outputs": [
    {
     "data": {
      "text/plain": [
       "233"
      ]
     },
     "execution_count": 11,
     "metadata": {},
     "output_type": "execute_result"
    }
   ],
   "source": [
    "len(selected_hosp)"
   ]
  },
  {
   "cell_type": "code",
   "execution_count": 12,
   "metadata": {},
   "outputs": [
    {
     "data": {
      "text/html": [
       "<div>\n",
       "<style scoped>\n",
       "    .dataframe tbody tr th:only-of-type {\n",
       "        vertical-align: middle;\n",
       "    }\n",
       "\n",
       "    .dataframe tbody tr th {\n",
       "        vertical-align: top;\n",
       "    }\n",
       "\n",
       "    .dataframe thead th {\n",
       "        text-align: right;\n",
       "    }\n",
       "</style>\n",
       "<table border=\"1\" class=\"dataframe\">\n",
       "  <thead>\n",
       "    <tr style=\"text-align: right;\">\n",
       "      <th></th>\n",
       "      <th>id</th>\n",
       "      <th>name</th>\n",
       "      <th>geometry</th>\n",
       "      <th>index_right</th>\n",
       "      <th>COUNTRY</th>\n",
       "      <th>ID_0</th>\n",
       "    </tr>\n",
       "  </thead>\n",
       "  <tbody>\n",
       "    <tr>\n",
       "      <th>0</th>\n",
       "      <td>291178034</td>\n",
       "      <td>Здравствена станица „Авијатичарски трг“</td>\n",
       "      <td>POINT (20.41386 44.83980)</td>\n",
       "      <td>0</td>\n",
       "      <td>Serbia</td>\n",
       "      <td>SRB</td>\n",
       "    </tr>\n",
       "    <tr>\n",
       "      <th>2</th>\n",
       "      <td>461185545</td>\n",
       "      <td>Дом здравља</td>\n",
       "      <td>POINT (22.07562 42.89118)</td>\n",
       "      <td>0</td>\n",
       "      <td>Serbia</td>\n",
       "      <td>SRB</td>\n",
       "    </tr>\n",
       "    <tr>\n",
       "      <th>6</th>\n",
       "      <td>708953669</td>\n",
       "      <td>None</td>\n",
       "      <td>POINT (22.26338 43.90570)</td>\n",
       "      <td>0</td>\n",
       "      <td>Serbia</td>\n",
       "      <td>SRB</td>\n",
       "    </tr>\n",
       "    <tr>\n",
       "      <th>7</th>\n",
       "      <td>779174314</td>\n",
       "      <td>Црвени крст</td>\n",
       "      <td>POINT (22.28202 43.89763)</td>\n",
       "      <td>0</td>\n",
       "      <td>Serbia</td>\n",
       "      <td>SRB</td>\n",
       "    </tr>\n",
       "    <tr>\n",
       "      <th>8</th>\n",
       "      <td>835423002</td>\n",
       "      <td>Здравствена амбуланта</td>\n",
       "      <td>POINT (22.52470 44.29361)</td>\n",
       "      <td>0</td>\n",
       "      <td>Serbia</td>\n",
       "      <td>SRB</td>\n",
       "    </tr>\n",
       "  </tbody>\n",
       "</table>\n",
       "</div>"
      ],
      "text/plain": [
       "          id                                     name  \\\n",
       "0  291178034  Здравствена станица „Авијатичарски трг“   \n",
       "2  461185545                              Дом здравља   \n",
       "6  708953669                                     None   \n",
       "7  779174314                              Црвени крст   \n",
       "8  835423002                    Здравствена амбуланта   \n",
       "\n",
       "                    geometry  index_right COUNTRY ID_0  \n",
       "0  POINT (20.41386 44.83980)            0  Serbia  SRB  \n",
       "2  POINT (22.07562 42.89118)            0  Serbia  SRB  \n",
       "6  POINT (22.26338 43.90570)            0  Serbia  SRB  \n",
       "7  POINT (22.28202 43.89763)            0  Serbia  SRB  \n",
       "8  POINT (22.52470 44.29361)            0  Serbia  SRB  "
      ]
     },
     "execution_count": 12,
     "metadata": {},
     "output_type": "execute_result"
    }
   ],
   "source": [
    "selected_hosp.head()"
   ]
  },
  {
   "cell_type": "code",
   "execution_count": 13,
   "metadata": {
    "executionInfo": {
     "elapsed": 265,
     "status": "ok",
     "timestamp": 1715175876508,
     "user": {
      "displayName": "Parvathy Krishnan",
      "userId": "07607340780720232615"
     },
     "user_tz": -120
    },
    "id": "dJir2lmF-aVk"
   },
   "outputs": [],
   "source": [
    "def get_isochrone_osm (each_hosp,travel_time_secs):\n",
    "  body = {\"locations\":[[each_hosp.x,each_hosp.y]],\"range\":[travel_time_secs],\"range_type\":'time'}\n",
    "  headers = {\n",
    "      'Accept': 'application/json, application/geo+json, application/gpx+xml, img/png; charset=utf-8',\n",
    "      'Authorization': '5b3ce3597851110001cf62487e439dfd168049a694bf909262583588',\n",
    "      'Content-Type': 'application/json; charset=utf-8'\n",
    "  }\n",
    "  call = requests.post('https://api.openrouteservice.org/v2/isochrones/driving-car', json=body, headers=headers)\n",
    "  if(call.status_code==200):\n",
    "    geom = (json.loads(call.text)['features'][0]['geometry'])\n",
    "    polygon_geom = Polygon(geom['coordinates'][0])\n",
    "    return polygon_geom\n",
    "  else:\n",
    "    return None"
   ]
  },
  {
   "cell_type": "code",
   "execution_count": 14,
   "metadata": {},
   "outputs": [
    {
     "name": "stdout",
     "output_type": "stream",
     "text": [
      "Travel times in seconds: [600, 1200, 1800, 2400, 3000, 3600, 4200, 4800, 5400, 6000, 6600, 7200]\n",
      "Results for travel time 600 seconds:\n",
      "          id                             catchment_area_osm_600\n",
      "0  291178034  POLYGON ((20.32537 44.83279, 20.32880 44.83273...\n",
      "2  461185545  POLYGON ((22.02066 42.92048, 22.02616 42.91855...\n",
      "6  708953669  POLYGON ((22.19716 43.90392, 22.19830 43.89679...\n",
      "7  779174314  POLYGON ((22.21191 43.90077, 22.21237 43.90049...\n",
      "8  835423002  POLYGON ((22.47368 44.34206, 22.47363 44.34180...\n",
      "Results for travel time 1200 seconds:\n",
      "          id                            catchment_area_osm_1200\n",
      "0  291178034  POLYGON ((20.12060 44.87704, 20.12285 44.87593...\n",
      "2  461185545  POLYGON ((21.91953 43.11345, 21.92171 43.11164...\n",
      "6  708953669  POLYGON ((22.15638 44.01074, 22.15795 44.00932...\n",
      "7  779174314  POLYGON ((22.16990 43.99840, 22.17067 43.99805...\n",
      "8  835423002  POLYGON ((22.45430 44.40367, 22.45441 44.40208...\n",
      "Results for travel time 1800 seconds:\n",
      "          id                            catchment_area_osm_1800\n",
      "0  291178034  POLYGON ((19.92474 44.92977, 19.92807 44.92891...\n",
      "2  461185545  POLYGON ((21.81564 43.24247, 21.81593 43.24126...\n",
      "6  708953669  POLYGON ((21.99210 43.83337, 21.99280 43.83335...\n",
      "7  779174314  POLYGON ((22.00108 43.83928, 22.00124 43.83914...\n",
      "8  835423002  POLYGON ((22.42083 44.46561, 22.42330 44.46516...\n",
      "Results for travel time 2400 seconds:\n",
      "          id                            catchment_area_osm_2400\n",
      "0  291178034  POLYGON ((19.70181 44.99124, 19.70656 44.98889...\n",
      "2  461185545  POLYGON ((21.72743 43.28444, 21.73022 43.28578...\n",
      "6  708953669  POLYGON ((21.90988 43.81346, 21.91501 43.81131...\n",
      "7  779174314  POLYGON ((21.92009 43.81412, 21.92049 43.81428...\n",
      "8  835423002  POLYGON ((22.25805 44.29553, 22.25873 44.29245...\n",
      "Results for travel time 3000 seconds:\n",
      "          id catchment_area_osm_3000\n",
      "0  291178034                    None\n",
      "2  461185545                    None\n",
      "6  708953669                    None\n",
      "7  779174314                    None\n",
      "8  835423002                    None\n",
      "Results for travel time 3600 seconds:\n",
      "          id catchment_area_osm_3600\n",
      "0  291178034                    None\n",
      "2  461185545                    None\n",
      "6  708953669                    None\n",
      "7  779174314                    None\n",
      "8  835423002                    None\n",
      "Results for travel time 4200 seconds:\n",
      "          id catchment_area_osm_4200\n",
      "0  291178034                    None\n",
      "2  461185545                    None\n",
      "6  708953669                    None\n",
      "7  779174314                    None\n",
      "8  835423002                    None\n",
      "Results for travel time 4800 seconds:\n",
      "          id catchment_area_osm_4800\n",
      "0  291178034                    None\n",
      "2  461185545                    None\n",
      "6  708953669                    None\n",
      "7  779174314                    None\n",
      "8  835423002                    None\n",
      "Results for travel time 5400 seconds:\n",
      "          id catchment_area_osm_5400\n",
      "0  291178034                    None\n",
      "2  461185545                    None\n",
      "6  708953669                    None\n",
      "7  779174314                    None\n",
      "8  835423002                    None\n",
      "Results for travel time 6000 seconds:\n",
      "          id catchment_area_osm_6000\n",
      "0  291178034                    None\n",
      "2  461185545                    None\n",
      "6  708953669                    None\n",
      "7  779174314                    None\n",
      "8  835423002                    None\n",
      "Results for travel time 6600 seconds:\n",
      "          id catchment_area_osm_6600\n",
      "0  291178034                    None\n",
      "2  461185545                    None\n",
      "6  708953669                    None\n",
      "7  779174314                    None\n",
      "8  835423002                    None\n",
      "Results for travel time 7200 seconds:\n",
      "          id catchment_area_osm_7200\n",
      "0  291178034                    None\n",
      "2  461185545                    None\n",
      "6  708953669                    None\n",
      "7  779174314                    None\n",
      "8  835423002                    None\n"
     ]
    }
   ],
   "source": [
    "# Generating travel times in seconds from 10 minutes to 120 minutes, incremented by 10 minutes\n",
    "travel_times = [x * 60 for x in range(10, 121, 10)]\n",
    "print(\"Travel times in seconds:\", travel_times)\n",
    "\n",
    "# Create a small subset of the dataframe for testing\n",
    "test_subset = selected_hosp.head(5).copy()\n",
    "\n",
    "# Applying the get_isochrone_osm function for each travel time and storing the results\n",
    "for time in travel_times:\n",
    "    column_name = f'catchment_area_osm_{time}'\n",
    "    test_subset[column_name] = test_subset['geometry'].apply(lambda x: get_isochrone_osm(x, travel_time_secs=time))\n",
    "\n",
    "# Print the results for each travel time\n",
    "for time in travel_times:\n",
    "    column_name = f'catchment_area_osm_{time}'\n",
    "    print(f\"Results for travel time {time} seconds:\")\n",
    "    print(test_subset[['id', column_name]])"
   ]
  },
  {
   "cell_type": "code",
   "execution_count": null,
   "metadata": {},
   "outputs": [],
   "source": [
    "quartile_labels = [0.1, 0.25, 0.5, 1.0]\n",
    "population_aoi['opacity'] = pd.qcut(population_aoi['Population'], 4, labels=quartile_labels)"
   ]
  },
  {
   "cell_type": "code",
   "execution_count": null,
   "metadata": {},
   "outputs": [],
   "source": [
    "def get_pop_count(cachment,pop_data):\n",
    "  if(cachment!=None):\n",
    "    pop_access = pop_data[pop_data.within(cachment)]\n",
    "    id_values = (pop_access['ID'].values)\n",
    "    pop_with_access = (pop_access['Population'].sum().round())\n",
    "    return id_values,pop_with_access\n",
    "  else:\n",
    "    return [None,None]\n",
    "\n",
    "selected_hosp['id_with_access'], selected_hosp['pop_with_access'] = zip(*selected_hosp['cachment_area'].apply(get_pop_count, pop_data=population_aoi))\n"
   ]
  },
  {
   "cell_type": "code",
   "execution_count": null,
   "metadata": {},
   "outputs": [],
   "source": [
    "selected_hosp = selected_hosp.dropna()"
   ]
  },
  {
   "cell_type": "code",
   "execution_count": null,
   "metadata": {},
   "outputs": [],
   "source": [
    "list_ids_access = [ids if ids is not None else [] for ids in selected_hosp['id_with_access']]\n",
    "list_ids_access = list(itertools.chain.from_iterable(list_ids_access))\n",
    "pop_with_access = population_aoi[population_aoi['ID'].isin(list_ids_access)]\n",
    "pop_without_access = population_aoi[~population_aoi['ID'].isin(list_ids_access)]\n",
    "\n",
    "original_access = round(pop_with_access['Population'].sum()*100/population_aoi['Population'].sum(),2)\n",
    "\n",
    "print('Population with Access:',round(pop_with_access['Population'].sum()*100/population_aoi['Population'].sum(),2),'%')"
   ]
  },
  {
   "cell_type": "code",
   "execution_count": null,
   "metadata": {},
   "outputs": [],
   "source": [
    "# Calculate the population with access for each travel time\n",
    "results = calculate_population_with_access(travel_times, selected_hosp, population_aoi)\n",
    "\n",
    "# Create a DataFrame to store the results\n",
    "results_df = pd.DataFrame(results, columns=['Travel Time (minutes)', 'Population with Access (%)'])\n",
    "print(results_df)"
   ]
  },
  {
   "cell_type": "code",
   "execution_count": null,
   "metadata": {},
   "outputs": [],
   "source": [
    "# Plot the results\n",
    "plt.figure(figsize=(10, 6))\n",
    "plt.plot(results_df['Travel Time (minutes)'], results_df['Population with Access (%)'], marker='o')\n",
    "plt.title('Travel Time vs Population with Access')\n",
    "plt.xlabel('Travel Time (minutes)')\n",
    "plt.ylabel('Population with Access (%)')\n",
    "plt.grid(True)\n",
    "plt.show()\n"
   ]
  }
 ],
 "metadata": {
  "colab": {
   "machine_shape": "hm",
   "provenance": [
    {
     "file_id": "1_FCb8CPfgjZknMiLASlw1wF5_L3_sRPA",
     "timestamp": 1697459805627
    }
   ]
  },
  "kernelspec": {
   "display_name": "Python 3 (ipykernel)",
   "language": "python",
   "name": "python3"
  },
  "language_info": {
   "codemirror_mode": {
    "name": "ipython",
    "version": 3
   },
   "file_extension": ".py",
   "mimetype": "text/x-python",
   "name": "python",
   "nbconvert_exporter": "python",
   "pygments_lexer": "ipython3",
   "version": "3.11.5"
  }
 },
 "nbformat": 4,
 "nbformat_minor": 4
}
