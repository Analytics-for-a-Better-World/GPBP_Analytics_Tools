{
 "cells": [
  {
   "cell_type": "code",
   "execution_count": null,
   "metadata": {
    "id": "sAx9YQTlmkYA"
   },
   "outputs": [],
   "source": [
    "# SELECT runtime { local | colab }\n",
    "runtime = 'local'\n",
    "\n",
    "# SELECT Road Network Data { osm | estrada | combined }\n",
    "road_path = 'osm'\n",
    "\n",
    "# SELECT Population Data { facebook | worldpop | census }\n",
    "pop_path = 'census'\n",
    "\n",
    "# SELECT Distance Threshold in KM\n",
    "distance_threshold = 5"
   ]
  },
  {
   "cell_type": "code",
   "execution_count": null,
   "metadata": {
    "id": "_hSLtDIhmkYF"
   },
   "outputs": [],
   "source": [
    "# Assign Runtime based on user input\n",
    "\n",
    "if runtime == 'local':\n",
    "    os_path_selected = ''\n",
    "\n",
    "if runtime == 'colab':\n",
    "    from google.colab import drive\n",
    "    drive.mount('/content/drive')\n",
    "    #os_path_selected = '#Add the drive location here'"
   ]
  },
  {
   "cell_type": "code",
   "execution_count": null,
   "metadata": {
    "id": "b3M470K2AqYM"
   },
   "outputs": [],
   "source": [
    "import geopandas as gpd\n",
    "import pandas as pd\n",
    "import shapely\n",
    "from shapely.geometry import Polygon, Point\n",
    "import geopy.distance\n",
    "import pandana\n",
    "import numpy as np"
   ]
  },
  {
   "cell_type": "code",
   "execution_count": null,
   "metadata": {
    "id": "aICWnIGEFgZf"
   },
   "outputs": [],
   "source": [
    "def get_nodes_and_edges(json_file,rounding=5):\n",
    "    \"\"\"Use geopandas to read line shapefile and compile all paths and nodes in a line file based on a rounding tolerance.\n",
    "    shp_file:path to polyline file with end to end connectivity\n",
    "    rounding: tolerance parameter for coordinate precision\"\"\"\n",
    "    edges = gpd.read_file(json_file,driver='GeoJSON')\n",
    "    edges[\"from_x\"]=edges[\"geometry\"].apply(lambda x:round(x.coords[0][0],rounding))\n",
    "    edges[\"from_y\"]=edges[\"geometry\"].apply(lambda x:round(x.coords[0][1],rounding))\n",
    "    edges[\"to_x\"]=edges[\"geometry\"].apply(lambda x:round(x.coords[-1][0],rounding))\n",
    "    edges[\"to_y\"]=edges[\"geometry\"].apply(lambda x:round(x.coords[-1][1],rounding))\n",
    "    nodes_from = edges[[\"from_x\",\"from_y\"]].rename(index=str,columns={\"from_x\":\"x\",\"from_y\":\"y\"})\n",
    "    nodes_to = edges[[\"to_x\",\"to_y\"]].rename(index=str,columns={\"to_x\":\"x\",\"to_y\":\"y\"})\n",
    "    nodes = pd.concat([nodes_from,nodes_to],axis=0)\n",
    "    nodes[\"xy\"] = list(zip(nodes[\"x\"], nodes[\"y\"]))\n",
    "    nodes = pd.DataFrame(nodes[\"xy\"].unique(),columns=[\"xy\"])\n",
    "    nodes[\"x\"] = nodes[\"xy\"].apply(lambda x: x[0])\n",
    "    nodes[\"y\"] = nodes[\"xy\"].apply(lambda x: x[1])\n",
    "    nodes = nodes[[\"x\",\"y\"]].copy()\n",
    "    return [nodes , edges]"
   ]
  },
  {
   "cell_type": "code",
   "execution_count": null,
   "metadata": {
    "colab": {
     "base_uri": "https://localhost:8080/"
    },
    "id": "upPSIKkAGFBD",
    "outputId": "837a36de-6580-481b-9bea-174db88bec54"
   },
   "outputs": [
    {
     "name": "stdout",
     "output_type": "stream",
     "text": [
      "CPU times: user 2min 32s, sys: 1.18 s, total: 2min 33s\n",
      "Wall time: 2min 34s\n"
     ]
    }
   ],
   "source": [
    "%%time\n",
    "\n",
    "# Assigning and reading road network data based on user input\n",
    "\n",
    "if(road_path=='osm'):\n",
    "    road_selected_path = os_path_selected+'osm_network_edited.geojson'\n",
    "\n",
    "if(road_path=='estrada'):\n",
    "    road_selected_path = os_path_selected+'road_estrada_new.geojson'\n",
    "\n",
    "if(road_path=='combined'):\n",
    "    road_selected_path = os_path_selected+'estrada-osm-merged-tl.geojson'\n",
    "\n",
    "\n",
    "node_edge = get_nodes_and_edges(road_selected_path)\n",
    "nodes = node_edge[0]\n",
    "edges = node_edge[1]\n",
    "\n",
    "nodes = nodes.reset_index()\n",
    "nodes.columns = ['nodeID','lon','lat']\n",
    "\n",
    "edges_attr = pd.merge(edges,nodes,left_on=['from_x','from_y'], right_on=['lon','lat'])\n",
    "edges_attr = pd.merge(edges_attr,nodes,left_on=['to_x','to_y'], right_on=['lon','lat'])\n",
    "edges_attr.rename(columns= {'nodeID_x':'node_start','nodeID_y':'node_end'},inplace=True)\n",
    "\n",
    "def get_length_edge_geopy(x):\n",
    "    lon_x = float(x['from_x'])\n",
    "    lat_x = float(x['from_y'])    \n",
    "    \n",
    "    lon_y = float(x['to_x'])\n",
    "    lat_y = float(x['to_y'])\n",
    "\n",
    "    dist = geopy.distance.geodesic((lat_x,lon_x),(lat_y,lon_y))\n",
    "    return((dist.meters)/1000)\n",
    "\n",
    "edges_attr['len_km'] = edges_attr[['from_x','from_y','to_x','to_y']].apply(get_length_edge_geopy,axis=1)"
   ]
  },
  {
   "cell_type": "code",
   "execution_count": null,
   "metadata": {
    "id": "pME9YN_BGE9o",
    "outputId": "4163f077-3f9d-43c8-9a25-6de0a2307dc1"
   },
   "outputs": [
    {
     "name": "stdout",
     "output_type": "stream",
     "text": [
      "CPU times: user 4.16 s, sys: 177 ms, total: 4.33 s\n",
      "Wall time: 4.33 s\n"
     ]
    }
   ],
   "source": [
    "%%time\n",
    "# Road Network Data in Nodes and Edges nodes as a Network\n",
    "network = pandana.Network(nodes['lon'], nodes['lat'], \n",
    "                          edges_attr['node_start'], edges_attr['node_end'], edges_attr[['len_km']],twoway=True)"
   ]
  },
  {
   "cell_type": "code",
   "execution_count": null,
   "metadata": {
    "id": "f4G_AOZXFAPy"
   },
   "outputs": [],
   "source": [
    "def haversine_vectorize(lon1, lat1, lon2, lat2):\n",
    "    lon1, lat1, lon2, lat2 = map(np.radians, [lon1, lat1, lon2, lat2])\n",
    "    newlon = lon2 - lon1\n",
    "    newlat = lat2 - lat1\n",
    "    haver_formula = np.sin(newlat/2.0)**2 + np.cos(lat1) * np.cos(lat2) * np.sin(newlon/2.0)**2\n",
    "    dist = 2 * np.arcsin(np.sqrt(haver_formula ))\n",
    "    km = 6367 * dist #6367 for distance in KM for miles use 3958\n",
    "    return round(km,2)"
   ]
  },
  {
   "cell_type": "code",
   "execution_count": null,
   "metadata": {
    "colab": {
     "base_uri": "https://localhost:8080/"
    },
    "id": "uFr7K-53GUHR",
    "outputId": "1089956a-efce-461c-f660-dc4a357640e9"
   },
   "outputs": [
    {
     "name": "stdout",
     "output_type": "stream",
     "text": [
      "CPU times: user 102 ms, sys: 14.4 ms, total: 116 ms\n",
      "Wall time: 116 ms\n"
     ]
    }
   ],
   "source": [
    "%%time\n",
    "\n",
    "# Current Hospitals\n",
    "current_hospitals = gpd.read_file(os_path_selected+'current_health_facilities.geojson', driver='GeoJSON')\n",
    "current_hospitals = current_hospitals[['L_NAME','LONG','LAT']].drop_duplicates()\n",
    "\n",
    "#Add row number to be ID to perform optimization right\n",
    "current_hospitals = current_hospitals.reset_index()\n",
    "current_hospitals = current_hospitals[['index','LONG','LAT','L_NAME']]\n",
    "current_hospitals.columns = ['Hosp_ID','Longitude','Latitude','L_NAME']\n",
    "\n",
    "# Find nearest road and calculate the distance to the road\n",
    "current_hospitals['nearest_node'] = network.get_node_ids(current_hospitals['Longitude'], current_hospitals['Latitude'], mapping_distance=None)\n",
    "current_hospitals = pd.merge(current_hospitals,nodes,right_on='nodeID',left_on='nearest_node')\n",
    "current_hospitals['hosp_dist_road_estrada'] = haversine_vectorize(current_hospitals['Longitude'],current_hospitals['Latitude'],current_hospitals['lon'],current_hospitals['lat'])\n"
   ]
  },
  {
   "cell_type": "code",
   "execution_count": null,
   "metadata": {
    "id": "zcSvzqYMBo4l"
   },
   "outputs": [],
   "source": [
    "# Assigning population data as per user choice\n",
    "if (pop_path=='facebook'):\n",
    "    facebook_pop_csv = pd.read_csv(os_path_selected+'tls_population_2020.csv')\n",
    "    facebook_pop_csv['tls_population_2020'] = facebook_pop_csv['tls_population_2020'].round()\n",
    "    pop_selected = facebook_pop_csv[['latitude','longitude','tls_population_2020']].reset_index()\n",
    "\n",
    "if (pop_path=='census'):\n",
    "    census_tl = gpd.read_file(os_path_selected+'census.geojson')\n",
    "    census_tl = census_tl.groupby(['LAT','LONG'])['EAs'].count().reset_index()\n",
    "    census_tl['pop'] = census_tl['EAs']*5\n",
    "    pop_selected = census_tl[['LAT','LONG','pop']].reset_index()\n",
    "    \n",
    "if (pop_path=='worldpop'):\n",
    "    world_pop_csv = pd.read_csv(os_path_selected+'ppp_TLS_2020_1km_Aggregated_UNadj.csv')\n",
    "    world_pop_csv['Z'] = world_pop_csv['Z'].round()\n",
    "    pop_selected = world_pop_csv[['Y','X','Z']].reset_index()\n",
    "\n",
    "pop_selected.columns = ['ID','LAT','LONG','POP']"
   ]
  },
  {
   "cell_type": "code",
   "execution_count": null,
   "metadata": {
    "id": "4luQSadEBVQO"
   },
   "outputs": [],
   "source": [
    "pop_selected['nearest_node'] = network.get_node_ids(pop_selected['LONG'], pop_selected['LAT'], mapping_distance=None)\n",
    "pop_selected = pd.merge(pop_selected,nodes,right_on='nodeID',left_on='nearest_node')\n",
    "pop_selected['pop_dist_road'] = haversine_vectorize(pop_selected['LONG'],pop_selected['LAT'],pop_selected['lon'],pop_selected['lat'])"
   ]
  },
  {
   "cell_type": "code",
   "execution_count": null,
   "metadata": {
    "id": "IULYieI0mkYL",
    "outputId": "0fb9daf3-5651-4731-8f5c-f4a6ba0cfee6"
   },
   "outputs": [
    {
     "name": "stderr",
     "output_type": "stream",
     "text": [
      "/Users/parvathykrishnank/opt/anaconda3/lib/python3.8/site-packages/pandas/core/frame.py:3607: SettingWithCopyWarning: \n",
      "A value is trying to be set on a copy of a slice from a DataFrame.\n",
      "Try using .loc[row_indexer,col_indexer] = value instead\n",
      "\n",
      "See the caveats in the documentation: https://pandas.pydata.org/pandas-docs/stable/user_guide/indexing.html#returning-a-view-versus-a-copy\n",
      "  self._set_item(key, value)\n"
     ]
    },
    {
     "name": "stdout",
     "output_type": "stream",
     "text": [
      "CPU times: user 7.48 s, sys: 1.08 s, total: 8.56 s\n",
      "Wall time: 8.56 s\n"
     ]
    }
   ],
   "source": [
    "%%time\n",
    "\n",
    "df_matrix = pd.DataFrame()\n",
    "for each_current_hospital in current_hospitals[['nearest_node','Longitude','Latitude']].values:\n",
    "    hosp_node = each_current_hospital[0]\n",
    "    hosp_lon = each_current_hospital[1]\n",
    "    hosp_lat = each_current_hospital[2]\n",
    "    \n",
    "    pop_subset = pop_selected[['nearest_node','LONG','LAT']]\n",
    "    pop_subset['hosp_node'] = hosp_node\n",
    "    pop_subset['hosp_lon'] = hosp_lon\n",
    "    pop_subset['hosp_lat'] = hosp_lat\n",
    "    \n",
    "    pop_subset['euclidean_distance'] = haversine_vectorize(pop_subset['LONG'],pop_subset['LAT'],pop_subset['hosp_lon'],pop_subset['hosp_lat'])\n",
    "    nearest_nodes = pop_subset[pop_subset['euclidean_distance']<=5]['nearest_node'].unique()\n",
    "    \n",
    "    matrix_selected = pd.DataFrame([(a,b) for a in [int(hosp_node)] for b in nearest_nodes])\n",
    "    df_matrix = df_matrix.append(matrix_selected)\n",
    "    \n",
    "df_matrix = df_matrix.drop_duplicates()\n",
    "df_matrix.columns = ['Hosp_ID','ID']\n",
    "df_matrix['shortest_path_length'] = network.shortest_path_lengths(df_matrix['ID'],df_matrix['Hosp_ID'])\n",
    "matrix_current = pd.merge(df_matrix,pop_selected[['ID','nearest_node','pop_dist_road','POP','LONG','LAT']],right_on='nearest_node',left_on='ID')\n",
    "matrix_current = pd.merge(matrix_current,current_hospitals[['Hosp_ID','Longitude','Latitude','nearest_node','hosp_dist_road_estrada']],right_on='nearest_node',left_on='Hosp_ID')\n",
    "\n",
    "matrix_current['euclidean_distance'] = haversine_vectorize(matrix_current['LONG'],matrix_current['LAT'],matrix_current['Longitude'],matrix_current['Latitude'])\n",
    "matrix_current['total_network_distance'] = matrix_current['pop_dist_road']+matrix_current['hosp_dist_road_estrada']+matrix_current['shortest_path_length']\n",
    "matrix_current = matrix_current[['ID_y','pop_dist_road','POP','LONG','LAT',\n",
    "                                 'Hosp_ID_y','hosp_dist_road_estrada','Longitude','Latitude',\n",
    "                                 'shortest_path_length','euclidean_distance','total_network_distance']]\n",
    "matrix_current = matrix_current.rename(columns={'ID_y':'Pop_ID','Hosp_ID_y':'Hosp_ID'})\n"
   ]
  },
  {
   "cell_type": "code",
   "execution_count": null,
   "metadata": {
    "id": "XQ6DXMl5mkYL",
    "outputId": "be2a33cb-e077-4178-8caf-1413bc97045a"
   },
   "outputs": [
    {
     "name": "stdout",
     "output_type": "stream",
     "text": [
      "CPU times: user 7.08 s, sys: 22.4 ms, total: 7.11 s\n",
      "Wall time: 7.11 s\n"
     ]
    }
   ],
   "source": [
    "%%time\n",
    "#If the distance people have to travel to the road network is larger than the euclidean distance to a hospital, take the euclidean distance\n",
    "\n",
    "def get_corrected_distance(x):\n",
    "    if(x['euclidean_distance'])<=1:\n",
    "        return x['euclidean_distance']\n",
    "    else:\n",
    "        if (x['pop_dist_road']>=x['euclidean_distance']):\n",
    "            return x['euclidean_distance']\n",
    "        else:\n",
    "            return x['total_network_distance']\n",
    "\n",
    "matrix_current['distance_corrected'] = matrix_current[['pop_dist_road','euclidean_distance','total_network_distance']].apply(get_corrected_distance,axis=1)\n"
   ]
  },
  {
   "cell_type": "code",
   "execution_count": null,
   "metadata": {
    "id": "7pR7g-mgmkYM",
    "outputId": "38ebd197-f711-440a-8ed7-72a9034c92db"
   },
   "outputs": [
    {
     "data": {
      "text/html": [
       "<div>\n",
       "<style scoped>\n",
       "    .dataframe tbody tr th:only-of-type {\n",
       "        vertical-align: middle;\n",
       "    }\n",
       "\n",
       "    .dataframe tbody tr th {\n",
       "        vertical-align: top;\n",
       "    }\n",
       "\n",
       "    .dataframe thead th {\n",
       "        text-align: right;\n",
       "    }\n",
       "</style>\n",
       "<table border=\"1\" class=\"dataframe\">\n",
       "  <thead>\n",
       "    <tr style=\"text-align: right;\">\n",
       "      <th></th>\n",
       "      <th>Pop_ID</th>\n",
       "      <th>pop_dist_road</th>\n",
       "      <th>POP</th>\n",
       "      <th>LONG</th>\n",
       "      <th>LAT</th>\n",
       "      <th>Hosp_ID</th>\n",
       "      <th>hosp_dist_road_estrada</th>\n",
       "      <th>Longitude</th>\n",
       "      <th>Latitude</th>\n",
       "      <th>shortest_path_length</th>\n",
       "      <th>euclidean_distance</th>\n",
       "      <th>total_network_distance</th>\n",
       "      <th>distance_corrected</th>\n",
       "    </tr>\n",
       "  </thead>\n",
       "  <tbody>\n",
       "    <tr>\n",
       "      <th>0</th>\n",
       "      <td>149068</td>\n",
       "      <td>0.04</td>\n",
       "      <td>9.0</td>\n",
       "      <td>124.444167</td>\n",
       "      <td>-9.167778</td>\n",
       "      <td>0</td>\n",
       "      <td>0.0</td>\n",
       "      <td>124.458346</td>\n",
       "      <td>-9.172521</td>\n",
       "      <td>1.662</td>\n",
       "      <td>1.64</td>\n",
       "      <td>1.702</td>\n",
       "      <td>1.702</td>\n",
       "    </tr>\n",
       "    <tr>\n",
       "      <th>1</th>\n",
       "      <td>149096</td>\n",
       "      <td>0.03</td>\n",
       "      <td>9.0</td>\n",
       "      <td>124.426111</td>\n",
       "      <td>-9.168333</td>\n",
       "      <td>0</td>\n",
       "      <td>0.0</td>\n",
       "      <td>124.458346</td>\n",
       "      <td>-9.172521</td>\n",
       "      <td>3.691</td>\n",
       "      <td>3.57</td>\n",
       "      <td>3.721</td>\n",
       "      <td>3.721</td>\n",
       "    </tr>\n",
       "  </tbody>\n",
       "</table>\n",
       "</div>"
      ],
      "text/plain": [
       "   Pop_ID  pop_dist_road  POP        LONG       LAT  Hosp_ID  \\\n",
       "0  149068           0.04  9.0  124.444167 -9.167778        0   \n",
       "1  149096           0.03  9.0  124.426111 -9.168333        0   \n",
       "\n",
       "   hosp_dist_road_estrada   Longitude  Latitude  shortest_path_length  \\\n",
       "0                     0.0  124.458346 -9.172521                 1.662   \n",
       "1                     0.0  124.458346 -9.172521                 3.691   \n",
       "\n",
       "   euclidean_distance  total_network_distance  distance_corrected  \n",
       "0                1.64                   1.702               1.702  \n",
       "1                3.57                   3.721               3.721  "
      ]
     },
     "execution_count": 141,
     "metadata": {
      "tags": []
     },
     "output_type": "execute_result"
    }
   ],
   "source": [
    "matrix_current.head(2)"
   ]
  },
  {
   "cell_type": "code",
   "execution_count": null,
   "metadata": {
    "id": "b-v5dTZGmkYM",
    "outputId": "6e4cb37c-7c22-40fe-dc1a-015ec81648a2"
   },
   "outputs": [
    {
     "data": {
      "text/plain": [
       "52"
      ]
     },
     "execution_count": 142,
     "metadata": {
      "tags": []
     },
     "output_type": "execute_result"
    }
   ],
   "source": [
    "subset_sel_matrix = matrix_current[matrix_current['distance_corrected']<=distance_threshold]\n",
    "round(subset_sel_matrix[['Pop_ID','POP']].drop_duplicates()['POP'].sum()*100/pop_selected['POP'].sum())"
   ]
  }
 ],
 "metadata": {
  "colab": {
   "collapsed_sections": [],
   "name": "Accessibility Analytics - Travel Distance.ipynb",
   "provenance": []
  },
  "kernelspec": {
   "display_name": "Python 3 (ipykernel)",
   "language": "python",
   "name": "python3"
  },
  "language_info": {
   "codemirror_mode": {
    "name": "ipython",
    "version": 3
   },
   "file_extension": ".py",
   "mimetype": "text/x-python",
   "name": "python",
   "nbconvert_exporter": "python",
   "pygments_lexer": "ipython3",
   "version": "3.8.12"
  }
 },
 "nbformat": 4,
 "nbformat_minor": 1
}
