{
 "cells": [
  {
   "cell_type": "code",
   "execution_count": null,
   "id": "latin-right",
   "metadata": {
    "scrolled": true
   },
   "outputs": [],
   "source": [
    "# SELECT runtime { local | colab }\n",
    "# runtime = 'local'\n",
    "\n",
    "# SELECT Road Network Data { osm | estrada | combined }\n",
    "road_path = 'osm'\n",
    "\n",
    "# SELECT Population Data { facebook | worldpop | census }\n",
    "pop_path = 'facebook'\n",
    "\n",
    "# SELECT Distance Threshold in KM\n",
    "distance_thresholds = [10]\n",
    "\n",
    "# Daily probability to a stroke\n",
    "prob_stroke  = 0.001 # 0.1% -> TO TEST, NO REFERENCES\n",
    "\n",
    "# Average days in stroke center\n",
    "average_days = 5 # 5 days, -> TO TEST, NO REFERENCES\n",
    "\n",
    "# Utilization rate (% of people with a stroke actually go to the hospital)\n",
    "utilization_rate = 0.8 # 80%, -> TO TEST, NO REFERENCES\n",
    "\n",
    "# List of number of additional stroke facilities added in the optimization\n",
    "nhospitals = [10,20,30,40,50,60,70,80,90,100,150,200,250,300,400,500,750,1000]\n",
    "\n",
    "# List of number of additional beds added in the optimization\n",
    "nbeds = [100, 200, 300, 400, 500, 600]\n",
    "\n",
    "# SELECT potential stroke facilities { existing hospitals }\n",
    "potential_facilities = 'existing hospitals'"
   ]
  },
  {
   "cell_type": "code",
   "execution_count": null,
   "id": "stylish-mayor",
   "metadata": {
    "scrolled": true
   },
   "outputs": [],
   "source": [
    "%%time\n",
    "import pandas as pd\n",
    "import geopandas as gpd\n",
    "\n",
    "import matplotlib\n",
    "import matplotlib.pyplot as plt\n",
    "import plotly.express as px\n",
    "\n",
    "import folium\n",
    "import itertools\n",
    "import geopy.distance\n",
    "\n",
    "import warnings\n",
    "warnings.filterwarnings('ignore')\n",
    "\n",
    "import json\n",
    "import time\n",
    "from datetime import datetime\n",
    "\n",
    "import sys\n",
    "sys.path.append(r'C:\\Users\\joyce\\WorldBank\\GPBP/Scripts')\n",
    "sys.path.append(r'C:\\Users\\joyce\\WorldBank\\Vietnam Project\\0906Data')\n",
    "\n",
    "# Import python functions\n",
    "from optimization_model import OptimizationModel\n",
    "from distance_matrix import DistanceCalculation, haversine_vectorize\n",
    "from network_gpbp import get_nodes_and_edges\n",
    "from InputDataPreprocessingv1 import CurrentHospitals, NewHospitals, NewHospitalsGrid, NewHospitalsCSV, Population, PopulationFB\n",
    "from Visualization_GPBP import ParetoCurve, CreateMap"
   ]
  },
  {
   "cell_type": "markdown",
   "id": "dominican-melissa",
   "metadata": {},
   "source": [
    "# Import data"
   ]
  },
  {
   "cell_type": "code",
   "execution_count": null,
   "id": "induced-client",
   "metadata": {
    "scrolled": true
   },
   "outputs": [],
   "source": [
    "%%time\n",
    "# Preprocessing of the road network\n",
    "# nodes, edges_attr, network = get_nodes_and_edges(r'C:/Users/joyce/WorldBank/Vietnam Project/0906Data/road_osm_preprocessed.geojson')\n",
    "nodes, edges_attr, network = get_nodes_and_edges(r'../Data/road_osm_preprocessed.geojson')"
   ]
  },
  {
   "cell_type": "code",
   "execution_count": null,
   "id": "stunning-heritage",
   "metadata": {
    "scrolled": true
   },
   "outputs": [],
   "source": [
    "#Plot\n",
    "f, ax = plt.subplots(figsize=(10, 10))\n",
    "edges_attr.plot(ax=ax, color='grey', zorder=1)\n",
    "ax.set_axis_off()\n",
    "plt.show()"
   ]
  },
  {
   "cell_type": "code",
   "execution_count": null,
   "id": "alien-tennessee",
   "metadata": {
    "scrolled": true
   },
   "outputs": [],
   "source": [
    "%%time\n",
    "# Current Hospitals -- stroke facilities in this case\n",
    "health_facilities =  pd.read_csv(r'../Data/stroke-facs.csv').reset_index()\n",
    "# health_facilities =  pd.read_csv(r'C:/Users/joyce/WorldBank/Vietnam Project/0906Data/stroke-facs.csv').reset_index()\n",
    "health_facilities = health_facilities[['index','longitude','latitude','Name_English']]\n",
    "current_hospitals_ID, current_hospitals = CurrentHospitals(health_facilities, network, nodes)\n",
    "len(current_hospitals)"
   ]
  },
  {
   "cell_type": "code",
   "execution_count": null,
   "id": "leading-combining",
   "metadata": {
    "scrolled": true
   },
   "outputs": [],
   "source": [
    "%%time\n",
    "# Location of new potential hospitals. \n",
    "# Pick \"1kmGrid\", \"5kmGrid\", \"10kmGrid\" or \"existing hospitals\"\n",
    "\n",
    "hospitals = gpd.read_file(r'../Data/hospitals_vietnam.geojson')\n",
    "# hospitals = gpd.read_file(r'C:/Users/joyce/WorldBank/Vietnam Project/0906Data/hospitals_vietnam.geojson')\n",
    "new_hospitals_ID, new_hospitals = NewHospitals(current_hospitals, hospitals, network, nodes)\n",
    "\n",
    "len(new_hospitals)"
   ]
  },
  {
   "cell_type": "code",
   "execution_count": null,
   "id": "disturbed-study",
   "metadata": {
    "scrolled": true
   },
   "outputs": [],
   "source": [
    "%%time\n",
    "\n",
    "# Population Data\n",
    "#Round the coordinates to cluster the population. 8 digits: no rounding\n",
    "digits_rounding = 2\n",
    "\n",
    "if pop_path == 'facebook':\n",
    "    read_population = pd.read_csv(r'../Data/pop_fb_2020.csv').reset_index()\n",
    "#     read_population = pd.read_csv(r'C:/Users/joyce/WorldBank/Vietnam Project/0906Data/pop_fb_2020.csv').reset_index()\n",
    "    read_population = read_population[['index','longitude','latitude','population_2020']]\n",
    "elif pop_path == 'worldpop':\n",
    "    read_population = pd.read_csv(r'../Data/WorldPop_2020_1km.csv').reset_index()\n",
    "#     read_population = pd.read_csv(r'C:/Users/joyce/WorldBank/Vietnam Project/0906Data/WorldPop_2020_1km.csv').reset_index()\n",
    "    \n",
    "array_household, population = PopulationFB(digits_rounding, read_population, network, nodes)\n",
    "\n",
    "len(population)"
   ]
  },
  {
   "cell_type": "markdown",
   "id": "activated-hurricane",
   "metadata": {},
   "source": [
    "# Distance matrix"
   ]
  },
  {
   "cell_type": "code",
   "execution_count": null,
   "id": "cognitive-azerbaijan",
   "metadata": {
    "scrolled": true
   },
   "outputs": [],
   "source": [
    "# Determine the smallest and largest threshold\n",
    "distance_threshold_largest = max(distance_thresholds)\n",
    "distance_threshold_smallest = min(distance_thresholds)"
   ]
  },
  {
   "cell_type": "code",
   "execution_count": null,
   "id": "defensive-storage",
   "metadata": {
    "scrolled": true
   },
   "outputs": [],
   "source": [
    "%%time\n",
    "# Calculate distance from households to current hospitals\n",
    "pop_subset = population[['nearest_node','xcoord','ycoord']]\n",
    "matrix_current = DistanceCalculation(network, current_hospitals, population, pop_subset, distance_threshold_largest)\n",
    "matrix_current = matrix_current[['ID','pop_dist_road_estrada','household_count','xcoord','ycoord',\n",
    "                                 'Hosp_ID','hosp_dist_road_estrada','Longitude','Latitude',\n",
    "                                 'shortest_path_length','euclidean_distance','total_network_distance', 'distance_corrected']]\n",
    "matrix_current = matrix_current.rename(columns={'ID':'Pop_ID'})\n"
   ]
  },
  {
   "cell_type": "code",
   "execution_count": null,
   "id": "dependent-compromise",
   "metadata": {
    "scrolled": true
   },
   "outputs": [],
   "source": [
    "%%time\n",
    "# Create a subset of the population. \n",
    "# This subset contains only the population that is not already within a range of S kilometers\n",
    "withinSkm = matrix_current[matrix_current.total_network_distance<=distance_threshold_smallest]\n",
    "withinSkm=withinSkm['Pop_ID'].unique()\n",
    "population_new = population.drop(population[population.ID.isin(withinSkm)].index.tolist())"
   ]
  },
  {
   "cell_type": "code",
   "execution_count": null,
   "id": "amateur-trail",
   "metadata": {
    "scrolled": true
   },
   "outputs": [],
   "source": [
    "%%time\n",
    "# Calculate distance to new hospitals\n",
    "pop_subset = population_new[['nearest_node','xcoord','ycoord']]\n",
    "matrix_new = DistanceCalculation(network, new_hospitals, population, pop_subset, distance_threshold_largest)\n",
    "matrix_new = matrix_new[['ID','pop_dist_road_estrada','household_count','xcoord','ycoord',\n",
    "                                 'Cluster_ID','hosp_dist_road_estrada','Longitude','Latitude',\n",
    "                                 'shortest_path_length','euclidean_distance','total_network_distance', 'distance_corrected']]\n",
    "matrix_new = matrix_new.rename(columns={'ID':'Pop_ID'})"
   ]
  },
  {
   "cell_type": "markdown",
   "id": "particular-little",
   "metadata": {},
   "source": [
    "# Optimization"
   ]
  },
  {
   "cell_type": "code",
   "execution_count": null,
   "id": "increasing-witness",
   "metadata": {
    "scrolled": true
   },
   "outputs": [],
   "source": [
    "%%time\n",
    "# Add matrix with distances of new hospitals to matrix of distances of current hospitals\n",
    "matrix_new1 = matrix_new[['Pop_ID','Cluster_ID','distance_corrected']]\n",
    "matrix_current1 = matrix_current[['Pop_ID','Hosp_ID','distance_corrected']]\n",
    "matrix_new1.columns = ['Pop_ID','Hosp/Cluster','distance']\n",
    "matrix_current1.columns = ['Pop_ID','Hosp/Cluster','distance']\n",
    "df_combined = pd.concat([matrix_current1, matrix_new1],axis=0)\n",
    "df_combined= df_combined.sort_values(by='Pop_ID')"
   ]
  },
  {
   "cell_type": "markdown",
   "id": "subtle-caution",
   "metadata": {},
   "source": [
    "# Model\n",
    "\n",
    "\n",
    "\n",
    "\n",
    "$\\textrm{Maximize } \\quad \\sum_{i \\in I} \\sum_{j \\in J} v_iy_{ij} $ \n",
    "\n",
    "$\\textrm{Subject to } \\quad (1) x_j = 1 \\quad \\quad \\quad \\quad \\quad\\forall j = 1, ... m $\n",
    "\n",
    "$ \\quad \\quad \\quad \\quad \\quad (2) \\sum^{M}_{j=m+1} x_j \\leq p  $\n",
    "\n",
    "$ \\quad \\quad \\quad \\quad \\quad  (3) \\sum_{j=1}^M z_j \\leq q $\n",
    "\n",
    "$ \\quad \\quad \\quad \\quad \\quad  (4) \\sum_{i \\in I} y_{ij} \\leq nx_j \\quad \\quad \\quad \\quad \\quad \\forall j \\in J $\n",
    "\n",
    "$ \\quad \\quad \\quad \\quad \\quad  (5) z_j \\leq Mx_j \\quad \\quad \\quad \\quad \\quad \\forall j \\in J $\n",
    "\n",
    "$ \\quad \\quad \\quad \\quad \\quad (6) \\sum_{j \\in J} y_{ij} \\leq 1 \\quad \\quad \\quad \\quad \\quad \\forall i \\in I$\n",
    "\n",
    "$ \\quad \\quad \\quad \\quad \\quad (7) a * s * \\sum_{i \\in I} v_iy_{ij} \\leq u(c_j + z_j)  \\quad \\quad \\quad \\quad \\quad \\forall j \\in J  $\n",
    "\n",
    "$ \\quad \\quad \\quad \\quad \\quad  (8) y_{ij} = 0 \\quad \\quad \\quad \\quad \\quad \\forall i \\in I, \\forall j \\in J, d_{ij} > S $\n",
    "\n",
    "$ \\quad \\quad \\quad \\quad \\quad x_j \\in \\{0,1\\}, y_{ij} \\in [0,1] \\quad \\quad\\quad \\quad \\quad\\forall i \\in I, \\forall j \\in J $\n",
    "\n",
    "where: \n",
    "\n",
    "- $I$ = the index set of households, or clusters of households, indexed by $i = 1, ..., n$. \n",
    "\n",
    "- $J$ = the index set of all healthcare sites, where indices $j = 1, ..., m$ are corresponding to the already existing healthcare facilities and indices $j = m+1, ..., M$ are corresponding to potential hospital locations\n",
    "\n",
    "- $v_i$ = the number of people in (cluster of) household(s) $i$\n",
    "\n",
    "- $d_{ij}$ = the travel distance from (cluster of) household(s) $i$ to hospital facility $j$\n",
    "\n",
    "- $S$ = the maximum travel distance from a household (or cluster) to a health care facility\n",
    "\n",
    "- $p$ = the number of additional stroke centers \n",
    "\n",
    "- $q$ = the total number of additional capacity (in #beds)\n",
    "\n",
    "- $c_j$ = the current capacity at stroke center $j$ (in # beds)\n",
    "\n",
    "- $u$ = maximal allowed utilization rate (between 0 and 1)\n",
    "\n",
    "- $s$ = average number o days patient occupies a bed in stroke center\n",
    "\n",
    "- $a$ = probability (per days) that a person has to visit a stroke center\n",
    "\n",
    "Decision variables:\n",
    "$\n",
    "x_j = \\begin{cases} 1 & \\text{ if hospital } j \\text{ is opened} \\\\\n",
    "0 & \\text{ otherwise}\n",
    "\\end{cases} \\\\\n",
    "$\n",
    "$\n",
    "y_i = \\begin{cases} 1 & \\text{ if there is an opened health facility within } S \\\\ & \\text{ kilometers travel distance away from the (cluster of) household(s) } i\\\\\n",
    "0 & \\text{ otherwise}\n",
    "\\end{cases} \\\\\n",
    "$\n",
    "$\n",
    "z_j = \\text{extra capacity at stroke center j}\n",
    "$\n"
   ]
  },
  {
   "cell_type": "code",
   "execution_count": null,
   "id": "driving-mention",
   "metadata": {
    "scrolled": true
   },
   "outputs": [],
   "source": [
    "import time\n",
    "import gurobipy as gb\n",
    "from gurobipy import GRB\n",
    "import numpy as np\n",
    "import pandas as pd"
   ]
  },
  {
   "cell_type": "code",
   "execution_count": null,
   "id": "searching-clothing",
   "metadata": {
    "scrolled": true
   },
   "outputs": [],
   "source": [
    "existinghosp = len(current_hospitals_ID)\n",
    "m = len(current_hospitals_ID) + len(new_hospitals_ID)\n",
    "n = len(array_household)\n",
    "p = existinghosp + 0\n",
    "S = 10\n",
    "max_beds = 100"
   ]
  },
  {
   "cell_type": "code",
   "execution_count": null,
   "id": "sacred-agriculture",
   "metadata": {
    "scrolled": true
   },
   "outputs": [],
   "source": [
    "# Use large capacity if you want to check with uncapacitated model\n",
    "# c1 = [100000]*m\n",
    "\n",
    "#Create random existing capacity\n",
    "import random\n",
    "c1 = random.sample(range(0,100), existinghosp)\n",
    "c = [0] * m\n",
    "c[:len(c1)] = c1"
   ]
  },
  {
   "cell_type": "code",
   "execution_count": null,
   "id": "regulated-legend",
   "metadata": {
    "scrolled": true
   },
   "outputs": [],
   "source": [
    "# Only keep combinations if dist <= S\n",
    "dist = df_combined[df_combined.distance<=S]"
   ]
  },
  {
   "cell_type": "code",
   "execution_count": null,
   "id": "surface-terminal",
   "metadata": {
    "scrolled": true
   },
   "outputs": [],
   "source": [
    "#Create the model\n",
    "M = gb.Model(\"Facility location problem\")\n",
    "M.Params.OutputFlag = False #trace \n",
    "M.Params.mipgap     = .0001 #mipGap\n",
    "M.Params.timelimit  = 100 #maxTimeInSeconds"
   ]
  },
  {
   "cell_type": "code",
   "execution_count": null,
   "id": "dominican-chambers",
   "metadata": {
    "scrolled": true
   },
   "outputs": [],
   "source": [
    "# Objective needs improvement, find documentation\n",
    "Y ={}\n",
    "obj = gb.LinExpr()\n",
    "II = dist['Pop_ID']\n",
    "JJ = dist['Hosp/Cluster']\n",
    "JI = { j: [] for j in range(m) }\n",
    "IJ = { i : [] for i in range(n) }\n",
    "\n",
    "# only add variables Yij for which dij <= S\n",
    "for i,j in zip(II,JJ):\n",
    "    IJ[i].append(j) \n",
    "    JI[j].append(i)\n",
    "    Y[i,j] = M.addVar(lb=0.0, vtype=gb.GRB.CONTINUOUS)\n",
    "    obj += array_household[i]*Y[i,j]\n",
    "X = M.addVars(m, vtype=GRB.BINARY)\n",
    "Z = M.addVars(m, lb = 0, vtype=GRB.BINARY)"
   ]
  },
  {
   "cell_type": "code",
   "execution_count": null,
   "id": "appointed-china",
   "metadata": {
    "scrolled": true
   },
   "outputs": [],
   "source": [
    "M.setObjective(obj, gb.GRB.MAXIMIZE)"
   ]
  },
  {
   "cell_type": "code",
   "execution_count": null,
   "id": "elementary-country",
   "metadata": {
    "scrolled": true
   },
   "outputs": [],
   "source": [
    "# Constraints\n",
    "# 1 Existing hospitals are opened\n",
    "for j in range(existinghosp):\n",
    "    M.addLConstr(X[j] == 1, name=\"Existing hospitals\"+str((j)))\n",
    "        \n",
    "#2 Additional hopsitals less or equal to maximum\n",
    "s = M.addLConstr(gb.quicksum(X[j] for j in range(m))<= p)\n",
    "\n",
    "#3 Extra beds less or equal to maximum\n",
    "M.addConstr(gb.quicksum(Z[j] for j in range(m))<= max_beds)\n",
    "\n",
    "#4 Only assign beneficiaries if the hospital is opened\n",
    "for j in range(m):\n",
    "    M.addConstr(gb.quicksum( Y[i,j] for i in JI[j]) <= n * X[j])\n",
    "    \n",
    "#5 Only add beds when the hospital is opened\n",
    "for j in range(m):\n",
    "    M.addConstr(Z[j] <= max_beds * X[j])\n",
    "    \n",
    "#6 One can only be assigned once\n",
    "for i in range(n):\n",
    "    M.addConstr(gb.quicksum( Y[i,j] for j in IJ[i]) <= 1)\n",
    "    \n",
    "# 7 utilization rate\n",
    "for j in range(m):\n",
    "    M.addConstr(prob_stroke * average_days * gb.quicksum( array_household[i]*Y[i,j] for i in JI[j]) <= utilization_rate * (c[j] + Z[j]))"
   ]
  },
  {
   "cell_type": "code",
   "execution_count": null,
   "id": "about-concrete",
   "metadata": {
    "scrolled": true
   },
   "outputs": [],
   "source": [
    "# Optimize the model and find the number of served beneficiaries\n",
    "M.optimize()\n",
    "obj_val = M.objVal"
   ]
  },
  {
   "cell_type": "code",
   "execution_count": null,
   "id": "hawaiian-detroit",
   "metadata": {
    "scrolled": true
   },
   "outputs": [],
   "source": [
    "def getvariables(n, m, X, Y, Z):\n",
    "    \n",
    "    import numpy as np\n",
    "    \n",
    "    Xvalues = np.zeros(m)\n",
    "    Yvalues = np.zeros(n*m)\n",
    "    Zvalues = np.zeros(m)\n",
    "    for j in range(m):\n",
    "        Xvalues[j]=X[j].x\n",
    "        Zvalues[j]=Z[j].x\n",
    "    Yvalues = { j: [] for j in range(m) }\n",
    "    for i,j in zip(II,JJ):\n",
    "        Yvalues[j].append(i)\n",
    "    \n",
    "    return(Xvalues, Yvalues, Zvalues)"
   ]
  },
  {
   "cell_type": "code",
   "execution_count": null,
   "id": "accessible-madness",
   "metadata": {
    "scrolled": true
   },
   "outputs": [],
   "source": [
    "Xvalues, Yvalues, Zvalues  = getvariables(n, m, X, Y, Z)"
   ]
  },
  {
   "cell_type": "markdown",
   "id": "monetary-priest",
   "metadata": {},
   "source": [
    "# Optimization without capacity"
   ]
  },
  {
   "cell_type": "markdown",
   "id": "contained-custom",
   "metadata": {},
   "source": [
    "## Model\n",
    "\n",
    "$\\textrm{Maximize } \\quad \\sum_i v_iy_i $ \n",
    "\n",
    "$\\textrm{Subject to } \\quad x_j = 1 \\quad \\quad \\quad \\quad \\quad\\forall j = 1, ... m $\n",
    "\n",
    "$ \\quad \\quad \\quad \\quad \\quad \\sum^{M}_{j=m+1} x_j \\leq p  $\n",
    "\n",
    "$ \\quad \\quad \\quad \\quad \\quad y_i \\leq \\sum_{j|d_{ij}\\leq S} x_j \\quad  \\forall i \\in I$\n",
    "\n",
    "$ \\quad \\quad \\quad \\quad \\quad y_i, x_j \\in \\{0,1\\} \\quad \\quad\\forall i \\in I, \\forall j \\in J $\n",
    "\n",
    "where: \n",
    "\n",
    "- $I$ = the index set of households, or clusters of households, indexed by $i = 1, ..., n$. \n",
    "\n",
    "- $J$ = the index set of all healthcare sites, where indices $j = 1, ..., m$ are corresponding to the already existing healthcare facilities and indices $j = m+1, ..., M$ are corresponding to potential hospital locations\n",
    "\n",
    "- $v_i$ = the number of people in (cluster of) household(s) $i$\n",
    "\n",
    "- $d_{ij}$ = the travel distance from (cluster of) household(s) $i$ to hospital facility $j$\n",
    "\n",
    "- $S$ = the maximum travel distance from a household (or cluster) to a health care facility\n",
    "\n",
    "- $p$ = the number of additional hospitals located.\n",
    "\n",
    "Decision variables:\n",
    "$\n",
    "x_j = \\begin{cases} 1 & \\text{ if hospital } j \\text{ is opened} \\\\\n",
    "0 & \\text{ otherwise}\n",
    "\\end{cases} \\\\\n",
    "$\n",
    "$\n",
    "y_i = \\begin{cases} 1 & \\text{ if there is an opened health facility within } S \\\\ & \\text{ kilometers travel distance away from the (cluster of) household(s) } i\\\\\n",
    "0 & \\text{ otherwise}\n",
    "\\end{cases}\n",
    "$\n",
    "\n",
    "Interesting to check whether this model gives the same results when you set a huge capacity on the extra number of beds added in the previous model.\n"
   ]
  },
  {
   "cell_type": "code",
   "execution_count": null,
   "id": "filled-grade",
   "metadata": {
    "scrolled": true
   },
   "outputs": [],
   "source": [
    "nhospitals = [10,20,80]\n",
    "df_combined_output = pd.DataFrame()\n",
    "for each_threshold in distance_thresholds:\n",
    "    opt_array, tModelling, tSolving = OptimizationModel(array_household, current_hospitals_ID, new_hospitals_ID, df_combined, each_threshold, nhospitals)\n",
    "    df_opt_outputs = pd.DataFrame(opt_array)\n",
    "    df_combined_output = df_combined_output.append(df_opt_outputs)\n",
    "    print(\"Threshold distance: \" + str(each_threshold))\n",
    "    print(\"Solving time: \" + str(tSolving/60) + \", modelling time: \" + str(tModelling/60))\n",
    "    "
   ]
  },
  {
   "cell_type": "code",
   "execution_count": null,
   "id": "behind-aerospace",
   "metadata": {
    "scrolled": true
   },
   "outputs": [],
   "source": [
    "df_combined_output"
   ]
  }
 ],
 "metadata": {
  "kernelspec": {
   "display_name": "ABW",
   "language": "python",
   "name": "abw"
  },
  "language_info": {
   "codemirror_mode": {
    "name": "ipython",
    "version": 3
   },
   "file_extension": ".py",
   "mimetype": "text/x-python",
   "name": "python",
   "nbconvert_exporter": "python",
   "pygments_lexer": "ipython3",
   "version": "3.7.10"
  }
 },
 "nbformat": 4,
 "nbformat_minor": 5
}
