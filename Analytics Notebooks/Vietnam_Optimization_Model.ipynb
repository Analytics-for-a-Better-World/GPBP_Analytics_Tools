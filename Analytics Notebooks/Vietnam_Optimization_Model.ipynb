{
 "cells": [
  {
   "cell_type": "code",
   "execution_count": null,
   "id": "prostate-acquisition",
   "metadata": {},
   "outputs": [],
   "source": [
    "# SELECT runtime { local | colab }\n",
    "# runtime = 'local'\n",
    "\n",
    "# SELECT Road Network Data { osm | estrada | combined }\n",
    "road_path = 'osm'\n",
    "\n",
    "# SELECT Population Data { facebook | worldpop | census }\n",
    "pop_path = 'facebook'\n",
    "\n",
    "# SELECT Distance Threshold in KM\n",
    "distance_thresholds = [20]\n",
    "\n",
    "# SELECT potential stroke facilities { existing hospitals | grid}\n",
    "potential_facilities = 'existing hospitals'\n",
    "\n",
    "# IF potential facilties = grid, pick km's { 10 | 5 | 1 } \n",
    "grid_size = 10\n",
    "\n",
    "# If it is grid: add the function. For now: use this\n",
    "if potential_facilities == 'grid':\n",
    "    if grid_size == 10:\n",
    "        potential_facilities = '10kmGrid'\n",
    "    elif grid_size == 5:\n",
    "        potential_facilities = '5kmGrid'\n",
    "    elif grid_size == 1:\n",
    "        potential_facilities = '1kmGrid'"
   ]
  },
  {
   "cell_type": "code",
   "execution_count": null,
   "id": "hidden-advocacy",
   "metadata": {},
   "outputs": [],
   "source": [
    "%%time\n",
    "import pandas as pd\n",
    "import geopandas as gpd\n",
    "\n",
    "import matplotlib\n",
    "import matplotlib.pyplot as plt\n",
    "\n",
    "import plotly.express as px\n",
    "import itertools\n",
    "import geopy.distance\n",
    "\n",
    "import warnings\n",
    "warnings.filterwarnings('ignore')\n",
    "\n",
    "import json\n",
    "\n",
    "import time\n",
    "\n",
    "import sys\n",
    "sys.path.append(r'C:\\Users\\joyce\\WorldBank\\Vietnam Project')\n",
    "sys.path.append(r'C:\\Users\\joyce\\WorldBank\\GPBP\\Scripts')\n",
    "\n",
    "\n",
    "# Import python functions\n",
    "from optimization_model import OptimizationModel\n",
    "from distance_matrix import DistanceCalculation, haversine_vectorize\n",
    "from network_gpbp import get_nodes_and_edges\n",
    "from InputDataPreprocessingv1 import CurrentHospitals, NewHospitals, NewHospitalsGrid, NewHospitalsCSV, Population, PopulationFB"
   ]
  },
  {
   "cell_type": "markdown",
   "id": "confirmed-norway",
   "metadata": {},
   "source": [
    "# Import data"
   ]
  },
  {
   "cell_type": "code",
   "execution_count": null,
   "id": "american-quarterly",
   "metadata": {},
   "outputs": [],
   "source": [
    "%%time\n",
    "# Preprocessing of the road network\n",
    "nodes, edges_attr, network = get_nodes_and_edges(r'C:\\Users\\joyce\\WorldBank\\Vietnam Project\\0906Data/road_osm_preprocessed.geojson')"
   ]
  },
  {
   "cell_type": "code",
   "execution_count": null,
   "id": "spectacular-penguin",
   "metadata": {},
   "outputs": [],
   "source": [
    "#Plot\n",
    "f, ax = plt.subplots(figsize=(10, 10))\n",
    "edges_attr.plot(ax=ax, color='grey', zorder=1)\n",
    "ax.set_axis_off()\n",
    "plt.show()"
   ]
  },
  {
   "cell_type": "code",
   "execution_count": null,
   "id": "connected-uganda",
   "metadata": {},
   "outputs": [],
   "source": [
    "%%time\n",
    "# Current Hospitals -- stroke facilities in this case\n",
    "health_facilities =  pd.read_csv(r'C:\\Users\\joyce\\WorldBank\\Vietnam Project\\0906Data/stroke-facs.csv').reset_index()\n",
    "health_facilities = health_facilities[['index','longitude','latitude','Name_English']]\n",
    "current_hospitals_ID, current_hospitals = CurrentHospitals(health_facilities, network, nodes)\n",
    "\n",
    "len(current_hospitals)"
   ]
  },
  {
   "cell_type": "code",
   "execution_count": null,
   "id": "neither-temperature",
   "metadata": {},
   "outputs": [],
   "source": [
    "%%time\n",
    "# Location of new potential hospitals. \n",
    "# Pick \"1kmGrid\", \"5kmGrid\", \"10kmGrid\" or \"existing hospitals\"\n",
    "\n",
    "if potential_facilities == \"1kmGrid\":\n",
    "    grid = gpd.read_file(r'C:\\Users\\joyce\\WorldBank\\Vietnam Project\\0906Data/potential_location_grid_1.geojson')\n",
    "    new_hospitals_ID, new_hospitals = NewHospitalsGrid(current_hospitals, grid, network, nodes)\n",
    "elif potential_facilities == \"5kmGrid\":\n",
    "    grid = gpd.read_file(r'C:\\Users\\joyce\\WorldBank\\Vietnam Project\\0906Data/potential_location_grid_5.geojson')\n",
    "    new_hospitals_ID, new_hospitals = NewHospitalsGrid(current_hospitals, grid, network, nodes)\n",
    "elif potential_facilities == \"10kmGrid\":\n",
    "    grid = gpd.read_file(r'C:\\Users\\joyce\\WorldBank\\Vietnam Project\\0906Data/potential_location_grid_10.geojson')\n",
    "    new_hospitals_ID, new_hospitals = NewHospitalsGrid(current_hospitals, grid, network, nodes)\n",
    "elif potential_facilities == \"existing hospitals\":\n",
    "    hospitals = gpd.read_file(r'C:\\Users\\joyce\\WorldBank\\Vietnam Project\\0906Data/hospitals_vietnam.geojson')\n",
    "    new_hospitals_ID, new_hospitals = NewHospitals(current_hospitals, hospitals, network, nodes)\n",
    "else: print(\"Pick 1kmGrid, 5kmGrid, 10kmGrid or ExistingHospitals\")\n",
    "\n",
    "len(new_hospitals)"
   ]
  },
  {
   "cell_type": "code",
   "execution_count": null,
   "id": "technical-characterization",
   "metadata": {},
   "outputs": [],
   "source": [
    "%%time\n",
    "\n",
    "# Population Data\n",
    "# WorldPop(1km), FB1km or FB30m\n",
    "#Round the coordinates to cluster the population. 8 digits: no rounding\n",
    "digits_rounding = 8\n",
    "\n",
    "if pop_path == 'facebook':\n",
    "    read_population = pd.read_csv(r'C:\\Users\\joyce\\WorldBank\\Vietnam Project\\0906Data/pop_fb_2020.csv').reset_index()\n",
    "    read_population = read_population[['index','longitude','latitude','population_2020']]\n",
    "elif pop_path == 'worldpop':\n",
    "    read_population = pd.read_csv(r'C:\\Users\\joyce\\WorldBank\\Vietnam Project\\0906Data/WorldPop_2020_1km.csv').reset_index()\n",
    "\n",
    "array_household, population = PopulationFB(digits_rounding, read_population, network, nodes)\n",
    "\n",
    "len(population)"
   ]
  },
  {
   "cell_type": "markdown",
   "id": "stopped-conservative",
   "metadata": {},
   "source": [
    "# Distance matrix calculation"
   ]
  },
  {
   "cell_type": "code",
   "execution_count": null,
   "id": "complete-angola",
   "metadata": {},
   "outputs": [],
   "source": [
    "# Determine the smallest and largest threshold\n",
    "distance_threshold_largest = max(distance_thresholds)\n",
    "distance_threshold_smallest = min(distance_thresholds)"
   ]
  },
  {
   "cell_type": "code",
   "execution_count": null,
   "id": "japanese-chart",
   "metadata": {},
   "outputs": [],
   "source": [
    "%%time\n",
    "# Calculate distance from households to current hospitals\n",
    "pop_subset = population[['nearest_node','xcoord','ycoord']]\n",
    "matrix_current = DistanceCalculation(network, current_hospitals, population, pop_subset, distance_threshold_largest)\n",
    "matrix_current = matrix_current[['ID','pop_dist_road_estrada','household_count','xcoord','ycoord',\n",
    "                                 'Hosp_ID','hosp_dist_road_estrada','Longitude','Latitude',\n",
    "                                 'shortest_path_length','euclidean_distance','total_network_distance', 'distance_corrected']]\n",
    "matrix_current = matrix_current.rename(columns={'ID':'Pop_ID'})"
   ]
  },
  {
   "cell_type": "code",
   "execution_count": null,
   "id": "distant-gabriel",
   "metadata": {},
   "outputs": [],
   "source": [
    "%%time\n",
    "# Create a subset of the population. \n",
    "# This subset contains only the population that is not already within a range of S kilometers\n",
    "withinSkm = matrix_current[matrix_current.total_network_distance<=distance_threshold_smallest]\n",
    "withinSkm=withinSkm['Pop_ID'].unique()\n",
    "population_new = population.drop(population[population.ID.isin(withinSkm)].index.tolist())"
   ]
  },
  {
   "cell_type": "code",
   "execution_count": null,
   "id": "collaborative-compiler",
   "metadata": {},
   "outputs": [],
   "source": [
    "%%time\n",
    "# Calculate distance to new hospitals\n",
    "pop_subset = population_new[['nearest_node','xcoord','ycoord']]\n",
    "matrix_new = DistanceCalculation(network, new_hospitals, population, pop_subset, distance_threshold_largest)\n",
    "matrix_new = matrix_new[['ID','pop_dist_road_estrada','household_count','xcoord','ycoord',\n",
    "                                 'Cluster_ID','hosp_dist_road_estrada','Longitude','Latitude',\n",
    "                                 'shortest_path_length','euclidean_distance','total_network_distance', 'distance_corrected']]\n",
    "matrix_new = matrix_new.rename(columns={'ID':'Pop_ID'})"
   ]
  },
  {
   "cell_type": "markdown",
   "id": "disabled-practitioner",
   "metadata": {},
   "source": [
    "# Optimization "
   ]
  },
  {
   "cell_type": "code",
   "execution_count": null,
   "id": "warming-daily",
   "metadata": {},
   "outputs": [],
   "source": [
    "%%time\n",
    "# Add matrix with distances of new hospitals to matrix of distances of current hospitals\n",
    "matrix_new1 = matrix_new[['Pop_ID','Cluster_ID','distance_corrected']]\n",
    "matrix_current1 = matrix_current[['Pop_ID','Hosp_ID','distance_corrected']]\n",
    "matrix_new1.columns = ['Pop_ID','Hosp/Cluster','distance']\n",
    "matrix_current1.columns = ['Pop_ID','Hosp/Cluster','distance']\n",
    "df_combined = pd.concat([matrix_current1, matrix_new1],axis=0)\n",
    "df_combined= df_combined.sort_values(by='Pop_ID')"
   ]
  },
  {
   "cell_type": "markdown",
   "id": "southern-executive",
   "metadata": {},
   "source": [
    "# Model\n",
    "\n",
    "\n",
    "\n",
    "\n",
    "$\\textrm{Maximize } \\quad \\sum_i v_iy_i $ \n",
    "\n",
    "$\\textrm{Subject to } \\quad x_j = 1 \\quad \\quad \\quad \\quad \\quad\\forall j = 1, ... m $\n",
    "\n",
    "$ \\quad \\quad \\quad \\quad \\quad \\sum^{M}_{j=m+1} x_j \\leq p  $\n",
    "\n",
    "$ \\quad \\quad \\quad \\quad \\quad y_i \\leq \\sum_{j|d_{ij}\\leq S} x_j \\quad  \\forall i \\in I$\n",
    "\n",
    "$ \\quad \\quad \\quad \\quad \\quad y_i, x_j \\in \\{0,1\\} \\quad \\quad\\forall i \\in I, \\forall j \\in J $\n",
    "\n",
    "where: \n",
    "\n",
    "- $I$ = the index set of households, or clusters of households, indexed by $i = 1, ..., n$. \n",
    "\n",
    "- $J$ = the index set of all healthcare sites, where indices $j = 1, ..., m$ are corresponding to the already existing healthcare facilities and indices $j = m+1, ..., M$ are corresponding to potential hospital locations\n",
    "\n",
    "- $v_i$ = the number of people in (cluster of) household(s) $i$\n",
    "\n",
    "- $d_{ij}$ = the travel distance from (cluster of) household(s) $i$ to hospital facility $j$\n",
    "\n",
    "- $S$ = the maximum travel distance from a household (or cluster) to a health care facility\n",
    "\n",
    "- $p$ = the number of additional hospitals located.\n",
    "\n",
    "Decision variables:\n",
    "$\n",
    "x_j = \\begin{cases} 1 & \\text{ if hospital } j \\text{ is opened} \\\\\n",
    "0 & \\text{ otherwise}\n",
    "\\end{cases} \\\\\n",
    "$\n",
    "$\n",
    "y_i = \\begin{cases} 1 & \\text{ if there is an opened health facility within } S \\\\ & \\text{ kilometers travel distance away from the (cluster of) household(s) } i\\\\\n",
    "0 & \\text{ otherwise}\n",
    "\\end{cases}\n",
    "$\n"
   ]
  },
  {
   "cell_type": "code",
   "execution_count": null,
   "id": "accessible-separation",
   "metadata": {},
   "outputs": [],
   "source": [
    "nhospitals = [10,20,30,40,50,60,70,80,90,100,150,200,250,300,400,500,750,1000]\n",
    "for each_threshold in distance_thresholds:\n",
    "    opt_array, tModelling, tSolving = OptimizationModel(array_household, current_hospitals_ID, new_hospitals_ID, df_combined, each_threshold, nhospitals)\n",
    "    df_opt_outputs = pd.DataFrame(opt_array)\n",
    "    \n",
    "    print(\"Threshold distance: \" + str(each_threshold))\n",
    "    print(\"Solving time: \" + str(tSolving) + \", modelling time: \" + str(tModelling))\n",
    "    display(df_opt_outputs)"
   ]
  },
  {
   "cell_type": "code",
   "execution_count": null,
   "id": "acquired-generation",
   "metadata": {},
   "outputs": [],
   "source": []
  },
  {
   "cell_type": "code",
   "execution_count": null,
   "id": "scientific-riverside",
   "metadata": {},
   "outputs": [],
   "source": []
  }
 ],
 "metadata": {
  "kernelspec": {
   "display_name": "Python 3",
   "language": "python",
   "name": "python3"
  },
  "language_info": {
   "codemirror_mode": {
    "name": "ipython",
    "version": 3
   },
   "file_extension": ".py",
   "mimetype": "text/x-python",
   "name": "python",
   "nbconvert_exporter": "python",
   "pygments_lexer": "ipython3",
   "version": "3.7.10"
  }
 },
 "nbformat": 4,
 "nbformat_minor": 5
}
