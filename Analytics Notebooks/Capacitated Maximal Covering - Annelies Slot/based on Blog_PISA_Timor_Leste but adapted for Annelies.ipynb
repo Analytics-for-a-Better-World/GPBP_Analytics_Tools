{
  "cells": [
    {
      "cell_type": "markdown",
      "metadata": {
        "id": "RIlJgrMlS7t2"
      },
      "source": [
        "## **Assessing Healthcare Accessibility: A Timor-Leste Case Study**\n",
        "\n",
        "### This Jupyter notebook aims to evaluate the percentage of the population with access to hospitals and clinics in Timor-Leste, utilizing Python and geospatial analysis. It combines geospatial data from various sources, such as GADM, Facebook population data, and OpenStreetMap, to determine healthcare access within specific administrative regions. The notebook involves spatial visualization, spatial joins, and isochrone analysis to estimate the catchment areas of healthcare facilities. Finally, it calculates the percentage of the population with healthcare access and visualizes the results on an interactive map using Folium.\n",
        "\n",
        "* Importing Required Libraries: The notebook begins by installing and importing the necessary Python libraries, including Folium, pandas, geopandas, and others.\n",
        "\n",
        "* Loading Administrative Boundary Data: It uses the GADM library to obtain geospatial data for Timor-Leste's administrative boundaries, specifically at the first administrative level (e.g., districts or provinces). The data is then visualized on a map.\n",
        "\n",
        "* Facebook Population Data: Facebook population data for Timor-Leste in 2020 is retrieved and processed, creating a geospatial dataset of population distribution.\n",
        "\n",
        "* Spatial Join: A spatial join operation is performed to find the population within the selected administrative region (e.g., \"Baucau\").\n",
        "\n",
        "* Healthcare Facility Data: Healthcare facility data, including hospitals and clinics, is collected from OpenStreetMap using Overpass API. The data is cleaned and prepared for analysis.\n",
        "\n",
        "* Catchment Area Analysis: Isochrone analysis is conducted to estimate the catchment areas of healthcare facilities. This analysis helps determine which population groups have access to healthcare services from each facility.\n",
        "\n",
        "* Population with Access Calculation: The notebook calculates the percentage of the population with access to healthcare services in the selected administrative region.\n",
        "\n",
        "* Interactive Map Visualization: The results are visualized on an interactive map using Folium, displaying healthcare facilities, population with and without access, and administrative boundaries.\n",
        "\n",
        "The notebook concludes by summarizing the findings and the overall percentage of the population with healthcare access in the selected region.\n",
        "\n",
        "\n"
      ]
    },
    {
      "cell_type": "code",
      "execution_count": null,
      "metadata": {},
      "outputs": [],
      "source": [
        "import sys\n",
        "IN_COLAB = 'google.colab' in sys.modules\n",
        "\n",
        "import pickle, hashlib, os \n",
        "from functools import wraps\n",
        "\n",
        "def disk_cache(cache_dir=\"cache\"):\n",
        "    def decorator(func):\n",
        "        @wraps(func)\n",
        "        def wrapper(*args, **kwargs):\n",
        "            # Ensure the cache directory exists\n",
        "            os.makedirs(cache_dir, exist_ok=True)\n",
        "\n",
        "            # Create a hash key from the function name and arguments\n",
        "            hash_key = hashlib.sha256()\n",
        "            hash_key.update(func.__name__.encode())\n",
        "            hash_key.update(pickle.dumps(args))\n",
        "            hash_key.update(pickle.dumps(kwargs))\n",
        "            filename = f\"{cache_dir}/{hash_key.hexdigest()}.pkl\"\n",
        "\n",
        "            # Check if the cache file exists\n",
        "            if os.path.exists(filename):\n",
        "                with open(filename, 'rb') as f:\n",
        "                    return pickle.load(f)\n",
        "            else:\n",
        "                # Call the function and cache its result\n",
        "                result = func(*args, **kwargs)\n",
        "                with open(filename, 'wb') as f:\n",
        "                    pickle.dump(result, f)\n",
        "                return result\n",
        "        return wrapper\n",
        "    return decorator"
      ]
    },
    {
      "cell_type": "code",
      "execution_count": null,
      "metadata": {
        "id": "rvACvv254h-2"
      },
      "outputs": [],
      "source": [
        "if IN_COLAB:\n",
        "    %pip install gadm hdx-python-api\n",
        "    %pip install geopandas --upgrade\n",
        "    %pip install pyomo\n",
        "    %pip install highspy\n",
        "    %pip install chart_studio"
      ]
    },
    {
      "cell_type": "code",
      "execution_count": null,
      "metadata": {
        "id": "TW1YwqMt8wFw"
      },
      "outputs": [],
      "source": [
        "import folium as fl\n",
        "import pandas as pd\n",
        "import geopandas as gpd\n",
        "from hdx.api.configuration import Configuration\n",
        "from hdx.data.resource import Resource\n",
        "import urllib.request\n",
        "import requests\n",
        "import json\n",
        "import requests\n",
        "import itertools\n",
        "\n",
        "from shapely.geometry import Polygon,MultiPolygon\n",
        "from shapely.ops import unary_union\n",
        "\n",
        "from gadm import GADMDownloader\n",
        "import numpy as np\n",
        "\n",
        "import pyomo.environ as pyo\n",
        "\n",
        "import plotly.express as px"
      ]
    },
    {
      "cell_type": "markdown",
      "metadata": {
        "id": "NyFS4jySUNfH"
      },
      "source": [
        "**GADM Data**\n",
        "\n",
        "### GADM, which stands for \"Global Administrative Areas,\" is a valuable resource in the field of geospatial analysis and cartography. GADM provides comprehensive and up-to-date geographical data on administrative boundaries for countries worldwide. Here are some key points to note about GADM data:\n",
        "\n",
        "1. **Administrative Boundary Data:** GADM offers geospatial data representing administrative divisions within countries. This includes boundaries for countries, states, provinces, districts, municipalities, and other administrative units. Users can access boundary data at various administrative levels.\n",
        "\n",
        "2. **Global Coverage:** GADM covers nearly every country on Earth, making it a truly global resource. This extensive coverage is invaluable for researchers, analysts, and cartographers working with geospatial information.\n",
        "\n",
        "3. **Accurate and Detailed:** GADM data is known for its accuracy and detail. It is curated and maintained to provide the most up-to-date and reliable information on administrative boundaries. This level of precision is essential for various applications, including geographic analysis and map creation.\n",
        "\n",
        "4. **Open Access:** GADM data is typically available as open data, meaning it can be freely accessed, downloaded, and used by the public. This open access policy encourages widespread use and collaboration in the geospatial community.\n",
        "\n",
        "5. **Diverse Use Cases:** GADM data finds applications in a wide range of fields, including urban planning, epidemiology, environmental science, and social sciences. It supports research, decision-making, and policy development by providing a foundation for spatial analysis.\n",
        "\n",
        "6. **Spatial Analysis:** Researchers and analysts often use GADM data for tasks such as spatial joins, geospatial modeling, demographic analysis, and accessibility assessments. It forms the basis for answering questions related to administrative boundaries and geographic distribution.\n",
        "\n",
        "7. **Map Visualization:** Cartographers use GADM data to create maps at various scales and levels of detail. These maps are instrumental in illustrating administrative divisions, electoral boundaries, and other geographic features.\n",
        "\n",
        "8. **Consistent Format:** GADM data is typically available in standard geospatial file formats such as Shapefiles or GeoJSON, making it compatible with a wide range of Geographic Information System (GIS) software and tools.\n",
        "\n",
        "In summary, GADM data is a valuable resource for accessing high-quality, up-to-date geographical information on administrative boundaries worldwide. Its open access nature and precision make it an essential asset for professionals and researchers working in the field of geospatial analysis and mapping."
      ]
    },
    {
      "cell_type": "code",
      "execution_count": null,
      "metadata": {
        "colab": {
          "base_uri": "https://localhost:8080/",
          "height": 112
        },
        "id": "RGmbvLHygNbA",
        "outputId": "9abaa026-423c-433f-c491-7a17419c1a16"
      },
      "outputs": [],
      "source": [
        "# Initialize the GADMDownloader with the specified version (in this case, version 4.0)\n",
        "downloader = GADMDownloader(version=\"4.0\")\n",
        "\n",
        "# Define the country name for which you want to retrieve administrative boundary data\n",
        "country_name = \"Timor-Leste\"\n",
        "\n",
        "# Specify the administrative level you are interested in (e.g., 1 for districts or provinces)\n",
        "ad_level = 1\n",
        "\n",
        "# Retrieve the geospatial data for the selected country and administrative level\n",
        "gdf = downloader.get_shape_data_by_country_name(country_name=country_name, ad_level=ad_level)\n",
        "\n",
        "# Display the first 2 rows of the obtained geospatial data for a quick preview\n",
        "gdf.head(2)\n"
      ]
    },
    {
      "cell_type": "code",
      "execution_count": null,
      "metadata": {
        "colab": {
          "base_uri": "https://localhost:8080/",
          "height": 1000
        },
        "id": "q_lepeEG4hgJ",
        "outputId": "2a52bfc3-1a0d-472c-c980-9dc296604b2d"
      },
      "outputs": [],
      "source": [
        "# Create a Folium map (m) with an initial zoom level of 10 and using OpenStreetMap tiles as the basemap\n",
        "m = fl.Map(location=[-8.556856, 125.560314], zoom_start=9, tiles=\"OpenStreetMap\")\n",
        "\n",
        "# Iterate through each row in the geospatial data (gdf) representing administrative boundaries\n",
        "for _, r in gdf.iterrows():\n",
        "    # Simplify the geometry of the current boundary with a specified tolerance\n",
        "    sim_geo = gpd.GeoSeries(r[\"geometry\"]).simplify(tolerance=0.00001)\n",
        "\n",
        "    # Convert the simplified geometry to JSON format\n",
        "    geo_j = sim_geo.to_json()\n",
        "\n",
        "    # Create a GeoJson layer from the JSON geometry, and style it with an orange fill color\n",
        "    geo_j = fl.GeoJson(data=geo_j, style_function=lambda x: {\"fillColor\": \"orange\"})\n",
        "\n",
        "    # Add a popup with the NAME_1 attribute (administrative region name) to the GeoJson layer\n",
        "    #fl.Popup(r[\"NAME_1\"]).add_to(geo_j)\n",
        "\n",
        "    # Add the styled GeoJson layer to the Folium map (m)\n",
        "    geo_j.add_to(m)\n",
        "\n",
        "# Display the Folium map (m) with the administrative boundaries and popups\n",
        "m\n"
      ]
    },
    {
      "cell_type": "code",
      "execution_count": null,
      "metadata": {
        "id": "6FrFQKwsQo7Y"
      },
      "outputs": [],
      "source": [
        "selected_adm1 = 'Baucau'"
      ]
    },
    {
      "cell_type": "code",
      "execution_count": null,
      "metadata": {
        "colab": {
          "base_uri": "https://localhost:8080/",
          "height": 1000
        },
        "id": "Zff0fEAZ-lym",
        "outputId": "6d44239a-5517-4baf-c088-cae736b67f4b"
      },
      "outputs": [],
      "source": [
        "selected_gadm = gdf[gdf['NAME_1']==selected_adm1]\n",
        "\n",
        "for _, r in selected_gadm.iterrows():\n",
        "    sim_geo = gpd.GeoSeries(r[\"geometry\"]).simplify(tolerance=0.001)\n",
        "    geo_j = sim_geo.to_json()\n",
        "    geo_j = fl.GeoJson(data=geo_j, style_function=lambda x: {\"fillColor\": \"red\"})\n",
        "    fl.Popup(r[\"NAME_1\"]).add_to(geo_j)\n",
        "    geo_j.add_to(m)\n",
        "m"
      ]
    },
    {
      "cell_type": "markdown",
      "metadata": {
        "id": "cAkyRO0CUh98"
      },
      "source": [
        "**High Resolution Population Density Maps**\n",
        "\n",
        "### Accurate population density data plays a crucial role in delivering social services effectively. Meta, in collaboration with the Center for International Earth Science Information Network (CIESIN), has developed highly accurate population maps that offer valuable insights into population distribution. Key highlights of these population density maps include:\n",
        "\n",
        "1. **High Resolution:** These maps provide population estimates at a high resolution of 30 meters, allowing for detailed analysis of population distribution.\n",
        "\n",
        "2. **Demographic Breakdowns:** In addition to total population density, the maps offer demographic breakdowns, including data on women, men, youth, children, women of reproductive age, and the elderly, all at the same 30-meter resolution.\n",
        "\n",
        "3. **Public Availability:** These population density maps are publicly accessible and cover over 160 countries and territories worldwide. They can be downloaded from platforms such as Humanitarian Data Exchange (HDX) and Amazon Web Services (AWS).\n",
        "\n",
        "The process of creating these maps involves several key steps:\n",
        "\n",
        "- **Step 1: Model Population Growth:** CIESIN records census data and uses it to model population growth at both country and subnational levels.\n",
        "\n",
        "- **Step 2: Satellite Imagery Analysis:** Computer algorithms are trained to analyze satellite imagery. The presence of buildings and structures is used as an indicator of human population.\n",
        "\n",
        "- **Step 3: Building Density Calculation:** Algorithms calculate the density of buildings within each 30x30 meter tile in the satellite image.\n",
        "\n",
        "- **Step 4: Population Estimation:** Population data is distributed across the tiles based on building density, resulting in actionable population density maps.\n",
        "\n",
        "These maps serve various purposes, including urban planning, public health, disaster response, and environmental studies. They are available for download through HDX for desktop use in GIS software or through AWS Public Datasets for large-scale programmatic usage via Amazon S3 and Athena.\n",
        "\n",
        "These population density maps represent a significant resource for researchers, policymakers, and organizations working to better understand and address population-related challenges across the globe."
      ]
    },
    {
      "cell_type": "code",
      "execution_count": null,
      "metadata": {
        "colab": {
          "base_uri": "https://localhost:8080/"
        },
        "id": "BLa0qyYF5s8b",
        "outputId": "856ce6c4-c616-4932-ebf0-1796d1de4e37"
      },
      "outputs": [],
      "source": [
        "def fb_pop_data(country_iso3: str) -> pd.DataFrame:\n",
        "    \"\"\"\n",
        "    Get 2020 facebook data for an area defined by the MultiPolygon geometry\n",
        "    \"\"\"\n",
        "    try:\n",
        "        Configuration.create(\n",
        "            hdx_site=\"prod\", user_agent=\"Get_Population_Data\", hdx_read_only=True\n",
        "        )\n",
        "    except:\n",
        "        pass\n",
        "    resource = Resource.search_in_hdx(\n",
        "        f\"name:{country_iso3.lower()}_general_2020_csv.zip\"\n",
        "    )\n",
        "    url = resource[0][\"download_url\"]\n",
        "    filehandle, _ = urllib.request.urlretrieve(url)\n",
        "    print(\"Data downloaded\")\n",
        "    facebook_pop_csv = pd.read_csv(filehandle, compression=\"zip\")\n",
        "    population = facebook_pop_csv.reset_index()\n",
        "    population.columns = ['ID','xcoord','ycoord','population']\n",
        "\n",
        "    population_meta = gpd.GeoDataFrame(population,\n",
        "                                       geometry=gpd.points_from_xy(x=population.xcoord,\n",
        "                                                                   y=population.ycoord))\n",
        "\n",
        "    return population_meta\n",
        "\n",
        "population_meta = fb_pop_data('TLS')\n",
        "population_meta = population_meta.set_crs(selected_gadm.crs)\n",
        "print('Total Population:',round(population_meta['population'].sum()/1000000,2),'million')"
      ]
    },
    {
      "cell_type": "code",
      "execution_count": null,
      "metadata": {
        "colab": {
          "base_uri": "https://localhost:8080/",
          "height": 112
        },
        "id": "H9iFhXCfBvFS",
        "outputId": "a56f3813-c47b-4f17-b4a0-b103f1e0707c"
      },
      "outputs": [],
      "source": [
        "population_meta.head(2)"
      ]
    },
    {
      "cell_type": "code",
      "execution_count": null,
      "metadata": {
        "colab": {
          "base_uri": "https://localhost:8080/"
        },
        "id": "FNC9Jqc16_HG",
        "outputId": "7dba7dc9-2de4-4054-a605-2d1307eb15fb"
      },
      "outputs": [],
      "source": [
        "# Perform a spatial join to find population within the selected administrative boundary\n",
        "population_aoi = gpd.sjoin(population_meta, selected_gadm)\n",
        "print('Total Population (Area of Interest -', selected_adm1,'):',round(population_aoi['population'].sum()))"
      ]
    },
    {
      "cell_type": "markdown",
      "metadata": {
        "id": "bKvy9v6lVFQG"
      },
      "source": [
        "### This code segment retrieves and analyzes healthcare facility data (hospitals and clinics) in Timor-Leste within a specified area of interest (AOI). Here's a brief summary of what it does:\n",
        "\n",
        "- It uses the Overpass API to query OpenStreetMap data for hospitals in Timor-Leste, retrieves the data in JSON format, and converts it into a DataFrame (`df_hospitals`).\n",
        "\n",
        "- It extracts relevant information, such as the hospital's name, latitude, and longitude, from the OpenStreetMap data.\n",
        "\n",
        "- Similarly, it queries OpenStreetMap data for clinics in Timor-Leste, retrieves the data, and processes it into a DataFrame (`df_clinics`), extracting relevant information.\n",
        "\n",
        "- The code then combines the hospital and clinic data into a single GeoDataFrame (`df_health_osm`) and converts latitude and longitude coordinates into a geometry column.\n",
        "\n",
        "- It prints the number of hospitals and clinics extracted from the data.\n",
        "\n",
        "- Finally, it performs a spatial join to determine how many hospitals and clinics fall within the specified administrative region of interest (AOI) and prints the result.\n",
        "\n",
        "This code segment is a critical step in assessing healthcare accessibility in a specific region of Timor-Leste, as it identifies and quantifies the healthcare facilities within the chosen area."
      ]
    },
    {
      "cell_type": "code",
      "execution_count": null,
      "metadata": {
        "colab": {
          "base_uri": "https://localhost:8080/"
        },
        "id": "7mKYoRX9DvO1",
        "outputId": "b2cccfc1-0f24-4a3d-eebb-cb51afa6981a"
      },
      "outputs": [],
      "source": [
        "%%time\n",
        "\n",
        "overpass_url = \"http://overpass-api.de/api/interpreter\"\n",
        "overpass_query = \"\"\"\n",
        "[out:json];\n",
        "area[\"ISO3166-1\"=\"TL\"];\n",
        "(node[\"amenity\"=\"hospital\"](area);\n",
        " way[\"amenity\"=\"hospital\"](area);\n",
        " rel[\"amenity\"=\"hospital\"](area);\n",
        ");\n",
        "out center;\n",
        "\"\"\"\n",
        "response = requests.get(overpass_url,\n",
        "                        params={'data': overpass_query})\n",
        "data = response.json()\n",
        "\n",
        "df_hospitals = pd.DataFrame(data['elements'])\n",
        "\n",
        "df_hospitals['name'] = df_hospitals['tags'].apply(lambda x:x['name'] if 'name' in list(x.keys()) else None)\n",
        "\n",
        "df_hospitals = df_hospitals[['id','lat','lon','name']].drop_duplicates()\n",
        "\n",
        "overpass_url = \"http://overpass-api.de/api/interpreter\"\n",
        "overpass_query = \"\"\"\n",
        "[out:json];\n",
        "area[\"ISO3166-1\"=\"TL\"];\n",
        "(node[\"amenity\"=\"clinic\"](area);\n",
        " way[\"amenity\"=\"clinic\"](area);\n",
        " rel[\"amenity\"=\"clinic\"](area);\n",
        ");\n",
        "out center;\n",
        "\"\"\"\n",
        "response = requests.get(overpass_url,\n",
        "                        params={'data': overpass_query})\n",
        "data = response.json()\n",
        "\n",
        "df_clinics = pd.DataFrame(data['elements'])\n",
        "df_clinics['name'] = df_clinics['tags'].apply(lambda x:x['name'] if 'name' in list(x.keys()) else None)\n",
        "df_clinics['amenity'] = df_clinics['tags'].apply(lambda x:x['healthcare'] if 'healthcare' in list(x.keys()) else None)\n",
        "\n",
        "df_clinics = df_clinics[['id','lat','lon','name','amenity']].drop_duplicates()\n",
        "\n",
        "df_health_osm = pd.concat([df_hospitals,df_clinics])\n",
        "df_health_osm = gpd.GeoDataFrame(df_health_osm, geometry=gpd.points_from_xy(df_health_osm.lon, df_health_osm.lat))\n",
        "df_health_osm = df_health_osm[['id','name','geometry']]\n",
        "\n",
        "print('Number of hospitals and clinics extracted:',len(df_health_osm))\n",
        "df_health_osm = df_health_osm.set_crs(selected_gadm.crs)\n",
        "selected_hosp = gpd.sjoin(df_health_osm, selected_gadm, predicate='within')\n",
        "print('Number of hospitals and clinics in AOI (',selected_adm1,'):',len(selected_hosp))"
      ]
    },
    {
      "cell_type": "markdown",
      "metadata": {
        "id": "wPFGZ2L_VS0l"
      },
      "source": [
        "### This code defines a function, `get_isochrone_osm`, which calculates an isochrone polygon representing a reachable area around a given location (usually a hospital). It makes an API call to OpenRouteService to obtain a polygon based on a specified travel time (here, 1800 seconds or 30 minutes). The resulting polygon is returned as a geometric shape."
      ]
    },
    {
      "cell_type": "code",
      "execution_count": null,
      "metadata": {
        "colab": {
          "base_uri": "https://localhost:8080/"
        },
        "id": "-SkgGpMONxFP",
        "outputId": "3ab3f722-99a3-4519-fe5c-443a23caa0ca"
      },
      "outputs": [],
      "source": [
        "len(selected_hosp)"
      ]
    },
    {
      "cell_type": "code",
      "execution_count": null,
      "metadata": {
        "id": "dJir2lmF-aVk"
      },
      "outputs": [],
      "source": [
        "@disk_cache('cache/osm')\n",
        "def get_isochrone_osm (each_hosp,travel_time_secs):\n",
        "  body = {\"locations\":[[each_hosp.x,each_hosp.y]],\"range\":[travel_time_secs],\"range_type\":'time'}\n",
        "  headers = {\n",
        "      'Accept': 'application/json, application/geo+json, application/gpx+xml, img/png; charset=utf-8',\n",
        "      'Authorization': 'OVERPASS API KEY',\n",
        "      'Content-Type': 'application/json; charset=utf-8'\n",
        "  }\n",
        "  call = requests.post('https://api.openrouteservice.org/v2/isochrones/foot-walking', json=body, headers=headers)\n",
        "  if(call.status_code==200):\n",
        "    geom = (json.loads(call.text)['features'][0]['geometry'])\n",
        "    polygon_geom = Polygon(geom['coordinates'][0])\n",
        "    return polygon_geom\n",
        "  else:\n",
        "    return None"
      ]
    },
    {
      "cell_type": "code",
      "execution_count": null,
      "metadata": {
        "id": "xcKD_VobO0pc"
      },
      "outputs": [],
      "source": [
        "@disk_cache('cache/mapbox')\n",
        "def get_isochrone_mapbox (each_hosp,minutes,access_token,mode):\n",
        "  longitude = each_hosp.x\n",
        "  latitude = each_hosp.y\n",
        "  query = \"\"\"https://api.mapbox.com/isochrone/v1/mapbox/\"\"\"\n",
        "  query = query+mode+'/'\n",
        "  query = query+str(longitude)+','+str(latitude)+'?'\n",
        "  query = query+'contours_minutes='+minutes\n",
        "  query = query+'&polygons=true&access_token='\n",
        "  query = query+access_token\n",
        "  req_return = (requests.get(query).json())\n",
        "\n",
        "  if('code' in req_return):\n",
        "    if (req_return['code']=='NoSegment'):\n",
        "      print('No Segment')\n",
        "    else:\n",
        "      print(req_return)\n",
        "  else:\n",
        "    return(req_return['features'])"
      ]
    },
    {
      "cell_type": "code",
      "execution_count": null,
      "metadata": {
        "id": "zAaV5pITESyZ"
      },
      "outputs": [],
      "source": [
        "selected_hosp['cachment_area_osm'] = selected_hosp['geometry'].apply(get_isochrone_osm,travel_time_secs=3600)"
      ]
    },
    {
      "cell_type": "code",
      "execution_count": null,
      "metadata": {
        "id": "OTZwBil6RBDk"
      },
      "outputs": [],
      "source": [
        "quartile_labels = [0.1, 0.25, 0.5, 1.0]\n",
        "population_aoi['opacity'] = pd.qcut(population_aoi['population'], 4, labels=quartile_labels)"
      ]
    },
    {
      "cell_type": "code",
      "execution_count": null,
      "metadata": {
        "colab": {
          "base_uri": "https://localhost:8080/",
          "height": 423
        },
        "id": "lmZi7XIJyjV9",
        "outputId": "83a8f6ad-8f8f-4d43-e737-201eef3dad0d"
      },
      "outputs": [],
      "source": [
        "population_aoi"
      ]
    },
    {
      "cell_type": "code",
      "execution_count": null,
      "metadata": {},
      "outputs": [],
      "source": [
        "jg_mapbox_key = list(pd.read_csv('JG_mapbox.csv',sep=';').to_dict().keys())[0]"
      ]
    },
    {
      "cell_type": "code",
      "execution_count": null,
      "metadata": {
        "id": "McnEAAQ0znmv"
      },
      "outputs": [],
      "source": [
        "access_token = jg_mapbox_key#'MAPBOX ACCESS KEY SHOULD BE ADDED HERE!'"
      ]
    },
    {
      "cell_type": "code",
      "execution_count": null,
      "metadata": {
        "id": "5cn6DXLzOhnI"
      },
      "outputs": [],
      "source": [
        "selected_hosp['cachment_area_mapbox'] = selected_hosp['geometry'].apply(get_isochrone_mapbox,minutes=\"60\",access_token=access_token,mode='walking')\n",
        "selected_hosp['cachment_area_mapbox'] = selected_hosp['cachment_area_mapbox'].apply(lambda x: x[0]['geometry'])\n",
        "selected_hosp['cachment_area_mapbox'] = selected_hosp['cachment_area_mapbox'].apply(lambda x:Polygon(x['coordinates'][0]))"
      ]
    },
    {
      "cell_type": "code",
      "execution_count": null,
      "metadata": {
        "id": "Hi4yfsamQgG9"
      },
      "outputs": [],
      "source": [
        "selected_hosp['cachment_area'] = selected_hosp['cachment_area_mapbox']"
      ]
    },
    {
      "cell_type": "code",
      "execution_count": null,
      "metadata": {
        "id": "d9OrvAr6KeK6"
      },
      "outputs": [],
      "source": [
        "def get_pop_count(cachment,pop_data):\n",
        "  if(cachment!=None):\n",
        "    pop_access = pop_data[pop_data.within(cachment)]\n",
        "    id_values = (pop_access['ID'].values)\n",
        "    pop_with_access = (pop_access['population'].sum().round())\n",
        "    return id_values,pop_with_access\n",
        "  else:\n",
        "    return [None,None]\n",
        "\n",
        "selected_hosp['id_with_access'], selected_hosp['pop_with_access'] = zip(*selected_hosp['cachment_area'].apply(get_pop_count, pop_data=population_aoi))\n"
      ]
    },
    {
      "cell_type": "code",
      "execution_count": null,
      "metadata": {
        "colab": {
          "base_uri": "https://localhost:8080/"
        },
        "id": "KoGLkv1IPBdr",
        "outputId": "0109d49f-5441-4107-d726-5bbd8a3a31e3"
      },
      "outputs": [],
      "source": [
        "list_ids_access = list(selected_hosp['id_with_access'].values)\n",
        "list_ids_access = list(itertools.chain.from_iterable(list_ids_access))\n",
        "pop_with_access = population_aoi[population_aoi['ID'].isin(list_ids_access)]\n",
        "pop_without_access = population_aoi[~population_aoi['ID'].isin(list_ids_access)]\n",
        "\n",
        "original_access = round(pop_with_access['population'].sum()*100/population_aoi['population'].sum(),2)\n",
        "\n",
        "print('Population with Access:',round(pop_with_access['population'].sum()*100/population_aoi['population'].sum(),2),'%')"
      ]
    },
    {
      "cell_type": "code",
      "execution_count": null,
      "metadata": {
        "colab": {
          "base_uri": "https://localhost:8080/",
          "height": 1000
        },
        "id": "pB6EVwjceHeq",
        "outputId": "47910e41-39dd-4c94-c911-e50b06e08966"
      },
      "outputs": [],
      "source": [
        "view_one = selected_hosp[selected_hosp['id']==11641171758]\n",
        "\n",
        "folium_map = fl.Map(location=[-8.475, 126.456], zoom_start=11, tiles=\"OpenStreetMap\")\n",
        "\n",
        "geo_adm = fl.GeoJson(data=selected_gadm.iloc[0]['geometry'],style_function=lambda x:{'color': 'orange'})\n",
        "geo_adm.add_to(folium_map)\n",
        "\n",
        "for i in range(0,len(view_one)):\n",
        "    fl.Marker([view_one.iloc[i]['geometry'].y, view_one.iloc[i]['geometry'].x],\n",
        "                        color='blue',popup=view_one.iloc[i]['name']).add_to(folium_map)\n",
        "\n",
        "geo_polygon = fl.GeoJson(data=view_one.iloc[0]['cachment_area_mapbox'],style_function=lambda x:{'color': 'green'})\n",
        "geo_polygon.add_to(folium_map)\n",
        "\n",
        "folium_map\n"
      ]
    },
    {
      "cell_type": "code",
      "execution_count": null,
      "metadata": {
        "colab": {
          "base_uri": "https://localhost:8080/",
          "height": 1000
        },
        "id": "gdwhxdMJgaVh",
        "outputId": "7e61f87d-1eac-46bf-aecc-8cc9c486506b"
      },
      "outputs": [],
      "source": [
        "pop_access_one = population_aoi[population_aoi['ID'].isin(view_one['id_with_access'].values[0])]\n",
        "\n",
        "for i in range(0,len(pop_access_one)):\n",
        "  fl.CircleMarker(\n",
        "        location=[pop_access_one.iloc[i]['ycoord'], pop_access_one.iloc[i]['xcoord']],\n",
        "        radius=5,\n",
        "        color=None,\n",
        "        fill=True,\n",
        "        fill_color='green',\n",
        "        fill_opacity=pop_without_access.iloc[i]['opacity']).add_to(folium_map)\n",
        "\n",
        "folium_map"
      ]
    },
    {
      "cell_type": "code",
      "execution_count": null,
      "metadata": {
        "colab": {
          "base_uri": "https://localhost:8080/",
          "height": 711
        },
        "id": "picus2lwJy6L",
        "outputId": "67068158-5d85-402d-cac0-393b3aa9df84"
      },
      "outputs": [],
      "source": [
        "folium_map = fl.Map(location=[-8.475, 126.456], zoom_start=11, tiles=\"OpenStreetMap\")\n",
        "\n",
        "geo_adm = fl.GeoJson(data=selected_gadm.iloc[0]['geometry'],style_function=lambda x:{'color': 'orange'})\n",
        "geo_adm.add_to(folium_map)\n",
        "\n",
        "for i in range(0,len(selected_hosp)):\n",
        "    fl.Marker([selected_hosp.iloc[i]['geometry'].y, selected_hosp.iloc[i]['geometry'].x],\n",
        "                        color='blue',popup=selected_hosp.iloc[i]['name']).add_to(folium_map)\n",
        "\n",
        "for i in range(0,len(pop_without_access)):\n",
        "  fl.CircleMarker(\n",
        "        location=[pop_without_access.iloc[i]['ycoord'], pop_without_access.iloc[i]['xcoord']],\n",
        "        radius=5,\n",
        "        color=None,\n",
        "        fill=True,\n",
        "        fill_color='red',\n",
        "        fill_opacity=pop_without_access.iloc[i]['opacity']).add_to(folium_map)\n",
        "\n",
        "for i in range(0,len(pop_with_access)):\n",
        "  fl.CircleMarker(\n",
        "        location=[pop_with_access.iloc[i]['ycoord'], pop_with_access.iloc[i]['xcoord']],\n",
        "        radius=5,\n",
        "        color=None,\n",
        "        fill=True,\n",
        "        fill_color='green',\n",
        "        fill_opacity=pop_without_access.iloc[i]['opacity']).add_to(folium_map)\n",
        "\n",
        "folium_map\n"
      ]
    },
    {
      "cell_type": "code",
      "execution_count": null,
      "metadata": {
        "id": "tblgmTwvMYfZ"
      },
      "outputs": [],
      "source": [
        "def generate_grid_in_polygon(\n",
        "    spacing: float, geometry: MultiPolygon\n",
        ") -> gpd.GeoDataFrame:\n",
        "    \"\"\"\n",
        "    This Function generates evenly spaced points within the given GeoDataFrame.\n",
        "    The parameter 'spacing' defines the distance between the points in coordinate units.\n",
        "    \"\"\"\n",
        "\n",
        "    # Get the bounds of the polygon\n",
        "    minx, miny, maxx, maxy = geometry.bounds\n",
        "\n",
        "    # Square around the country with the min, max polygon bounds\n",
        "    # Now generate the entire grid\n",
        "    x_coords = list(np.arange(np.floor(minx), int(np.ceil(maxx)), spacing))\n",
        "    y_coords = list(np.arange(np.floor(miny), int(np.ceil(maxy)), spacing))\n",
        "    mesh = np.meshgrid(x_coords, y_coords)\n",
        "    grid = gpd.GeoDataFrame(\n",
        "        data={\"longitude\": mesh[0].flatten(), \"latitude\": mesh[1].flatten()},\n",
        "        geometry=gpd.points_from_xy(mesh[0].flatten(), mesh[1].flatten()),\n",
        "        crs=\"EPSG:4326\",\n",
        "    )\n",
        "    grid = gpd.clip(grid, geometry)\n",
        "    grid = grid.reset_index(drop=True).reset_index().rename(columns={\"index\": \"ID\"})\n",
        "\n",
        "    return grid"
      ]
    },
    {
      "cell_type": "code",
      "execution_count": null,
      "metadata": {
        "colab": {
          "base_uri": "https://localhost:8080/"
        },
        "id": "CLYwkv0ZTrjw",
        "outputId": "8da1d8b1-8079-4512-c999-7652d44f50c9"
      },
      "outputs": [],
      "source": [
        "potential_locations = generate_grid_in_polygon(geometry=selected_gadm['geometry'].values[0],spacing=0.02)\n",
        "len(potential_locations)"
      ]
    },
    {
      "cell_type": "code",
      "execution_count": null,
      "metadata": {
        "colab": {
          "base_uri": "https://localhost:8080/",
          "height": 1000
        },
        "id": "1_S0HNrqTt2O",
        "outputId": "c277166d-93c6-4679-fc65-b28598edb753"
      },
      "outputs": [],
      "source": [
        "folium_map = fl.Map([-8.475, 126.456], zoom_start=11)\n",
        "geo_adm = fl.GeoJson(data=selected_gadm.iloc[0]['geometry'],style_function=lambda x:{'color': 'orange'})\n",
        "\n",
        "for i in range(0,len(potential_locations)):\n",
        "  fl.CircleMarker(\n",
        "        location=[potential_locations.iloc[i]['latitude'], potential_locations.iloc[i]['longitude']],\n",
        "        radius=3,\n",
        "        color='blue',\n",
        "        fill=True,\n",
        "        fill_color='blue',\n",
        "        fill_opacity=0.7).add_to(folium_map)\n",
        "\n",
        "folium_map"
      ]
    },
    {
      "cell_type": "code",
      "execution_count": null,
      "metadata": {
        "id": "4SaqGP9YVsFj"
      },
      "outputs": [],
      "source": [
        "potential_locations['cachment_area_mapbox'] = potential_locations['geometry'].apply(get_isochrone_mapbox,minutes=\"60\",access_token=access_token,mode='walking')\n",
        "potential_locations['cachment_area_mapbox'] = potential_locations['cachment_area_mapbox'].apply(lambda x: x[0]['geometry'])\n",
        "potential_locations['cachment_area_mapbox'] = potential_locations['cachment_area_mapbox'].apply(lambda x:Polygon(x['coordinates'][0]))"
      ]
    },
    {
      "cell_type": "code",
      "execution_count": null,
      "metadata": {
        "id": "lyZXGFTcYj9H"
      },
      "outputs": [],
      "source": [
        "potential_locations['id_with_access'], potential_locations['pop_with_access'] = zip(*potential_locations['cachment_area_mapbox'].apply(get_pop_count, pop_data=population_aoi))"
      ]
    },
    {
      "cell_type": "code",
      "execution_count": null,
      "metadata": {
        "colab": {
          "base_uri": "https://localhost:8080/",
          "height": 423
        },
        "id": "UnyRQ0KC4RdU",
        "outputId": "7d2e4ed4-c0ce-4bef-9ea0-adefc9f0a243"
      },
      "outputs": [],
      "source": [
        "potential_locations"
      ]
    },
    {
      "cell_type": "code",
      "execution_count": null,
      "metadata": {
        "colab": {
          "base_uri": "https://localhost:8080/"
        },
        "id": "JXwEJ4-cYkLZ",
        "outputId": "74b5655b-7604-4507-ce95-2f6cd50678b2"
      },
      "outputs": [],
      "source": [
        "list_ids_access_old = list(selected_hosp['id_with_access'].values)\n",
        "list_ids_access_old = list(itertools.chain.from_iterable(list_ids_access_old))\n",
        "\n",
        "list_ids_access_new = list(potential_locations['id_with_access'].values)\n",
        "list_ids_access_new = list(itertools.chain.from_iterable(list_ids_access_new))\n",
        "\n",
        "list_ids_access = list_ids_access_old + list_ids_access_new\n",
        "\n",
        "pop_with_access = population_aoi[population_aoi['ID'].isin(list_ids_access)]\n",
        "pop_without_access = population_aoi[~population_aoi['ID'].isin(list_ids_access)]\n",
        "\n",
        "print('Maximum access attainable with this potential location list:',round(pop_with_access['population'].sum()*100/population_aoi['population'].sum(),2),'%')\n",
        "max_access_possible = round(pop_with_access['population'].sum()*100/population_aoi['population'].sum(),2)"
      ]
    },
    {
      "cell_type": "code",
      "execution_count": null,
      "metadata": {
        "id": "tYEZJc9EaqOk"
      },
      "outputs": [],
      "source": [
        "def model_max_covering(w, I, J, JI, p, J_existing):\n",
        "\n",
        "    assert set(J_existing).issubset(set(J))\n",
        "\n",
        "    m = pyo.ConcreteModel('MaxCovering')\n",
        "\n",
        "    m.p = pyo.Param(mutable=True, within=pyo.Integers, default=p)\n",
        "    m.I = pyo.Set(initialize=I)\n",
        "    m.J = pyo.Set(initialize=J)\n",
        "    m.Jfixed = pyo.Set(initialize=J_existing)\n",
        "    m.nof_fixed = pyo.Param(mutable=False, within=pyo.Integers, default=len(J_existing))\n",
        "\n",
        "    @m.Param(m.I, within=pyo.NonNegativeReals)\n",
        "    def w(m, i):\n",
        "        return w[i]\n",
        "\n",
        "    @m.Param(m.I, within=pyo.Any)\n",
        "    def JI(m, i):\n",
        "        return JI.get(i,[])\n",
        "\n",
        "    m.x = pyo.Var(m.J, within=pyo.Binary)\n",
        "    m.z = pyo.Var(m.I, within=pyo.Binary)\n",
        "\n",
        "    @m.Objective(sense=pyo.maximize)\n",
        "    def covering(m):\n",
        "        return pyo.quicksum(m.w[i] * m.z[i] for i in m.I)\n",
        "\n",
        "    @m.Constraint(m.I)\n",
        "    def serve_if_reachable_and_open(m, i):\n",
        "        return m.z[i] <= pyo.quicksum(m.x[j] for j in m.JI[i])\n",
        "\n",
        "    @m.Constraint()\n",
        "    def budget(m):\n",
        "        return pyo.quicksum(m.x[j] for j in m.J) <= m.nof_fixed + m.p\n",
        "\n",
        "    @m.Constraint(m.Jfixed)\n",
        "    def fix_open(m,j):\n",
        "        return m.x[j] == 1\n",
        "\n",
        "    return m\n",
        "\n",
        "def get_selected(variables):\n",
        "    return [k for k, v in variables.items() if v() > 0.5]"
      ]
    },
    {
      "cell_type": "code",
      "execution_count": null,
      "metadata": {
        "id": "hdUOWmT65NM4"
      },
      "outputs": [],
      "source": [
        "w = population_aoi.set_index('ID').population.to_dict()\n",
        "\n",
        "J_existing = set(selected_hosp.id)\n",
        "J_potential = set(potential_locations.ID )\n",
        "\n",
        "J = sorted( J_existing | J_potential )\n",
        "I = sorted( set(population_aoi.ID) )\n",
        "\n",
        "IJ_existing = selected_hosp.set_index('id').id_with_access.to_dict()\n",
        "IJ_potential = potential_locations.set_index('ID').id_with_access.to_dict()\n",
        "\n",
        "IJ = IJ_existing | IJ_potential\n",
        "\n",
        "def reverse_mapping( mapping ):\n",
        "    from collections import defaultdict\n",
        "    aux = defaultdict(set)\n",
        "    for x, Y in mapping.items():\n",
        "        for y in Y:\n",
        "            aux[y].add(x)\n",
        "    return { y : sorted(aux[y]) for y in sorted(aux.keys()) }\n",
        "\n",
        "JI = reverse_mapping( IJ )\n",
        "J_existing = sorted(J_existing)"
      ]
    },
    {
      "cell_type": "code",
      "execution_count": null,
      "metadata": {
        "id": "1EgvgFxs5-CW"
      },
      "outputs": [],
      "source": [
        "model = model_max_covering(w, I, J, JI, 0, J_existing)\n",
        "solver = pyo.SolverFactory('appsi_highs')"
      ]
    },
    {
      "cell_type": "code",
      "execution_count": null,
      "metadata": {
        "id": "PmJ4OMFV8dYc"
      },
      "outputs": [],
      "source": [
        "from tqdm.notebook import tqdm"
      ]
    },
    {
      "cell_type": "code",
      "execution_count": null,
      "metadata": {
        "colab": {
          "base_uri": "https://localhost:8080/",
          "height": 49,
          "referenced_widgets": [
            "71d16cdbd42d4178ada3a56b74cce095",
            "aa82e8e39ee34e8a944078997454454c",
            "0f9aa5fc2bc347a59b71a9a2db80123a",
            "3363fa15cb1945d78b7d4b83a95f3a6b",
            "4a806d6dd0404401b98c627f8c649c20",
            "0449a73cfa5042a88f5c4aa3332bee58",
            "faf6921ef6b74c65854b91d87596721b",
            "75d8afc825194e5ab93a26a0682d6e96",
            "dfcee8f131274d03ba4bb11198b906d0",
            "1f501c61c364440c805b274933cb9c32",
            "1e764ba7ab2b4f9583ae4f02f327eca1"
          ]
        },
        "id": "rOfvGjWs683d",
        "outputId": "2a4b93c7-1113-4e4c-effe-b15e2032f3c0"
      },
      "outputs": [],
      "source": [
        "list_ids_access_old = list(selected_hosp['id_with_access'].values)\n",
        "list_ids_access_old = list(itertools.chain.from_iterable(list_ids_access_old))\n",
        "result_list = []\n",
        "for each_val in tqdm(range(0,len(potential_locations))):\n",
        "  model.p = each_val\n",
        "  solver.solve(model)\n",
        "  opened_ids = get_selected(model.x)\n",
        "  selected_new = potential_locations[potential_locations['ID'].isin(opened_ids)]\n",
        "  list_ids_access_new = list(selected_new['id_with_access'].values)\n",
        "  list_ids_access_new = list(itertools.chain.from_iterable(list_ids_access_new))\n",
        "  list_ids_access = list_ids_access_old + list_ids_access_new\n",
        "  pop_with_access = population_aoi[population_aoi['ID'].isin(list_ids_access)]\n",
        "  pop_without_access = population_aoi[~population_aoi['ID'].isin(list_ids_access)]\n",
        "  pop_percentage = round(pop_with_access['population'].sum()*100/population_aoi['population'].sum(),2)\n",
        "  result_list.append([each_val+len(selected_hosp),pop_percentage])"
      ]
    },
    {
      "cell_type": "code",
      "execution_count": null,
      "metadata": {
        "colab": {
          "base_uri": "https://localhost:8080/",
          "height": 542
        },
        "id": "a-u_bhDrrDkp",
        "outputId": "a7d794a6-2a22-4699-f1ac-2129f5ab10a9"
      },
      "outputs": [],
      "source": [
        "# Extract data for plotting\n",
        "x_values = [item[0] for item in result_list]\n",
        "y_values = [item[1] for item in result_list]\n",
        "\n",
        "# Create a plotly graph\n",
        "fig = px.scatter(x=x_values, y=y_values)\n",
        "\n",
        "# Update the layout\n",
        "fig.update_layout(\n",
        "    xaxis_title=\"Number of facilities (existing + new)\",\n",
        "    yaxis_title=\"Percentage of population with access\",\n",
        "    plot_bgcolor='white',\n",
        "    yaxis=dict(range=[0, 100]),\n",
        "    xaxis=dict(range=[0, 100]),\n",
        "    width=1200\n",
        ")\n",
        "\n",
        "# Add vertical line and annotation at x=14\n",
        "fig.add_vline(x=14, line_width=3, line_dash=\"dash\", line_color=\"green\")\n",
        "fig.add_annotation(\n",
        "    x=14, y=50,\n",
        "    text=\"Number of existing facilities\",\n",
        "    showarrow=True,\n",
        "    arrowhead=1,\n",
        "    ax=20,\n",
        "    ay=-30\n",
        ")\n",
        "\n",
        "# Add vertical line and annotation at x=14\n",
        "fig.add_hline(y=max_access_possible, line_width=3, line_dash=\"dash\", line_color=\"green\")\n",
        "fig.add_annotation(\n",
        "    x=13, y=87,\n",
        "    text=\"Maximum access possible with the potential location list\",\n",
        "    showarrow=True,\n",
        "    arrowhead=1,\n",
        "    ax=10,\n",
        "    ay=-30\n",
        ")\n",
        "\n",
        "# Show the figure\n",
        "fig.show()"
      ]
    },
    {
      "cell_type": "code",
      "execution_count": null,
      "metadata": {
        "id": "YgHta5MG-dK3"
      },
      "outputs": [],
      "source": [
        "model.p = 3\n",
        "solver.solve(model)\n",
        "opened_ids = get_selected(model.x)\n",
        "selected_new = potential_locations[potential_locations['ID'].isin(opened_ids)]\n",
        "list_ids_access_old = list(selected_hosp['id_with_access'].values)\n",
        "list_ids_access_old = list(itertools.chain.from_iterable(list_ids_access_old))\n",
        "list_ids_access_new = list(selected_new['id_with_access'].values)\n",
        "list_ids_access_new = list(itertools.chain.from_iterable(list_ids_access_new))\n",
        "list_ids_access = list_ids_access_old + list_ids_access_new\n",
        "pop_with_access = population_aoi[population_aoi['ID'].isin(list_ids_access)]\n",
        "pop_without_access = population_aoi[~population_aoi['ID'].isin(list_ids_access)]\n"
      ]
    },
    {
      "cell_type": "code",
      "execution_count": null,
      "metadata": {
        "colab": {
          "base_uri": "https://localhost:8080/",
          "height": 1000
        },
        "id": "ryxfyf_JLSXC",
        "outputId": "0eb2348f-9ff3-4d53-c9b5-61b7f16e8aec"
      },
      "outputs": [],
      "source": [
        "folium_map = fl.Map(location=[-8.475, 126.456], zoom_start=11, tiles=\"OpenStreetMap\")\n",
        "\n",
        "geo_adm = fl.GeoJson(data=selected_gadm.iloc[0]['geometry'],style_function=lambda x:{'color': 'orange'})\n",
        "geo_adm.add_to(folium_map)\n",
        "\n",
        "for i in range(0,len(selected_hosp)):\n",
        "    fl.Marker([selected_hosp.iloc[i]['geometry'].y, selected_hosp.iloc[i]['geometry'].x],\n",
        "                        color='blue',popup=selected_hosp.iloc[i]['name']).add_to(folium_map)\n",
        "\n",
        "for i in range(0,len(selected_new)):\n",
        "    fl.Marker([selected_new.iloc[i]['geometry'].y, selected_new.iloc[i]['geometry'].x],\n",
        "                        icon=fl.Icon(color='darkpurple')).add_to(folium_map)\n",
        "\n",
        "for i in range(0,len(pop_without_access)):\n",
        "  fl.CircleMarker(\n",
        "        location=[pop_without_access.iloc[i]['ycoord'], pop_without_access.iloc[i]['xcoord']],\n",
        "        radius=5,\n",
        "        color=None,\n",
        "        fill=True,\n",
        "        fill_color='red',\n",
        "        fill_opacity=pop_without_access.iloc[i]['opacity']).add_to(folium_map)\n",
        "\n",
        "for i in range(0,len(pop_with_access)):\n",
        "  fl.CircleMarker(\n",
        "        location=[pop_with_access.iloc[i]['ycoord'], pop_with_access.iloc[i]['xcoord']],\n",
        "        radius=5,\n",
        "        color=None,\n",
        "        fill=True,\n",
        "        fill_color='green',\n",
        "        fill_opacity=pop_with_access.iloc[i]['opacity']).add_to(folium_map)\n",
        "\n",
        "folium_map"
      ]
    }
  ],
  "metadata": {
    "colab": {
      "provenance": []
    },
    "kernelspec": {
      "display_name": "Python 3",
      "name": "python3"
    },
    "language_info": {
      "codemirror_mode": {
        "name": "ipython",
        "version": 3
      },
      "file_extension": ".py",
      "mimetype": "text/x-python",
      "name": "python",
      "nbconvert_exporter": "python",
      "pygments_lexer": "ipython3",
      "version": "3.10.11"
    },
    "widgets": {
      "application/vnd.jupyter.widget-state+json": {
        "0449a73cfa5042a88f5c4aa3332bee58": {
          "model_module": "@jupyter-widgets/base",
          "model_module_version": "1.2.0",
          "model_name": "LayoutModel",
          "state": {
            "_model_module": "@jupyter-widgets/base",
            "_model_module_version": "1.2.0",
            "_model_name": "LayoutModel",
            "_view_count": null,
            "_view_module": "@jupyter-widgets/base",
            "_view_module_version": "1.2.0",
            "_view_name": "LayoutView",
            "align_content": null,
            "align_items": null,
            "align_self": null,
            "border": null,
            "bottom": null,
            "display": null,
            "flex": null,
            "flex_flow": null,
            "grid_area": null,
            "grid_auto_columns": null,
            "grid_auto_flow": null,
            "grid_auto_rows": null,
            "grid_column": null,
            "grid_gap": null,
            "grid_row": null,
            "grid_template_areas": null,
            "grid_template_columns": null,
            "grid_template_rows": null,
            "height": null,
            "justify_content": null,
            "justify_items": null,
            "left": null,
            "margin": null,
            "max_height": null,
            "max_width": null,
            "min_height": null,
            "min_width": null,
            "object_fit": null,
            "object_position": null,
            "order": null,
            "overflow": null,
            "overflow_x": null,
            "overflow_y": null,
            "padding": null,
            "right": null,
            "top": null,
            "visibility": null,
            "width": null
          }
        },
        "0f9aa5fc2bc347a59b71a9a2db80123a": {
          "model_module": "@jupyter-widgets/controls",
          "model_module_version": "1.5.0",
          "model_name": "FloatProgressModel",
          "state": {
            "_dom_classes": [],
            "_model_module": "@jupyter-widgets/controls",
            "_model_module_version": "1.5.0",
            "_model_name": "FloatProgressModel",
            "_view_count": null,
            "_view_module": "@jupyter-widgets/controls",
            "_view_module_version": "1.5.0",
            "_view_name": "ProgressView",
            "bar_style": "success",
            "description": "",
            "description_tooltip": null,
            "layout": "IPY_MODEL_75d8afc825194e5ab93a26a0682d6e96",
            "max": 307,
            "min": 0,
            "orientation": "horizontal",
            "style": "IPY_MODEL_dfcee8f131274d03ba4bb11198b906d0",
            "value": 307
          }
        },
        "1e764ba7ab2b4f9583ae4f02f327eca1": {
          "model_module": "@jupyter-widgets/controls",
          "model_module_version": "1.5.0",
          "model_name": "DescriptionStyleModel",
          "state": {
            "_model_module": "@jupyter-widgets/controls",
            "_model_module_version": "1.5.0",
            "_model_name": "DescriptionStyleModel",
            "_view_count": null,
            "_view_module": "@jupyter-widgets/base",
            "_view_module_version": "1.2.0",
            "_view_name": "StyleView",
            "description_width": ""
          }
        },
        "1f501c61c364440c805b274933cb9c32": {
          "model_module": "@jupyter-widgets/base",
          "model_module_version": "1.2.0",
          "model_name": "LayoutModel",
          "state": {
            "_model_module": "@jupyter-widgets/base",
            "_model_module_version": "1.2.0",
            "_model_name": "LayoutModel",
            "_view_count": null,
            "_view_module": "@jupyter-widgets/base",
            "_view_module_version": "1.2.0",
            "_view_name": "LayoutView",
            "align_content": null,
            "align_items": null,
            "align_self": null,
            "border": null,
            "bottom": null,
            "display": null,
            "flex": null,
            "flex_flow": null,
            "grid_area": null,
            "grid_auto_columns": null,
            "grid_auto_flow": null,
            "grid_auto_rows": null,
            "grid_column": null,
            "grid_gap": null,
            "grid_row": null,
            "grid_template_areas": null,
            "grid_template_columns": null,
            "grid_template_rows": null,
            "height": null,
            "justify_content": null,
            "justify_items": null,
            "left": null,
            "margin": null,
            "max_height": null,
            "max_width": null,
            "min_height": null,
            "min_width": null,
            "object_fit": null,
            "object_position": null,
            "order": null,
            "overflow": null,
            "overflow_x": null,
            "overflow_y": null,
            "padding": null,
            "right": null,
            "top": null,
            "visibility": null,
            "width": null
          }
        },
        "3363fa15cb1945d78b7d4b83a95f3a6b": {
          "model_module": "@jupyter-widgets/controls",
          "model_module_version": "1.5.0",
          "model_name": "HTMLModel",
          "state": {
            "_dom_classes": [],
            "_model_module": "@jupyter-widgets/controls",
            "_model_module_version": "1.5.0",
            "_model_name": "HTMLModel",
            "_view_count": null,
            "_view_module": "@jupyter-widgets/controls",
            "_view_module_version": "1.5.0",
            "_view_name": "HTMLView",
            "description": "",
            "description_tooltip": null,
            "layout": "IPY_MODEL_1f501c61c364440c805b274933cb9c32",
            "placeholder": "​",
            "style": "IPY_MODEL_1e764ba7ab2b4f9583ae4f02f327eca1",
            "value": " 307/307 [01:34&lt;00:00,  5.50it/s]"
          }
        },
        "4a806d6dd0404401b98c627f8c649c20": {
          "model_module": "@jupyter-widgets/base",
          "model_module_version": "1.2.0",
          "model_name": "LayoutModel",
          "state": {
            "_model_module": "@jupyter-widgets/base",
            "_model_module_version": "1.2.0",
            "_model_name": "LayoutModel",
            "_view_count": null,
            "_view_module": "@jupyter-widgets/base",
            "_view_module_version": "1.2.0",
            "_view_name": "LayoutView",
            "align_content": null,
            "align_items": null,
            "align_self": null,
            "border": null,
            "bottom": null,
            "display": null,
            "flex": null,
            "flex_flow": null,
            "grid_area": null,
            "grid_auto_columns": null,
            "grid_auto_flow": null,
            "grid_auto_rows": null,
            "grid_column": null,
            "grid_gap": null,
            "grid_row": null,
            "grid_template_areas": null,
            "grid_template_columns": null,
            "grid_template_rows": null,
            "height": null,
            "justify_content": null,
            "justify_items": null,
            "left": null,
            "margin": null,
            "max_height": null,
            "max_width": null,
            "min_height": null,
            "min_width": null,
            "object_fit": null,
            "object_position": null,
            "order": null,
            "overflow": null,
            "overflow_x": null,
            "overflow_y": null,
            "padding": null,
            "right": null,
            "top": null,
            "visibility": null,
            "width": null
          }
        },
        "71d16cdbd42d4178ada3a56b74cce095": {
          "model_module": "@jupyter-widgets/controls",
          "model_module_version": "1.5.0",
          "model_name": "HBoxModel",
          "state": {
            "_dom_classes": [],
            "_model_module": "@jupyter-widgets/controls",
            "_model_module_version": "1.5.0",
            "_model_name": "HBoxModel",
            "_view_count": null,
            "_view_module": "@jupyter-widgets/controls",
            "_view_module_version": "1.5.0",
            "_view_name": "HBoxView",
            "box_style": "",
            "children": [
              "IPY_MODEL_aa82e8e39ee34e8a944078997454454c",
              "IPY_MODEL_0f9aa5fc2bc347a59b71a9a2db80123a",
              "IPY_MODEL_3363fa15cb1945d78b7d4b83a95f3a6b"
            ],
            "layout": "IPY_MODEL_4a806d6dd0404401b98c627f8c649c20"
          }
        },
        "75d8afc825194e5ab93a26a0682d6e96": {
          "model_module": "@jupyter-widgets/base",
          "model_module_version": "1.2.0",
          "model_name": "LayoutModel",
          "state": {
            "_model_module": "@jupyter-widgets/base",
            "_model_module_version": "1.2.0",
            "_model_name": "LayoutModel",
            "_view_count": null,
            "_view_module": "@jupyter-widgets/base",
            "_view_module_version": "1.2.0",
            "_view_name": "LayoutView",
            "align_content": null,
            "align_items": null,
            "align_self": null,
            "border": null,
            "bottom": null,
            "display": null,
            "flex": null,
            "flex_flow": null,
            "grid_area": null,
            "grid_auto_columns": null,
            "grid_auto_flow": null,
            "grid_auto_rows": null,
            "grid_column": null,
            "grid_gap": null,
            "grid_row": null,
            "grid_template_areas": null,
            "grid_template_columns": null,
            "grid_template_rows": null,
            "height": null,
            "justify_content": null,
            "justify_items": null,
            "left": null,
            "margin": null,
            "max_height": null,
            "max_width": null,
            "min_height": null,
            "min_width": null,
            "object_fit": null,
            "object_position": null,
            "order": null,
            "overflow": null,
            "overflow_x": null,
            "overflow_y": null,
            "padding": null,
            "right": null,
            "top": null,
            "visibility": null,
            "width": null
          }
        },
        "aa82e8e39ee34e8a944078997454454c": {
          "model_module": "@jupyter-widgets/controls",
          "model_module_version": "1.5.0",
          "model_name": "HTMLModel",
          "state": {
            "_dom_classes": [],
            "_model_module": "@jupyter-widgets/controls",
            "_model_module_version": "1.5.0",
            "_model_name": "HTMLModel",
            "_view_count": null,
            "_view_module": "@jupyter-widgets/controls",
            "_view_module_version": "1.5.0",
            "_view_name": "HTMLView",
            "description": "",
            "description_tooltip": null,
            "layout": "IPY_MODEL_0449a73cfa5042a88f5c4aa3332bee58",
            "placeholder": "​",
            "style": "IPY_MODEL_faf6921ef6b74c65854b91d87596721b",
            "value": "100%"
          }
        },
        "dfcee8f131274d03ba4bb11198b906d0": {
          "model_module": "@jupyter-widgets/controls",
          "model_module_version": "1.5.0",
          "model_name": "ProgressStyleModel",
          "state": {
            "_model_module": "@jupyter-widgets/controls",
            "_model_module_version": "1.5.0",
            "_model_name": "ProgressStyleModel",
            "_view_count": null,
            "_view_module": "@jupyter-widgets/base",
            "_view_module_version": "1.2.0",
            "_view_name": "StyleView",
            "bar_color": null,
            "description_width": ""
          }
        },
        "faf6921ef6b74c65854b91d87596721b": {
          "model_module": "@jupyter-widgets/controls",
          "model_module_version": "1.5.0",
          "model_name": "DescriptionStyleModel",
          "state": {
            "_model_module": "@jupyter-widgets/controls",
            "_model_module_version": "1.5.0",
            "_model_name": "DescriptionStyleModel",
            "_view_count": null,
            "_view_module": "@jupyter-widgets/base",
            "_view_module_version": "1.2.0",
            "_view_name": "StyleView",
            "description_width": ""
          }
        }
      }
    }
  },
  "nbformat": 4,
  "nbformat_minor": 0
}
