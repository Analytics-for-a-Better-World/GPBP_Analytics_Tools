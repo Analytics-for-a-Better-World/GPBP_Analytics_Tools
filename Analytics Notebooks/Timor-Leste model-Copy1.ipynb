{
 "cells": [
  {
   "cell_type": "code",
   "execution_count": 4,
   "metadata": {},
   "outputs": [],
   "source": [
    "# SELECT runtime { local | colab }\n",
    "# runtime = 'local'\n",
    "\n",
    "# SELECT Road Network Data { osm | estrada | combined }\n",
    "road_path = 'osm'\n",
    "\n",
    "# SELECT Population Data { facebook | worldpop | census }\n",
    "pop_path = 'worldpop'\n",
    "\n",
    "# SELECT Distance Threshold in KM\n",
    "distance_thresholds = [2, 5, 10]\n",
    "\n",
    "# SELECT potential stroke facilities {grid}\n",
    "potential_facilities = 'grid'\n",
    "\n",
    "# IF potential facilties = grid, pick km's { 10 | 5 | 2 } \n",
    "grid_size = 10\n",
    "\n",
    "# If it is grid: add the function. For now: use this\n",
    "if potential_facilities == 'grid':\n",
    "    if grid_size == 10:\n",
    "        potential_facilities = '10kmGrid'\n",
    "    elif grid_size == 5:\n",
    "        potential_facilities = '5kmGrid'\n",
    "    elif grid_size == 1:\n",
    "        potential_facilities = '1kmGrid'"
   ]
  },
  {
   "cell_type": "code",
   "execution_count": 5,
   "metadata": {},
   "outputs": [
    {
     "name": "stdout",
     "output_type": "stream",
     "text": [
      "CPU times: user 37 µs, sys: 1 µs, total: 38 µs\n",
      "Wall time: 41 µs\n"
     ]
    }
   ],
   "source": [
    "%%time\n",
    "import pandas as pd\n",
    "import geopandas as gpd\n",
    "\n",
    "import matplotlib\n",
    "import matplotlib.pyplot as plt\n",
    "\n",
    "import plotly.express as px\n",
    "import itertools\n",
    "import geopy.distance\n",
    "\n",
    "import warnings\n",
    "warnings.filterwarnings('ignore')\n",
    "\n",
    "import json\n",
    "\n",
    "import time\n",
    "\n",
    "import sys\n",
    "\n",
    "sys.path.append(r'../Scripts')\n",
    "\n",
    "\n",
    "# Import python functions\n",
    "from optimization_model import OptimizationModel\n",
    "from distance_matrix import DistanceCalculation, haversine_vectorize\n",
    "from network_gpbp import get_nodes_and_edges\n",
    "from InputDataPreprocessingv1 import CurrentHospitals, NewHospitals, NewHospitalsGrid, NewHospitalsCSV, Population, PopulationFB"
   ]
  },
  {
   "cell_type": "markdown",
   "metadata": {},
   "source": [
    "# Import data"
   ]
  },
  {
   "cell_type": "code",
   "execution_count": null,
   "metadata": {},
   "outputs": [],
   "source": [
    "# ROAD NETWORK --> Pick \"OSM\", \"eStrada\" or \"Merged\"\n",
    "nodes, edges_attr, network = get_nodes_and_edges(r'C:\\Users\\joyce\\WorldBank\\Model1\\Data_model1_OSM/osm_network_edited.geojson')\n"
   ]
  },
  {
   "cell_type": "code",
   "execution_count": null,
   "metadata": {},
   "outputs": [],
   "source": [
    "edges_attr.sum()"
   ]
  },
  {
   "cell_type": "code",
   "execution_count": null,
   "metadata": {},
   "outputs": [],
   "source": [
    "#Plot\n",
    "f, ax = plt.subplots(figsize=(10, 10))\n",
    "edges_attr.plot(ax=ax, color='grey', zorder=1)\n",
    "ax.set_axis_off()\n",
    "plt.show()"
   ]
  },
  {
   "cell_type": "code",
   "execution_count": null,
   "metadata": {},
   "outputs": [],
   "source": [
    "%%time\n",
    "# Current hospitals -- current_hospitals['index, longitude, latitude, name']\n",
    "current_hospitals = gpd.read_file(r'C:\\Users\\joyce\\WorldBank\\Model1\\Data_model1_official/health_facilities.geojson', driver='GeoJSON').reset_index()\n",
    "current_hospitals = current_hospitals[['index','LONG','LAT','L_NAME']].drop_duplicates()\n",
    "current_hospitals_ID, current_hospitals = CurrentHospitals(current_hospitals, network, nodes)"
   ]
  },
  {
   "cell_type": "code",
   "execution_count": null,
   "metadata": {},
   "outputs": [],
   "source": [
    "len(current_hospitals)"
   ]
  },
  {
   "cell_type": "code",
   "execution_count": null,
   "metadata": {},
   "outputs": [],
   "source": [
    "%%time\n",
    "# Location of new potential hospitals, 1*1 grid for Timor-Leste\n",
    "new_hospitals = pd.read_csv(r'C:\\Users\\joyce\\WorldBank\\Model1\\Data19-04/potential_hospital_locations_complete.csv')\n",
    "new_hospitals_ID, new_hospitals = NewHospitalsCSV(current_hospitals, new_hospitals, network, nodes)\n",
    "# new_hospitals = NewHospitalsCSV(current_hospitals, new_hospitals, network, nodes)\n",
    "# new_hospitals.head()\n",
    "\n",
    "len(new_hospitals)"
   ]
  },
  {
   "cell_type": "code",
   "execution_count": null,
   "metadata": {},
   "outputs": [],
   "source": [
    "%%time\n",
    "digits_rounding = 8\n",
    "\n",
    "if pop_path == \"facebook\":\n",
    "    read_population = pd.read_csv(r'C:\\Users\\joyce\\Downloads\\tls_population_2020_csv.zip').reset_index()\n",
    "    array_household, population = PopulationFB(digits_rounding, read_population, network, nodes)\n",
    "elif pop_path == \"census\":\n",
    "    read_population = gpd.read_file(r'C:\\Users\\joyce\\WorldBank\\Model1\\Data_model1_official/census.geojson', driver='GeoJSON')\n",
    "    read_population = read_population[['IDENT','LONG','LAT']]\n",
    "    array_household, population = Population(digits_rounding, read_population, network, nodes)\n",
    "\n",
    "len(population)"
   ]
  },
  {
   "cell_type": "markdown",
   "metadata": {},
   "source": [
    "# Distance matrix calculation"
   ]
  },
  {
   "cell_type": "code",
   "execution_count": null,
   "metadata": {},
   "outputs": [],
   "source": [
    "# Determine the smallest and largest threshold\n",
    "distance_threshold_largest = max(distance_thresholds)\n",
    "distance_threshold_smallest = min(distance_thresholds)"
   ]
  },
  {
   "cell_type": "code",
   "execution_count": null,
   "metadata": {},
   "outputs": [],
   "source": [
    "%%time\n",
    "# Calculate distance from households to current hospitals\n",
    "pop_subset = population[['nearest_node','xcoord','ycoord']]\n",
    "matrix_current = DistanceCalculation(network, current_hospitals, population, pop_subset, distance_threshold_largest)\n",
    "matrix_current = matrix_current[['ID','pop_dist_road_estrada','household_count','xcoord','ycoord',\n",
    "                                 'Hosp_ID','hosp_dist_road_estrada','Longitude','Latitude',\n",
    "                                 'shortest_path_length','euclidean_distance','total_network_distance', 'distance_corrected']]\n",
    "matrix_current = matrix_current.rename(columns={'ID':'Pop_ID'})"
   ]
  },
  {
   "cell_type": "code",
   "execution_count": null,
   "metadata": {},
   "outputs": [],
   "source": [
    "%%time\n",
    "# Create a subset of the population. \n",
    "# This subset contains only the population that is not already within a range of S kilometers\n",
    "withinSkm = matrix_current[matrix_current.distance_corrected<=distance_threshold_smallest]\n",
    "withinSkm=withinSkm['Pop_ID'].unique()\n",
    "population_new = population.drop(population[population.ID.isin(withinSkm)].index.tolist())"
   ]
  },
  {
   "cell_type": "code",
   "execution_count": null,
   "metadata": {},
   "outputs": [],
   "source": [
    "%%time\n",
    "# Calculate distance to new hospitals\n",
    "pop_subset = population_new[['nearest_node','xcoord','ycoord']]\n",
    "matrix_new = DistanceCalculation(network, new_hospitals, population, pop_subset, distance_threshold_largest)\n",
    "matrix_new = matrix_new[['ID','pop_dist_road_estrada','household_count','xcoord','ycoord',\n",
    "                                 'Cluster_ID','hosp_dist_road_estrada','Longitude','Latitude',\n",
    "                                 'shortest_path_length','euclidean_distance','total_network_distance', 'distance_corrected']]\n",
    "matrix_new = matrix_new.rename(columns={'ID':'Pop_ID'})"
   ]
  },
  {
   "cell_type": "markdown",
   "metadata": {},
   "source": [
    "# Optimization "
   ]
  },
  {
   "cell_type": "code",
   "execution_count": null,
   "metadata": {},
   "outputs": [],
   "source": [
    "%%time\n",
    "# Add matrix with distances of new hospitals to matrix of distances of current hospitals\n",
    "matrix_new1 = matrix_new[['Pop_ID','Cluster_ID','distance_corrected']]\n",
    "matrix_current1 = matrix_current[['Pop_ID','Hosp_ID','distance_corrected']]\n",
    "matrix_new1.columns = ['Pop_ID','HospCluster','distance']\n",
    "matrix_current1.columns = ['Pop_ID','HospCluster','distance']\n",
    "df_combined = pd.concat([matrix_current1, matrix_new1],axis=0)\n",
    "df_combined= df_combined.sort_values(by='Pop_ID')"
   ]
  },
  {
   "cell_type": "markdown",
   "metadata": {},
   "source": [
    "# Model\n",
    "\n",
    "\n",
    "\n",
    "\n",
    "$\\textrm{Maximize } \\quad \\sum_i v_iy_i $ \n",
    "\n",
    "$\\textrm{Subject to } \\quad x_j = 1 \\quad \\quad \\quad \\quad \\quad\\forall j = 1, ... m $\n",
    "\n",
    "$ \\quad \\quad \\quad \\quad \\quad \\sum^{M}_{j=m+1} x_j \\leq p  $\n",
    "\n",
    "$ \\quad \\quad \\quad \\quad \\quad y_i \\leq \\sum_{j|d_{ij}\\leq S} x_j \\quad  \\forall i \\in I$\n",
    "\n",
    "$ \\quad \\quad \\quad \\quad \\quad y_i, x_j \\in \\{0,1\\} \\quad \\quad\\forall i \\in I, \\forall j \\in J $\n",
    "\n",
    "where: \n",
    "\n",
    "- $I$ = the index set of households, or clusters of households, indexed by $i = 1, ..., n$. \n",
    "\n",
    "- $J$ = the index set of all healthcare sites, where indices $j = 1, ..., m$ are corresponding to the already existing healthcare facilities and indices $j = m+1, ..., M$ are corresponding to potential hospital locations\n",
    "\n",
    "- $v_i$ = the number of people in (cluster of) household(s) $i$\n",
    "\n",
    "- $d_{ij}$ = the travel distance from (cluster of) household(s) $i$ to hospital facility $j$\n",
    "\n",
    "- $S$ = the maximum travel distance from a household (or cluster) to a health care facility\n",
    "\n",
    "- $p$ = the number of additional hospitals located.\n",
    "\n",
    "Decision variables:\n",
    "$\n",
    "x_j = \\begin{cases} 1 & \\text{ if hospital } j \\text{ is opened} \\\\\n",
    "0 & \\text{ otherwise}\n",
    "\\end{cases} \\\\\n",
    "$\n",
    "$\n",
    "y_i = \\begin{cases} 1 & \\text{ if there is an opened health facility within } S \\\\ & \\text{ kilometers travel distance away from the (cluster of) household(s) } i\\\\\n",
    "0 & \\text{ otherwise}\n",
    "\\end{cases}\n",
    "$\n"
   ]
  },
  {
   "cell_type": "code",
   "execution_count": null,
   "metadata": {},
   "outputs": [],
   "source": [
    "S = 2\n",
    "nhospitals = [10,20,30,40,50,60,70,80,90,100,150,200,250,300,400,500,750,1000,2500,5000,7500,10000,14928]\n",
    "opt_array, tModeling, tSolving = OptimizationModel(array_household, current_hospitals_ID, new_hospitals_ID, df_combined, S, nhospitals, MipGap)\n",
    "df_opt_outputs = pd.DataFrame(opt_array)"
   ]
  },
  {
   "cell_type": "code",
   "execution_count": null,
   "metadata": {},
   "outputs": [],
   "source": [
    "df_opt_outputs"
   ]
  },
  {
   "cell_type": "code",
   "execution_count": null,
   "metadata": {},
   "outputs": [],
   "source": [
    "# Time to solve the model + extract the solution\n",
    "tModeling"
   ]
  },
  {
   "cell_type": "code",
   "execution_count": null,
   "metadata": {},
   "outputs": [],
   "source": [
    "tSolving"
   ]
  },
  {
   "cell_type": "code",
   "execution_count": null,
   "metadata": {},
   "outputs": [],
   "source": [
    "S = 5\n",
    "MipGap = 0.001\n",
    "nhospitals = [10,20,30,40,50,60,70,80,90,100,150,200,250,300,400,500,750,1000,2500,5000,7500,10000,14928]\n",
    "opt_array, tModeling, tSolving = OptimizationModel(array_household, current_hospitals_ID, new_hospitals_ID, df_combined, S, nhospitals, MipGap)\n",
    "df_opt_outputs = pd.DataFrame(opt_array)"
   ]
  },
  {
   "cell_type": "code",
   "execution_count": null,
   "metadata": {},
   "outputs": [],
   "source": [
    "df_opt_outputs"
   ]
  },
  {
   "cell_type": "code",
   "execution_count": null,
   "metadata": {},
   "outputs": [],
   "source": [
    "# Time to solve the model + extract the solution\n",
    "tModeling"
   ]
  },
  {
   "cell_type": "code",
   "execution_count": null,
   "metadata": {},
   "outputs": [],
   "source": [
    "tSolving"
   ]
  }
 ],
 "metadata": {
  "kernelspec": {
   "display_name": "Python 3",
   "language": "python",
   "name": "python3"
  },
  "language_info": {
   "codemirror_mode": {
    "name": "ipython",
    "version": 3
   },
   "file_extension": ".py",
   "mimetype": "text/x-python",
   "name": "python",
   "nbconvert_exporter": "python",
   "pygments_lexer": "ipython3",
   "version": "3.8.3"
  }
 },
 "nbformat": 4,
 "nbformat_minor": 5
}
