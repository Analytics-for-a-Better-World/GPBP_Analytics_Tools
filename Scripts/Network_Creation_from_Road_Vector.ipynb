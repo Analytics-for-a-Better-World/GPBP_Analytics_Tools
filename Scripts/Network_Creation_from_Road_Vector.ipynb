{
  "nbformat": 4,
  "nbformat_minor": 0,
  "metadata": {
    "colab": {
      "name": "Network Creation from Road Vector.ipynb",
      "provenance": [],
      "collapsed_sections": []
    },
    "kernelspec": {
      "name": "python3",
      "display_name": "Python 3"
    },
    "language_info": {
      "name": "python"
    }
  },
  "cells": [
    {
      "cell_type": "code",
      "metadata": {
        "id": "lqWegxEkjJon"
      },
      "source": [
        "import pandas as pd\n",
        "import geopandas as gpd\n",
        "import geopy.distance\n",
        "import pandana"
      ],
      "execution_count": 2,
      "outputs": []
    },
    {
      "cell_type": "code",
      "metadata": {
        "id": "iQS6DgXuhrVY"
      },
      "source": [
        "def get_length_edge(x):\n",
        "  lon_x = float(x['from_x'])\n",
        "  lat_x = float(x['from_y'])    \n",
        "  lon_y = float(x['to_x'])\n",
        "  lat_y = float(x['to_y'])\n",
        "  dist = geopy.distance.geodesic((lat_x,lon_x),(lat_y,lon_y))\n",
        "  return((dist.meters)/1000)\n",
        "\n",
        "def get_nodes_and_edges(json_file,rounding=5):\n",
        "    \"\"\"Use geopandas to read line shapefile and compile all paths and nodes in a line file based on a rounding tolerance.\n",
        "    shp_file:path to polyline file with end to end connectivity\n",
        "    rounding: tolerance parameter for coordinate precision\"\"\"\n",
        "    edges = gpd.read_file(json_file,driver='GeoJSON')\n",
        "    edges[\"from_x\"]=edges[\"geometry\"].apply(lambda x:round(x.coords[0][0],rounding))\n",
        "    edges[\"from_y\"]=edges[\"geometry\"].apply(lambda x:round(x.coords[0][1],rounding))\n",
        "    edges[\"to_x\"]=edges[\"geometry\"].apply(lambda x:round(x.coords[-1][0],rounding))\n",
        "    edges[\"to_y\"]=edges[\"geometry\"].apply(lambda x:round(x.coords[-1][1],rounding))\n",
        "    nodes_from = edges[[\"from_x\",\"from_y\"]].rename(index=str,columns={\"from_x\":\"x\",\"from_y\":\"y\"})\n",
        "    nodes_to = edges[[\"to_x\",\"to_y\"]].rename(index=str,columns={\"to_x\":\"x\",\"to_y\":\"y\"})\n",
        "    nodes = pd.concat([nodes_from,nodes_to],axis=0)\n",
        "    nodes[\"xy\"] = list(zip(nodes[\"x\"], nodes[\"y\"]))\n",
        "    nodes = pd.DataFrame(nodes[\"xy\"].unique(),columns=[\"xy\"])\n",
        "    nodes[\"x\"] = nodes[\"xy\"].apply(lambda x: x[0])\n",
        "    nodes[\"y\"] = nodes[\"xy\"].apply(lambda x: x[1])\n",
        "    nodes = nodes[[\"x\",\"y\"]].copy()\n",
        "    nodes = nodes.reset_index()\n",
        "    nodes.columns = ['nodeID','lon','lat']\n",
        "    edges_attr = pd.merge(edges,nodes,left_on=['from_x','from_y'], right_on=['lon','lat'])\n",
        "    edges_attr = pd.merge(edges_attr,nodes,left_on=['to_x','to_y'], right_on=['lon','lat'])\n",
        "    edges_attr.rename(columns= {'nodeID_x':'node_start','nodeID_y':'node_end'},inplace=True)\n",
        "    edges_attr['len_km'] = edges_attr[['from_x','from_y','to_x','to_y']].apply(get_length_edge_geopy,axis=1)\n",
        "\n",
        "    # Road Network Data in Nodes and Edges nodes as a Pandana Network\n",
        "    network = pandana.Network(nodes['lon'], nodes['lat'], \n",
        "                              edges_attr['node_start'], edges_attr['node_end'], edges_attr[['len_km']],twoway=True)\n",
        "    return network"
      ],
      "execution_count": 3,
      "outputs": []
    }
  ]
}